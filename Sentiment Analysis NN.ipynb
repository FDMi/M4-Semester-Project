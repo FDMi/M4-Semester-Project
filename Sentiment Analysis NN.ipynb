{
 "cells": [
  {
   "cell_type": "code",
   "execution_count": 1,
   "id": "f9de0a92",
   "metadata": {},
   "outputs": [],
   "source": [
    "import pandas as pd"
   ]
  },
  {
   "cell_type": "code",
   "execution_count": 3,
   "id": "e563df1c",
   "metadata": {},
   "outputs": [],
   "source": [
    "data = pd.read_csv(\"c:/Users/kesut/Desktop/all_tweets_second_try.csv\")"
   ]
  },
  {
   "cell_type": "code",
   "execution_count": 4,
   "id": "3db06fcf",
   "metadata": {},
   "outputs": [
    {
     "data": {
      "text/html": [
       "<div>\n",
       "<style scoped>\n",
       "    .dataframe tbody tr th:only-of-type {\n",
       "        vertical-align: middle;\n",
       "    }\n",
       "\n",
       "    .dataframe tbody tr th {\n",
       "        vertical-align: top;\n",
       "    }\n",
       "\n",
       "    .dataframe thead th {\n",
       "        text-align: right;\n",
       "    }\n",
       "</style>\n",
       "<table border=\"1\" class=\"dataframe\">\n",
       "  <thead>\n",
       "    <tr style=\"text-align: right;\">\n",
       "      <th></th>\n",
       "      <th>time</th>\n",
       "      <th>id</th>\n",
       "      <th>body</th>\n",
       "      <th>username</th>\n",
       "      <th>replycount</th>\n",
       "      <th>likecount</th>\n",
       "      <th>retweetcount</th>\n",
       "    </tr>\n",
       "  </thead>\n",
       "  <tbody>\n",
       "    <tr>\n",
       "      <th>0</th>\n",
       "      <td>2021-04-26 23:59:39+00:00</td>\n",
       "      <td>1.390000e+18</td>\n",
       "      <td>Second #NFT drop💧 SHA-Llama #1 (of 10) availab...</td>\n",
       "      <td>HashHead_NFT</td>\n",
       "      <td>0</td>\n",
       "      <td>3</td>\n",
       "      <td>0</td>\n",
       "    </tr>\n",
       "    <tr>\n",
       "      <th>1</th>\n",
       "      <td>2021-04-26 23:59:35+00:00</td>\n",
       "      <td>1.390000e+18</td>\n",
       "      <td>Look what I found! Amigos Absolutos collectibl...</td>\n",
       "      <td>jihlpez</td>\n",
       "      <td>0</td>\n",
       "      <td>1</td>\n",
       "      <td>0</td>\n",
       "    </tr>\n",
       "    <tr>\n",
       "      <th>2</th>\n",
       "      <td>2021-04-26 23:59:24+00:00</td>\n",
       "      <td>1.390000e+18</td>\n",
       "      <td>My special NFT. Like the MCU, it's begining of...</td>\n",
       "      <td>SuperHeroPunks</td>\n",
       "      <td>0</td>\n",
       "      <td>1</td>\n",
       "      <td>0</td>\n",
       "    </tr>\n",
       "    <tr>\n",
       "      <th>3</th>\n",
       "      <td>2021-04-26 23:58:18+00:00</td>\n",
       "      <td>1.390000e+18</td>\n",
       "      <td>CHIEF NEZ PEARCE NFT\\n\\n\"It does not require m...</td>\n",
       "      <td>GioZanolino</td>\n",
       "      <td>0</td>\n",
       "      <td>6</td>\n",
       "      <td>0</td>\n",
       "    </tr>\n",
       "    <tr>\n",
       "      <th>4</th>\n",
       "      <td>2021-04-26 23:57:55+00:00</td>\n",
       "      <td>1.390000e+18</td>\n",
       "      <td>Look what I found! Earth Day collectible https...</td>\n",
       "      <td>farshm5</td>\n",
       "      <td>0</td>\n",
       "      <td>0</td>\n",
       "      <td>0</td>\n",
       "    </tr>\n",
       "    <tr>\n",
       "      <th>...</th>\n",
       "      <td>...</td>\n",
       "      <td>...</td>\n",
       "      <td>...</td>\n",
       "      <td>...</td>\n",
       "      <td>...</td>\n",
       "      <td>...</td>\n",
       "      <td>...</td>\n",
       "    </tr>\n",
       "    <tr>\n",
       "      <th>372371</th>\n",
       "      <td>2020-01-01 05:59:21+00:00</td>\n",
       "      <td>1.210000e+18</td>\n",
       "      <td>@binance @enjin @opensea Is that true? All NFT...</td>\n",
       "      <td>xubai135</td>\n",
       "      <td>0</td>\n",
       "      <td>0</td>\n",
       "      <td>0</td>\n",
       "    </tr>\n",
       "    <tr>\n",
       "      <th>372372</th>\n",
       "      <td>2020-01-01 05:17:20+00:00</td>\n",
       "      <td>1.210000e+18</td>\n",
       "      <td>@binance @opensea Please let us more sincere, ...</td>\n",
       "      <td>bailaoshi008</td>\n",
       "      <td>0</td>\n",
       "      <td>0</td>\n",
       "      <td>0</td>\n",
       "    </tr>\n",
       "    <tr>\n",
       "      <th>372373</th>\n",
       "      <td>2020-01-01 04:55:47+00:00</td>\n",
       "      <td>1.210000e+18</td>\n",
       "      <td>@ninizhao3 @binance @enjin @opensea Look on th...</td>\n",
       "      <td>NZY331</td>\n",
       "      <td>1</td>\n",
       "      <td>1</td>\n",
       "      <td>0</td>\n",
       "    </tr>\n",
       "    <tr>\n",
       "      <th>372374</th>\n",
       "      <td>2020-01-01 04:55:37+00:00</td>\n",
       "      <td>1.210000e+18</td>\n",
       "      <td>@Soho911 @binance @enjin @opensea Look on the ...</td>\n",
       "      <td>NZY331</td>\n",
       "      <td>0</td>\n",
       "      <td>0</td>\n",
       "      <td>0</td>\n",
       "    </tr>\n",
       "    <tr>\n",
       "      <th>372375</th>\n",
       "      <td>2020-01-01 01:41:19+00:00</td>\n",
       "      <td>1.210000e+18</td>\n",
       "      <td>WizardX Rare Art on the OpenSea homepage! :) S...</td>\n",
       "      <td>WizardX_0x</td>\n",
       "      <td>0</td>\n",
       "      <td>1</td>\n",
       "      <td>0</td>\n",
       "    </tr>\n",
       "  </tbody>\n",
       "</table>\n",
       "<p>372376 rows × 7 columns</p>\n",
       "</div>"
      ],
      "text/plain": [
       "                             time            id  \\\n",
       "0       2021-04-26 23:59:39+00:00  1.390000e+18   \n",
       "1       2021-04-26 23:59:35+00:00  1.390000e+18   \n",
       "2       2021-04-26 23:59:24+00:00  1.390000e+18   \n",
       "3       2021-04-26 23:58:18+00:00  1.390000e+18   \n",
       "4       2021-04-26 23:57:55+00:00  1.390000e+18   \n",
       "...                           ...           ...   \n",
       "372371  2020-01-01 05:59:21+00:00  1.210000e+18   \n",
       "372372  2020-01-01 05:17:20+00:00  1.210000e+18   \n",
       "372373  2020-01-01 04:55:47+00:00  1.210000e+18   \n",
       "372374  2020-01-01 04:55:37+00:00  1.210000e+18   \n",
       "372375  2020-01-01 01:41:19+00:00  1.210000e+18   \n",
       "\n",
       "                                                     body        username  \\\n",
       "0       Second #NFT drop💧 SHA-Llama #1 (of 10) availab...    HashHead_NFT   \n",
       "1       Look what I found! Amigos Absolutos collectibl...         jihlpez   \n",
       "2       My special NFT. Like the MCU, it's begining of...  SuperHeroPunks   \n",
       "3       CHIEF NEZ PEARCE NFT\\n\\n\"It does not require m...     GioZanolino   \n",
       "4       Look what I found! Earth Day collectible https...         farshm5   \n",
       "...                                                   ...             ...   \n",
       "372371  @binance @enjin @opensea Is that true? All NFT...        xubai135   \n",
       "372372  @binance @opensea Please let us more sincere, ...    bailaoshi008   \n",
       "372373  @ninizhao3 @binance @enjin @opensea Look on th...          NZY331   \n",
       "372374  @Soho911 @binance @enjin @opensea Look on the ...          NZY331   \n",
       "372375  WizardX Rare Art on the OpenSea homepage! :) S...      WizardX_0x   \n",
       "\n",
       "        replycount  likecount  retweetcount  \n",
       "0                0          3             0  \n",
       "1                0          1             0  \n",
       "2                0          1             0  \n",
       "3                0          6             0  \n",
       "4                0          0             0  \n",
       "...            ...        ...           ...  \n",
       "372371           0          0             0  \n",
       "372372           0          0             0  \n",
       "372373           1          1             0  \n",
       "372374           0          0             0  \n",
       "372375           0          1             0  \n",
       "\n",
       "[372376 rows x 7 columns]"
      ]
     },
     "execution_count": 4,
     "metadata": {},
     "output_type": "execute_result"
    }
   ],
   "source": [
    "#Looking at the columns\n",
    "data"
   ]
  },
  {
   "cell_type": "code",
   "execution_count": 5,
   "id": "d08fcb8f",
   "metadata": {},
   "outputs": [
    {
     "data": {
      "text/plain": [
       "'Pixelated Dreams NFT #10! 🎨🌈✌ @pixelateddream5  \\n\\nhttps://t.co/z36yQuD6TD\\n\\n#nft #nfts #nftcommunity #nftdrop #nftart #nftartist #crypto #cryptoart #cryptoartist #cryptocurrency #blockchain #blockchainart #blockchainartist #ethereum #opensea'"
      ]
     },
     "execution_count": 5,
     "metadata": {},
     "output_type": "execute_result"
    }
   ],
   "source": [
    "data['body'][7]"
   ]
  },
  {
   "cell_type": "code",
   "execution_count": 6,
   "id": "2f69a917",
   "metadata": {},
   "outputs": [
    {
     "name": "stdout",
     "output_type": "stream",
     "text": [
      "Requirement already satisfied: transformers in c:\\users\\kesut\\anaconda3\\lib\\site-packages (4.15.0)\n",
      "Requirement already satisfied: tokenizers<0.11,>=0.10.1 in c:\\users\\kesut\\anaconda3\\lib\\site-packages (from transformers) (0.10.3)\n",
      "Requirement already satisfied: huggingface-hub<1.0,>=0.1.0 in c:\\users\\kesut\\anaconda3\\lib\\site-packages (from transformers) (0.2.1)\n",
      "Requirement already satisfied: tqdm>=4.27 in c:\\users\\kesut\\anaconda3\\lib\\site-packages (from transformers) (4.62.3)\n",
      "Requirement already satisfied: filelock in c:\\users\\kesut\\anaconda3\\lib\\site-packages (from transformers) (3.4.0)\n",
      "Requirement already satisfied: regex!=2019.12.17 in c:\\users\\kesut\\anaconda3\\lib\\site-packages (from transformers) (2021.8.3)\n",
      "Requirement already satisfied: requests in c:\\users\\kesut\\anaconda3\\lib\\site-packages (from transformers) (2.26.0)\n",
      "Requirement already satisfied: sacremoses in c:\\users\\kesut\\anaconda3\\lib\\site-packages (from transformers) (0.0.46)\n",
      "Requirement already satisfied: pyyaml>=5.1 in c:\\users\\kesut\\anaconda3\\lib\\site-packages (from transformers) (6.0)\n",
      "Requirement already satisfied: numpy>=1.17 in c:\\users\\kesut\\anaconda3\\lib\\site-packages (from transformers) (1.20.3)\n",
      "Requirement already satisfied: packaging>=20.0 in c:\\users\\kesut\\anaconda3\\lib\\site-packages (from transformers) (21.3)\n",
      "Requirement already satisfied: typing-extensions>=3.7.4.3 in c:\\users\\kesut\\anaconda3\\lib\\site-packages (from huggingface-hub<1.0,>=0.1.0->transformers) (3.10.0.2)\n",
      "Requirement already satisfied: pyparsing!=3.0.5,>=2.0.2 in c:\\users\\kesut\\anaconda3\\lib\\site-packages (from packaging>=20.0->transformers) (3.0.4)\n",
      "Requirement already satisfied: colorama in c:\\users\\kesut\\anaconda3\\lib\\site-packages (from tqdm>=4.27->transformers) (0.4.4)\n",
      "Requirement already satisfied: charset-normalizer~=2.0.0 in c:\\users\\kesut\\anaconda3\\lib\\site-packages (from requests->transformers) (2.0.4)\n",
      "Requirement already satisfied: idna<4,>=2.5 in c:\\users\\kesut\\anaconda3\\lib\\site-packages (from requests->transformers) (3.3)\n",
      "Requirement already satisfied: certifi>=2017.4.17 in c:\\users\\kesut\\anaconda3\\lib\\site-packages (from requests->transformers) (2021.10.8)\n",
      "Requirement already satisfied: urllib3<1.27,>=1.21.1 in c:\\users\\kesut\\anaconda3\\lib\\site-packages (from requests->transformers) (1.26.7)\n",
      "Requirement already satisfied: six in c:\\users\\kesut\\anaconda3\\lib\\site-packages (from sacremoses->transformers) (1.16.0)\n",
      "Requirement already satisfied: click in c:\\users\\kesut\\anaconda3\\lib\\site-packages (from sacremoses->transformers) (8.0.3)\n",
      "Requirement already satisfied: joblib in c:\\users\\kesut\\anaconda3\\lib\\site-packages (from sacremoses->transformers) (1.1.0)\n"
     ]
    }
   ],
   "source": [
    "#Importing relevant libraries\n",
    "!pip install transformers"
   ]
  },
  {
   "cell_type": "code",
   "execution_count": 7,
   "id": "d2f050dd",
   "metadata": {},
   "outputs": [],
   "source": [
    "#Importing pipeline (to streamline the sentiment analysis using a pre-trained model)\n",
    "from transformers import pipeline"
   ]
  },
  {
   "cell_type": "code",
   "execution_count": 8,
   "id": "af71bed4",
   "metadata": {},
   "outputs": [
    {
     "name": "stdout",
     "output_type": "stream",
     "text": [
      "Requirement already satisfied: emoji in c:\\users\\kesut\\anaconda3\\lib\\site-packages (1.6.1)\n"
     ]
    }
   ],
   "source": [
    "#Installing emoji package\n",
    "!pip install emoji"
   ]
  },
  {
   "cell_type": "code",
   "execution_count": 9,
   "id": "ad36387d",
   "metadata": {},
   "outputs": [],
   "source": [
    "#Setting the pipeline up to use a specific model for sentiment analysis\n",
    "#NOTE: the last tokens (from 128) are cut off from the analysis because the model was trained for 128 tokens \n",
    "model = pipeline('sentiment-analysis', model=\"finiteautomata/bertweet-base-sentiment-analysis\", truncation=True)"
   ]
  },
  {
   "cell_type": "code",
   "execution_count": 10,
   "id": "bb7ae347",
   "metadata": {},
   "outputs": [],
   "source": [
    "#Applies the model and creates the label and score and adds the columns to the dataframe\n",
    "#NOTE: will take a long time \n",
    "data = (\n",
    "    data\n",
    "    .assign(sentiment = lambda x: x['body'].apply(lambda s: model(s)))\n",
    "    .assign(\n",
    "         label = lambda x: x['sentiment'].apply(lambda s: (s[0]['label'])),\n",
    "         score = lambda x: x['sentiment'].apply(lambda s: (s[0]['score']))\n",
    "    )\n",
    ")"
   ]
  },
  {
   "cell_type": "code",
   "execution_count": 11,
   "id": "a19af446",
   "metadata": {},
   "outputs": [
    {
     "data": {
      "text/plain": [
       "NEU    194002\n",
       "POS    169331\n",
       "NEG      9043\n",
       "Name: label, dtype: int64"
      ]
     },
     "execution_count": 11,
     "metadata": {},
     "output_type": "execute_result"
    }
   ],
   "source": [
    "#To see how many tweets were categorized into each category\n",
    "data[\"label\"].value_counts()"
   ]
  },
  {
   "cell_type": "code",
   "execution_count": null,
   "id": "4d36ecfc",
   "metadata": {},
   "outputs": [],
   "source": [
    "#Saving it as an excel file\n",
    "data.to_csv(r'NN_uncleaned_labels.csv', index = False)"
   ]
  }
 ],
 "metadata": {
  "kernelspec": {
   "display_name": "Python 3 (ipykernel)",
   "language": "python",
   "name": "python3"
  },
  "language_info": {
   "codemirror_mode": {
    "name": "ipython",
    "version": 3
   },
   "file_extension": ".py",
   "mimetype": "text/x-python",
   "name": "python",
   "nbconvert_exporter": "python",
   "pygments_lexer": "ipython3",
   "version": "3.8.8"
  }
 },
 "nbformat": 4,
 "nbformat_minor": 5
}
