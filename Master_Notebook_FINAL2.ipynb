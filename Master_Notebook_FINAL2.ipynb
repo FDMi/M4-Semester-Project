{
 "cells": [
  {
   "cell_type": "markdown",
   "metadata": {
    "id": "_XDPHOXYtfC3"
   },
   "source": [
    "This notebook contains all of the code used for the project. This was initially contained within multiple notebooks, which will be divided into sections. Some libraries imports and such will be repeated, because the code for each section and stage of the research is meant to be easily reproducible. "
   ]
  },
  {
   "cell_type": "markdown",
   "metadata": {
    "id": "wCCH0eYAup-V"
   },
   "source": [
    "Preprocessing of original file from the journal"
   ]
  },
  {
   "cell_type": "code",
   "execution_count": 5,
   "metadata": {},
   "outputs": [],
   "source": [
    "import pandas as pd"
   ]
  },
  {
   "cell_type": "code",
   "execution_count": 6,
   "metadata": {},
   "outputs": [
    {
     "name": "stderr",
     "output_type": "stream",
     "text": [
      "C:\\Users\\kesut\\anaconda3\\lib\\site-packages\\IPython\\core\\interactiveshell.py:3444: DtypeWarning: Columns (0,1,2,4,6,8,9,10,14,15,20) have mixed types.Specify dtype option on import or set low_memory=False.\n",
      "  exec(code_obj, self.user_global_ns, self.user_ns)\n"
     ]
    }
   ],
   "source": [
    "#Set the name of the dataframe\n",
    "data = pd.read_csv(\"c:/Users/kesut/Desktop/Data_API.csv\")"
   ]
  },
  {
   "cell_type": "code",
   "execution_count": 8,
   "metadata": {},
   "outputs": [
    {
     "name": "stdout",
     "output_type": "stream",
     "text": [
      "<class 'pandas.core.frame.DataFrame'>\n",
      "RangeIndex: 6071027 entries, 0 to 6071026\n",
      "Data columns (total 24 columns):\n",
      " #   Column                    Dtype  \n",
      "---  ------                    -----  \n",
      " 0   Smart_contract            object \n",
      " 1   ID_token                  object \n",
      " 2   Transaction_hash          object \n",
      " 3   Seller_address            object \n",
      " 4   Seller_username           object \n",
      " 5   Buyer_address             object \n",
      " 6   Buyer_username            object \n",
      " 7   Image_url_1               object \n",
      " 8   Image_url_2               object \n",
      " 9   Image_url_3               object \n",
      " 10  Image_url_4               object \n",
      " 11  Price_Crypto              float64\n",
      " 12  Crypto                    object \n",
      " 13  Price_USD                 float64\n",
      " 14  Name                      object \n",
      " 15  Description               object \n",
      " 16  Collection                object \n",
      " 17  Market                    object \n",
      " 18  Datetime_updated          object \n",
      " 19  Datetime_updated_seconds  object \n",
      " 20  Permanent_link            object \n",
      " 21  Unique_id_collection      object \n",
      " 22  Collection_cleaned        object \n",
      " 23  Category                  object \n",
      "dtypes: float64(2), object(22)\n",
      "memory usage: 1.1+ GB\n"
     ]
    }
   ],
   "source": [
    "#Shows the number of columns of the dataframe \n",
    "data.info()"
   ]
  },
  {
   "cell_type": "code",
   "execution_count": 9,
   "metadata": {},
   "outputs": [
    {
     "data": {
      "text/html": [
       "<div>\n",
       "<style scoped>\n",
       "    .dataframe tbody tr th:only-of-type {\n",
       "        vertical-align: middle;\n",
       "    }\n",
       "\n",
       "    .dataframe tbody tr th {\n",
       "        vertical-align: top;\n",
       "    }\n",
       "\n",
       "    .dataframe thead th {\n",
       "        text-align: right;\n",
       "    }\n",
       "</style>\n",
       "<table border=\"1\" class=\"dataframe\">\n",
       "  <thead>\n",
       "    <tr style=\"text-align: right;\">\n",
       "      <th></th>\n",
       "      <th>Smart_contract</th>\n",
       "      <th>ID_token</th>\n",
       "      <th>Transaction_hash</th>\n",
       "      <th>Seller_address</th>\n",
       "      <th>Seller_username</th>\n",
       "      <th>Buyer_address</th>\n",
       "      <th>Buyer_username</th>\n",
       "      <th>Image_url_1</th>\n",
       "      <th>Image_url_2</th>\n",
       "      <th>Image_url_3</th>\n",
       "      <th>...</th>\n",
       "      <th>Name</th>\n",
       "      <th>Description</th>\n",
       "      <th>Collection</th>\n",
       "      <th>Market</th>\n",
       "      <th>Datetime_updated</th>\n",
       "      <th>Datetime_updated_seconds</th>\n",
       "      <th>Permanent_link</th>\n",
       "      <th>Unique_id_collection</th>\n",
       "      <th>Collection_cleaned</th>\n",
       "      <th>Category</th>\n",
       "    </tr>\n",
       "  </thead>\n",
       "  <tbody>\n",
       "    <tr>\n",
       "      <th>0</th>\n",
       "      <td>NaN</td>\n",
       "      <td>87094722.0</td>\n",
       "      <td>0xed9ff1c311a611e5c457ce0a49bbbb7ed55efca98842...</td>\n",
       "      <td>0x76481caa104b5f6bccb540dae4cefaf1c398ebea</td>\n",
       "      <td>NaN</td>\n",
       "      <td>0xe0fb7622091e3d9ef9b438471b10b9ea88c7cf6b</td>\n",
       "      <td>NaN</td>\n",
       "      <td>https://card.godsunchained.com/?id=33&amp;q=4</td>\n",
       "      <td>NaN</td>\n",
       "      <td>NaN</td>\n",
       "      <td>...</td>\n",
       "      <td>NaN</td>\n",
       "      <td>NaN</td>\n",
       "      <td>Godsunchained</td>\n",
       "      <td>Godsunchained</td>\n",
       "      <td>2019-11-30 00:00:00</td>\n",
       "      <td>2019-11-30 23:59:33</td>\n",
       "      <td>NaN</td>\n",
       "      <td>('Godsunchained', '87094722.0')</td>\n",
       "      <td>Godsunchained</td>\n",
       "      <td>Games</td>\n",
       "    </tr>\n",
       "    <tr>\n",
       "      <th>1</th>\n",
       "      <td>NaN</td>\n",
       "      <td>73044643.0</td>\n",
       "      <td>0xbc8412594ffa7382e8306215ece5b4e041fc641b1813...</td>\n",
       "      <td>0x76481caa104b5f6bccb540dae4cefaf1c398ebea</td>\n",
       "      <td>NaN</td>\n",
       "      <td>0x2c00d05ff7ffe93d77145dfe12aa56e622ae6f40</td>\n",
       "      <td>NaN</td>\n",
       "      <td>https://card.godsunchained.com/?id=79&amp;q=4</td>\n",
       "      <td>NaN</td>\n",
       "      <td>NaN</td>\n",
       "      <td>...</td>\n",
       "      <td>NaN</td>\n",
       "      <td>NaN</td>\n",
       "      <td>Godsunchained</td>\n",
       "      <td>Godsunchained</td>\n",
       "      <td>2019-11-30 00:00:00</td>\n",
       "      <td>2019-11-30 23:59:33</td>\n",
       "      <td>NaN</td>\n",
       "      <td>('Godsunchained', '73044643.0')</td>\n",
       "      <td>Godsunchained</td>\n",
       "      <td>Games</td>\n",
       "    </tr>\n",
       "    <tr>\n",
       "      <th>2</th>\n",
       "      <td>NaN</td>\n",
       "      <td>17107482.0</td>\n",
       "      <td>0x92672baf5e9e23de230dee8e57ddf443ab6d5a336341...</td>\n",
       "      <td>0x76481caa104b5f6bccb540dae4cefaf1c398ebea</td>\n",
       "      <td>NaN</td>\n",
       "      <td>0xe0fb7622091e3d9ef9b438471b10b9ea88c7cf6b</td>\n",
       "      <td>NaN</td>\n",
       "      <td>https://card.godsunchained.com/?id=33&amp;q=4</td>\n",
       "      <td>NaN</td>\n",
       "      <td>NaN</td>\n",
       "      <td>...</td>\n",
       "      <td>NaN</td>\n",
       "      <td>NaN</td>\n",
       "      <td>Godsunchained</td>\n",
       "      <td>Godsunchained</td>\n",
       "      <td>2019-11-30 00:00:00</td>\n",
       "      <td>2019-11-30 23:59:33</td>\n",
       "      <td>NaN</td>\n",
       "      <td>('Godsunchained', '17107482.0')</td>\n",
       "      <td>Godsunchained</td>\n",
       "      <td>Games</td>\n",
       "    </tr>\n",
       "    <tr>\n",
       "      <th>3</th>\n",
       "      <td>NaN</td>\n",
       "      <td>82230857.0</td>\n",
       "      <td>0x3d157249e3083622c2d756f07a05caa3a76687288b32...</td>\n",
       "      <td>0x76481caa104b5f6bccb540dae4cefaf1c398ebea</td>\n",
       "      <td>NaN</td>\n",
       "      <td>0x2c00d05ff7ffe93d77145dfe12aa56e622ae6f40</td>\n",
       "      <td>NaN</td>\n",
       "      <td>https://card.godsunchained.com/?id=227&amp;q=4</td>\n",
       "      <td>NaN</td>\n",
       "      <td>NaN</td>\n",
       "      <td>...</td>\n",
       "      <td>NaN</td>\n",
       "      <td>NaN</td>\n",
       "      <td>Godsunchained</td>\n",
       "      <td>Godsunchained</td>\n",
       "      <td>2019-11-30 00:00:00</td>\n",
       "      <td>2019-11-30 23:59:33</td>\n",
       "      <td>NaN</td>\n",
       "      <td>('Godsunchained', '82230857.0')</td>\n",
       "      <td>Godsunchained</td>\n",
       "      <td>Games</td>\n",
       "    </tr>\n",
       "    <tr>\n",
       "      <th>4</th>\n",
       "      <td>NaN</td>\n",
       "      <td>40925443.0</td>\n",
       "      <td>0xa892b3569dc8e6b3c7db93aade62372637ebbc61fb63...</td>\n",
       "      <td>0x76481caa104b5f6bccb540dae4cefaf1c398ebea</td>\n",
       "      <td>NaN</td>\n",
       "      <td>0x2c00d05ff7ffe93d77145dfe12aa56e622ae6f40</td>\n",
       "      <td>NaN</td>\n",
       "      <td>https://card.godsunchained.com/?id=62&amp;q=4</td>\n",
       "      <td>NaN</td>\n",
       "      <td>NaN</td>\n",
       "      <td>...</td>\n",
       "      <td>NaN</td>\n",
       "      <td>NaN</td>\n",
       "      <td>Godsunchained</td>\n",
       "      <td>Godsunchained</td>\n",
       "      <td>2019-11-30 00:00:00</td>\n",
       "      <td>2019-11-30 23:58:44</td>\n",
       "      <td>NaN</td>\n",
       "      <td>('Godsunchained', '40925443.0')</td>\n",
       "      <td>Godsunchained</td>\n",
       "      <td>Games</td>\n",
       "    </tr>\n",
       "    <tr>\n",
       "      <th>...</th>\n",
       "      <td>...</td>\n",
       "      <td>...</td>\n",
       "      <td>...</td>\n",
       "      <td>...</td>\n",
       "      <td>...</td>\n",
       "      <td>...</td>\n",
       "      <td>...</td>\n",
       "      <td>...</td>\n",
       "      <td>...</td>\n",
       "      <td>...</td>\n",
       "      <td>...</td>\n",
       "      <td>...</td>\n",
       "      <td>...</td>\n",
       "      <td>...</td>\n",
       "      <td>...</td>\n",
       "      <td>...</td>\n",
       "      <td>...</td>\n",
       "      <td>...</td>\n",
       "      <td>...</td>\n",
       "      <td>...</td>\n",
       "      <td>...</td>\n",
       "    </tr>\n",
       "    <tr>\n",
       "      <th>6071022</th>\n",
       "      <td>0xb932a70a57673d89f4acffbe830e8ed7f75fb9e0</td>\n",
       "      <td>16412</td>\n",
       "      <td>0x346561b3f7a233c4245f91c68940b2d750df26ef1b04...</td>\n",
       "      <td>0x9f37284b3a538be8eea2d401b595f44c96d39b70</td>\n",
       "      <td>NaN</td>\n",
       "      <td>0xa353401738e7ec6a4db9c0ee4c66eb5252f681c4</td>\n",
       "      <td>NaN</td>\n",
       "      <td>https://lh3.googleusercontent.com/isSUPEsJJWpF...</td>\n",
       "      <td>https://ipfs.pixura.io/ipfs/QmSHxximuHUZV54pAA...</td>\n",
       "      <td>https://lh3.googleusercontent.com/isSUPEsJJWpF...</td>\n",
       "      <td>...</td>\n",
       "      <td>Pájaro Doctor 13/40</td>\n",
       "      <td>Digital piece made by using a variety of softw...</td>\n",
       "      <td>Superrare</td>\n",
       "      <td>OpenSea</td>\n",
       "      <td>2021-04-01 00:00:00</td>\n",
       "      <td>2021-04-01 00:00:52</td>\n",
       "      <td>https://opensea.io/assets/0xb932a70a57673d89f4...</td>\n",
       "      <td>('Superrare', '16412')</td>\n",
       "      <td>Superrare</td>\n",
       "      <td>Art</td>\n",
       "    </tr>\n",
       "    <tr>\n",
       "      <th>6071023</th>\n",
       "      <td>0x495f947276749ce646f68ac8c248420045cb7b5e</td>\n",
       "      <td>1062274196422536302774639391540663457511117433...</td>\n",
       "      <td>0xd507715bb835252a65d572037ac8eb36854b05ecc672...</td>\n",
       "      <td>0xeada96bf164643bdfe3e657a9f380854694a49dd</td>\n",
       "      <td>Mistcop</td>\n",
       "      <td>0xe2fe53f9bcb33e3e0fc65f2f627ca4eb8e958347</td>\n",
       "      <td>NaN</td>\n",
       "      <td>https://lh3.googleusercontent.com/qdzZDtYHHVdi...</td>\n",
       "      <td>NaN</td>\n",
       "      <td>https://lh3.googleusercontent.com/qdzZDtYHHVdi...</td>\n",
       "      <td>...</td>\n",
       "      <td>Kawaii Monster #2</td>\n",
       "      <td>NaN</td>\n",
       "      <td>Kawaii-monsters</td>\n",
       "      <td>OpenSea</td>\n",
       "      <td>2021-04-01 00:00:00</td>\n",
       "      <td>2021-04-01 00:00:50</td>\n",
       "      <td>https://opensea.io/assets/0x495f947276749ce646...</td>\n",
       "      <td>('Kawaii-monsters', '1062274196422536302774639...</td>\n",
       "      <td>Kawaiimonster</td>\n",
       "      <td>Other</td>\n",
       "    </tr>\n",
       "    <tr>\n",
       "      <th>6071024</th>\n",
       "      <td>0x495f947276749ce646f68ac8c248420045cb7b5e</td>\n",
       "      <td>4602588071276327231659212203812866312085457052...</td>\n",
       "      <td>0x4cb90a775619a9483c003050de47c403fae957e5352b...</td>\n",
       "      <td>0x65c1b9ae4e4d8dcccfd3dc41b940840fe8570f2a</td>\n",
       "      <td>International_Megadigital</td>\n",
       "      <td>0x220d20310f52d97e353028ebd742d2c690eaf0a1</td>\n",
       "      <td>WanderlustNFT</td>\n",
       "      <td>https://lh3.googleusercontent.com/SoTAV8k4UC90...</td>\n",
       "      <td>NaN</td>\n",
       "      <td>https://lh3.googleusercontent.com/SoTAV8k4UC90...</td>\n",
       "      <td>...</td>\n",
       "      <td>Bishoujo Originals - #4977</td>\n",
       "      <td>The original source for collectible Bishoujo h...</td>\n",
       "      <td>Moe-tokens</td>\n",
       "      <td>OpenSea</td>\n",
       "      <td>2021-04-01 00:00:00</td>\n",
       "      <td>2021-04-01 00:00:51</td>\n",
       "      <td>https://opensea.io/assets/0x495f947276749ce646...</td>\n",
       "      <td>('Moe-tokens', '460258807127632723165921220381...</td>\n",
       "      <td>Moetoken</td>\n",
       "      <td>Other</td>\n",
       "    </tr>\n",
       "    <tr>\n",
       "      <th>6071025</th>\n",
       "      <td>0x495f947276749ce646f68ac8c248420045cb7b5e</td>\n",
       "      <td>8060875342503467325201444233539848397816312727...</td>\n",
       "      <td>0x76068e84592753bb1e076c5320c7e3ecfe41e4da8ebe...</td>\n",
       "      <td>0xb236f00808a9f88b3117af95c881966288dfbcbb</td>\n",
       "      <td>TheOfficialGarrett</td>\n",
       "      <td>0xd543a0be0684f0556786586b83f4c9fd16a4dc35</td>\n",
       "      <td>kittylord</td>\n",
       "      <td>https://lh3.googleusercontent.com/AWwjq0cuTjHF...</td>\n",
       "      <td>NaN</td>\n",
       "      <td>https://lh3.googleusercontent.com/AWwjq0cuTjHF...</td>\n",
       "      <td>...</td>\n",
       "      <td>Smile 0066</td>\n",
       "      <td>Coming to you hot!  Not Fun Tokens or (NFT's)!...</td>\n",
       "      <td>Not-fun-tokens</td>\n",
       "      <td>OpenSea</td>\n",
       "      <td>2021-04-01 00:00:00</td>\n",
       "      <td>2021-04-01 00:00:40</td>\n",
       "      <td>https://opensea.io/assets/0x495f947276749ce646...</td>\n",
       "      <td>('Not-fun-tokens', '80608753425034673252014442...</td>\n",
       "      <td>Notfuntoken</td>\n",
       "      <td>Other</td>\n",
       "    </tr>\n",
       "    <tr>\n",
       "      <th>6071026</th>\n",
       "      <td>0x495f947276749ce646f68ac8c248420045cb7b5e</td>\n",
       "      <td>8060875342503467325201444233539848397816312727...</td>\n",
       "      <td>0x6efdcfde266760201767ba099c1f10f47937a8098720...</td>\n",
       "      <td>0xb236f00808a9f88b3117af95c881966288dfbcbb</td>\n",
       "      <td>TheOfficialGarrett</td>\n",
       "      <td>0xd543a0be0684f0556786586b83f4c9fd16a4dc35</td>\n",
       "      <td>kittylord</td>\n",
       "      <td>https://lh3.googleusercontent.com/1PSAAdTKWB5p...</td>\n",
       "      <td>NaN</td>\n",
       "      <td>https://lh3.googleusercontent.com/1PSAAdTKWB5p...</td>\n",
       "      <td>...</td>\n",
       "      <td>Smile 0023</td>\n",
       "      <td>Coming to you hot!  Not Fun Tokens or (NFT's)!...</td>\n",
       "      <td>Not-fun-tokens</td>\n",
       "      <td>OpenSea</td>\n",
       "      <td>2021-04-01 00:00:00</td>\n",
       "      <td>2021-04-01 00:00:40</td>\n",
       "      <td>https://opensea.io/assets/0x495f947276749ce646...</td>\n",
       "      <td>('Not-fun-tokens', '80608753425034673252014442...</td>\n",
       "      <td>Notfuntoken</td>\n",
       "      <td>Other</td>\n",
       "    </tr>\n",
       "  </tbody>\n",
       "</table>\n",
       "<p>6071027 rows × 24 columns</p>\n",
       "</div>"
      ],
      "text/plain": [
       "                                     Smart_contract  \\\n",
       "0                                               NaN   \n",
       "1                                               NaN   \n",
       "2                                               NaN   \n",
       "3                                               NaN   \n",
       "4                                               NaN   \n",
       "...                                             ...   \n",
       "6071022  0xb932a70a57673d89f4acffbe830e8ed7f75fb9e0   \n",
       "6071023  0x495f947276749ce646f68ac8c248420045cb7b5e   \n",
       "6071024  0x495f947276749ce646f68ac8c248420045cb7b5e   \n",
       "6071025  0x495f947276749ce646f68ac8c248420045cb7b5e   \n",
       "6071026  0x495f947276749ce646f68ac8c248420045cb7b5e   \n",
       "\n",
       "                                                  ID_token  \\\n",
       "0                                               87094722.0   \n",
       "1                                               73044643.0   \n",
       "2                                               17107482.0   \n",
       "3                                               82230857.0   \n",
       "4                                               40925443.0   \n",
       "...                                                    ...   \n",
       "6071022                                              16412   \n",
       "6071023  1062274196422536302774639391540663457511117433...   \n",
       "6071024  4602588071276327231659212203812866312085457052...   \n",
       "6071025  8060875342503467325201444233539848397816312727...   \n",
       "6071026  8060875342503467325201444233539848397816312727...   \n",
       "\n",
       "                                          Transaction_hash  \\\n",
       "0        0xed9ff1c311a611e5c457ce0a49bbbb7ed55efca98842...   \n",
       "1        0xbc8412594ffa7382e8306215ece5b4e041fc641b1813...   \n",
       "2        0x92672baf5e9e23de230dee8e57ddf443ab6d5a336341...   \n",
       "3        0x3d157249e3083622c2d756f07a05caa3a76687288b32...   \n",
       "4        0xa892b3569dc8e6b3c7db93aade62372637ebbc61fb63...   \n",
       "...                                                    ...   \n",
       "6071022  0x346561b3f7a233c4245f91c68940b2d750df26ef1b04...   \n",
       "6071023  0xd507715bb835252a65d572037ac8eb36854b05ecc672...   \n",
       "6071024  0x4cb90a775619a9483c003050de47c403fae957e5352b...   \n",
       "6071025  0x76068e84592753bb1e076c5320c7e3ecfe41e4da8ebe...   \n",
       "6071026  0x6efdcfde266760201767ba099c1f10f47937a8098720...   \n",
       "\n",
       "                                     Seller_address  \\\n",
       "0        0x76481caa104b5f6bccb540dae4cefaf1c398ebea   \n",
       "1        0x76481caa104b5f6bccb540dae4cefaf1c398ebea   \n",
       "2        0x76481caa104b5f6bccb540dae4cefaf1c398ebea   \n",
       "3        0x76481caa104b5f6bccb540dae4cefaf1c398ebea   \n",
       "4        0x76481caa104b5f6bccb540dae4cefaf1c398ebea   \n",
       "...                                             ...   \n",
       "6071022  0x9f37284b3a538be8eea2d401b595f44c96d39b70   \n",
       "6071023  0xeada96bf164643bdfe3e657a9f380854694a49dd   \n",
       "6071024  0x65c1b9ae4e4d8dcccfd3dc41b940840fe8570f2a   \n",
       "6071025  0xb236f00808a9f88b3117af95c881966288dfbcbb   \n",
       "6071026  0xb236f00808a9f88b3117af95c881966288dfbcbb   \n",
       "\n",
       "                   Seller_username  \\\n",
       "0                              NaN   \n",
       "1                              NaN   \n",
       "2                              NaN   \n",
       "3                              NaN   \n",
       "4                              NaN   \n",
       "...                            ...   \n",
       "6071022                        NaN   \n",
       "6071023                    Mistcop   \n",
       "6071024  International_Megadigital   \n",
       "6071025         TheOfficialGarrett   \n",
       "6071026         TheOfficialGarrett   \n",
       "\n",
       "                                      Buyer_address Buyer_username  \\\n",
       "0        0xe0fb7622091e3d9ef9b438471b10b9ea88c7cf6b            NaN   \n",
       "1        0x2c00d05ff7ffe93d77145dfe12aa56e622ae6f40            NaN   \n",
       "2        0xe0fb7622091e3d9ef9b438471b10b9ea88c7cf6b            NaN   \n",
       "3        0x2c00d05ff7ffe93d77145dfe12aa56e622ae6f40            NaN   \n",
       "4        0x2c00d05ff7ffe93d77145dfe12aa56e622ae6f40            NaN   \n",
       "...                                             ...            ...   \n",
       "6071022  0xa353401738e7ec6a4db9c0ee4c66eb5252f681c4            NaN   \n",
       "6071023  0xe2fe53f9bcb33e3e0fc65f2f627ca4eb8e958347            NaN   \n",
       "6071024  0x220d20310f52d97e353028ebd742d2c690eaf0a1  WanderlustNFT   \n",
       "6071025  0xd543a0be0684f0556786586b83f4c9fd16a4dc35      kittylord   \n",
       "6071026  0xd543a0be0684f0556786586b83f4c9fd16a4dc35      kittylord   \n",
       "\n",
       "                                               Image_url_1  \\\n",
       "0                https://card.godsunchained.com/?id=33&q=4   \n",
       "1                https://card.godsunchained.com/?id=79&q=4   \n",
       "2                https://card.godsunchained.com/?id=33&q=4   \n",
       "3               https://card.godsunchained.com/?id=227&q=4   \n",
       "4                https://card.godsunchained.com/?id=62&q=4   \n",
       "...                                                    ...   \n",
       "6071022  https://lh3.googleusercontent.com/isSUPEsJJWpF...   \n",
       "6071023  https://lh3.googleusercontent.com/qdzZDtYHHVdi...   \n",
       "6071024  https://lh3.googleusercontent.com/SoTAV8k4UC90...   \n",
       "6071025  https://lh3.googleusercontent.com/AWwjq0cuTjHF...   \n",
       "6071026  https://lh3.googleusercontent.com/1PSAAdTKWB5p...   \n",
       "\n",
       "                                               Image_url_2  \\\n",
       "0                                                      NaN   \n",
       "1                                                      NaN   \n",
       "2                                                      NaN   \n",
       "3                                                      NaN   \n",
       "4                                                      NaN   \n",
       "...                                                    ...   \n",
       "6071022  https://ipfs.pixura.io/ipfs/QmSHxximuHUZV54pAA...   \n",
       "6071023                                                NaN   \n",
       "6071024                                                NaN   \n",
       "6071025                                                NaN   \n",
       "6071026                                                NaN   \n",
       "\n",
       "                                               Image_url_3  ...  \\\n",
       "0                                                      NaN  ...   \n",
       "1                                                      NaN  ...   \n",
       "2                                                      NaN  ...   \n",
       "3                                                      NaN  ...   \n",
       "4                                                      NaN  ...   \n",
       "...                                                    ...  ...   \n",
       "6071022  https://lh3.googleusercontent.com/isSUPEsJJWpF...  ...   \n",
       "6071023  https://lh3.googleusercontent.com/qdzZDtYHHVdi...  ...   \n",
       "6071024  https://lh3.googleusercontent.com/SoTAV8k4UC90...  ...   \n",
       "6071025  https://lh3.googleusercontent.com/AWwjq0cuTjHF...  ...   \n",
       "6071026  https://lh3.googleusercontent.com/1PSAAdTKWB5p...  ...   \n",
       "\n",
       "                               Name  \\\n",
       "0                               NaN   \n",
       "1                               NaN   \n",
       "2                               NaN   \n",
       "3                               NaN   \n",
       "4                               NaN   \n",
       "...                             ...   \n",
       "6071022         Pájaro Doctor 13/40   \n",
       "6071023           Kawaii Monster #2   \n",
       "6071024  Bishoujo Originals - #4977   \n",
       "6071025                  Smile 0066   \n",
       "6071026                  Smile 0023   \n",
       "\n",
       "                                               Description       Collection  \\\n",
       "0                                                      NaN    Godsunchained   \n",
       "1                                                      NaN    Godsunchained   \n",
       "2                                                      NaN    Godsunchained   \n",
       "3                                                      NaN    Godsunchained   \n",
       "4                                                      NaN    Godsunchained   \n",
       "...                                                    ...              ...   \n",
       "6071022  Digital piece made by using a variety of softw...        Superrare   \n",
       "6071023                                                NaN  Kawaii-monsters   \n",
       "6071024  The original source for collectible Bishoujo h...       Moe-tokens   \n",
       "6071025  Coming to you hot!  Not Fun Tokens or (NFT's)!...   Not-fun-tokens   \n",
       "6071026  Coming to you hot!  Not Fun Tokens or (NFT's)!...   Not-fun-tokens   \n",
       "\n",
       "                Market     Datetime_updated Datetime_updated_seconds  \\\n",
       "0        Godsunchained  2019-11-30 00:00:00      2019-11-30 23:59:33   \n",
       "1        Godsunchained  2019-11-30 00:00:00      2019-11-30 23:59:33   \n",
       "2        Godsunchained  2019-11-30 00:00:00      2019-11-30 23:59:33   \n",
       "3        Godsunchained  2019-11-30 00:00:00      2019-11-30 23:59:33   \n",
       "4        Godsunchained  2019-11-30 00:00:00      2019-11-30 23:58:44   \n",
       "...                ...                  ...                      ...   \n",
       "6071022        OpenSea  2021-04-01 00:00:00      2021-04-01 00:00:52   \n",
       "6071023        OpenSea  2021-04-01 00:00:00      2021-04-01 00:00:50   \n",
       "6071024        OpenSea  2021-04-01 00:00:00      2021-04-01 00:00:51   \n",
       "6071025        OpenSea  2021-04-01 00:00:00      2021-04-01 00:00:40   \n",
       "6071026        OpenSea  2021-04-01 00:00:00      2021-04-01 00:00:40   \n",
       "\n",
       "                                            Permanent_link  \\\n",
       "0                                                      NaN   \n",
       "1                                                      NaN   \n",
       "2                                                      NaN   \n",
       "3                                                      NaN   \n",
       "4                                                      NaN   \n",
       "...                                                    ...   \n",
       "6071022  https://opensea.io/assets/0xb932a70a57673d89f4...   \n",
       "6071023  https://opensea.io/assets/0x495f947276749ce646...   \n",
       "6071024  https://opensea.io/assets/0x495f947276749ce646...   \n",
       "6071025  https://opensea.io/assets/0x495f947276749ce646...   \n",
       "6071026  https://opensea.io/assets/0x495f947276749ce646...   \n",
       "\n",
       "                                      Unique_id_collection Collection_cleaned  \\\n",
       "0                          ('Godsunchained', '87094722.0')      Godsunchained   \n",
       "1                          ('Godsunchained', '73044643.0')      Godsunchained   \n",
       "2                          ('Godsunchained', '17107482.0')      Godsunchained   \n",
       "3                          ('Godsunchained', '82230857.0')      Godsunchained   \n",
       "4                          ('Godsunchained', '40925443.0')      Godsunchained   \n",
       "...                                                    ...                ...   \n",
       "6071022                             ('Superrare', '16412')          Superrare   \n",
       "6071023  ('Kawaii-monsters', '1062274196422536302774639...      Kawaiimonster   \n",
       "6071024  ('Moe-tokens', '460258807127632723165921220381...           Moetoken   \n",
       "6071025  ('Not-fun-tokens', '80608753425034673252014442...        Notfuntoken   \n",
       "6071026  ('Not-fun-tokens', '80608753425034673252014442...        Notfuntoken   \n",
       "\n",
       "        Category  \n",
       "0          Games  \n",
       "1          Games  \n",
       "2          Games  \n",
       "3          Games  \n",
       "4          Games  \n",
       "...          ...  \n",
       "6071022      Art  \n",
       "6071023    Other  \n",
       "6071024    Other  \n",
       "6071025    Other  \n",
       "6071026    Other  \n",
       "\n",
       "[6071027 rows x 24 columns]"
      ]
     },
     "execution_count": 9,
     "metadata": {},
     "output_type": "execute_result"
    }
   ],
   "source": [
    "#Showing a sample of the dataframe with its related columns and information \n",
    "data"
   ]
  },
  {
   "cell_type": "code",
   "execution_count": 10,
   "metadata": {},
   "outputs": [],
   "source": [
    "#Removing irrelevant columns (dropping smart contracts, ID tokens, transaction hash, seller username, buyer username, image url 1-4, name, description, collection, datetime updated, permanent link, and unique id collection)\n",
    "data = data.drop(columns=[\"Smart_contract\", \"ID_token\", \"Transaction_hash\", \"Seller_username\", \"Buyer_username\", \"Image_url_1\",\"Image_url_2\", \"Image_url_3\", \"Image_url_4\", \"Name\", \"Description\", \"Collection\", \"Datetime_updated_seconds\", \"Permanent_link\", \"Unique_id_collection\"])"
   ]
  },
  {
   "cell_type": "code",
   "execution_count": 11,
   "metadata": {},
   "outputs": [
    {
     "name": "stdout",
     "output_type": "stream",
     "text": [
      "<class 'pandas.core.frame.DataFrame'>\n",
      "RangeIndex: 6071027 entries, 0 to 6071026\n",
      "Data columns (total 9 columns):\n",
      " #   Column              Dtype  \n",
      "---  ------              -----  \n",
      " 0   Seller_address      object \n",
      " 1   Buyer_address       object \n",
      " 2   Price_Crypto        float64\n",
      " 3   Crypto              object \n",
      " 4   Price_USD           float64\n",
      " 5   Market              object \n",
      " 6   Datetime_updated    object \n",
      " 7   Collection_cleaned  object \n",
      " 8   Category            object \n",
      "dtypes: float64(2), object(7)\n",
      "memory usage: 416.9+ MB\n"
     ]
    }
   ],
   "source": [
    "#Showing the new dataframe with the removed columns\n",
    "data.info()"
   ]
  },
  {
   "cell_type": "code",
   "execution_count": 12,
   "metadata": {},
   "outputs": [],
   "source": [
    "#Converted the above dataframe into a file for easier access to a .csv file\n",
    "data.to_csv('updated.csv', index=False)"
   ]
  },
  {
   "cell_type": "code",
   "execution_count": 13,
   "metadata": {},
   "outputs": [
    {
     "data": {
      "text/plain": [
       "WAX      3185292\n",
       "ETH      2405225\n",
       "WETH      436355\n",
       "MANA       29639\n",
       "DAI         2141\n",
       "          ...   \n",
       "eFAME          1\n",
       "LAR            1\n",
       "PXART          1\n",
       "THREE          1\n",
       "PIXIE          1\n",
       "Name: Crypto, Length: 160, dtype: int64"
      ]
     },
     "execution_count": 13,
     "metadata": {},
     "output_type": "execute_result"
    }
   ],
   "source": [
    "#Checking the entries from the column \"Crypto\" to see how many there are that is Ethereum\n",
    "data[\"Crypto\"].value_counts()"
   ]
  },
  {
   "cell_type": "code",
   "execution_count": 14,
   "metadata": {},
   "outputs": [],
   "source": [
    "#Dropping all rows that does not have the word \"ETH\" in the column \"Crypto\"\n",
    "data = data[data['Crypto'].isin(['ETH'])]"
   ]
  },
  {
   "cell_type": "code",
   "execution_count": 15,
   "metadata": {},
   "outputs": [
    {
     "data": {
      "text/html": [
       "<div>\n",
       "<style scoped>\n",
       "    .dataframe tbody tr th:only-of-type {\n",
       "        vertical-align: middle;\n",
       "    }\n",
       "\n",
       "    .dataframe tbody tr th {\n",
       "        vertical-align: top;\n",
       "    }\n",
       "\n",
       "    .dataframe thead th {\n",
       "        text-align: right;\n",
       "    }\n",
       "</style>\n",
       "<table border=\"1\" class=\"dataframe\">\n",
       "  <thead>\n",
       "    <tr style=\"text-align: right;\">\n",
       "      <th></th>\n",
       "      <th>Seller_address</th>\n",
       "      <th>Buyer_address</th>\n",
       "      <th>Price_Crypto</th>\n",
       "      <th>Crypto</th>\n",
       "      <th>Price_USD</th>\n",
       "      <th>Market</th>\n",
       "      <th>Datetime_updated</th>\n",
       "      <th>Collection_cleaned</th>\n",
       "      <th>Category</th>\n",
       "    </tr>\n",
       "  </thead>\n",
       "  <tbody>\n",
       "    <tr>\n",
       "      <th>0</th>\n",
       "      <td>0x76481caa104b5f6bccb540dae4cefaf1c398ebea</td>\n",
       "      <td>0xe0fb7622091e3d9ef9b438471b10b9ea88c7cf6b</td>\n",
       "      <td>0.0002</td>\n",
       "      <td>ETH</td>\n",
       "      <td>0.030318</td>\n",
       "      <td>Godsunchained</td>\n",
       "      <td>2019-11-30 00:00:00</td>\n",
       "      <td>Godsunchained</td>\n",
       "      <td>Games</td>\n",
       "    </tr>\n",
       "    <tr>\n",
       "      <th>1</th>\n",
       "      <td>0x76481caa104b5f6bccb540dae4cefaf1c398ebea</td>\n",
       "      <td>0x2c00d05ff7ffe93d77145dfe12aa56e622ae6f40</td>\n",
       "      <td>0.0013</td>\n",
       "      <td>ETH</td>\n",
       "      <td>0.197067</td>\n",
       "      <td>Godsunchained</td>\n",
       "      <td>2019-11-30 00:00:00</td>\n",
       "      <td>Godsunchained</td>\n",
       "      <td>Games</td>\n",
       "    </tr>\n",
       "    <tr>\n",
       "      <th>2</th>\n",
       "      <td>0x76481caa104b5f6bccb540dae4cefaf1c398ebea</td>\n",
       "      <td>0xe0fb7622091e3d9ef9b438471b10b9ea88c7cf6b</td>\n",
       "      <td>0.0002</td>\n",
       "      <td>ETH</td>\n",
       "      <td>0.030318</td>\n",
       "      <td>Godsunchained</td>\n",
       "      <td>2019-11-30 00:00:00</td>\n",
       "      <td>Godsunchained</td>\n",
       "      <td>Games</td>\n",
       "    </tr>\n",
       "    <tr>\n",
       "      <th>3</th>\n",
       "      <td>0x76481caa104b5f6bccb540dae4cefaf1c398ebea</td>\n",
       "      <td>0x2c00d05ff7ffe93d77145dfe12aa56e622ae6f40</td>\n",
       "      <td>0.0022</td>\n",
       "      <td>ETH</td>\n",
       "      <td>0.333498</td>\n",
       "      <td>Godsunchained</td>\n",
       "      <td>2019-11-30 00:00:00</td>\n",
       "      <td>Godsunchained</td>\n",
       "      <td>Games</td>\n",
       "    </tr>\n",
       "    <tr>\n",
       "      <th>4</th>\n",
       "      <td>0x76481caa104b5f6bccb540dae4cefaf1c398ebea</td>\n",
       "      <td>0x2c00d05ff7ffe93d77145dfe12aa56e622ae6f40</td>\n",
       "      <td>0.0012</td>\n",
       "      <td>ETH</td>\n",
       "      <td>0.181908</td>\n",
       "      <td>Godsunchained</td>\n",
       "      <td>2019-11-30 00:00:00</td>\n",
       "      <td>Godsunchained</td>\n",
       "      <td>Games</td>\n",
       "    </tr>\n",
       "    <tr>\n",
       "      <th>...</th>\n",
       "      <td>...</td>\n",
       "      <td>...</td>\n",
       "      <td>...</td>\n",
       "      <td>...</td>\n",
       "      <td>...</td>\n",
       "      <td>...</td>\n",
       "      <td>...</td>\n",
       "      <td>...</td>\n",
       "      <td>...</td>\n",
       "    </tr>\n",
       "    <tr>\n",
       "      <th>6071022</th>\n",
       "      <td>0x9f37284b3a538be8eea2d401b595f44c96d39b70</td>\n",
       "      <td>0xa353401738e7ec6a4db9c0ee4c66eb5252f681c4</td>\n",
       "      <td>0.5000</td>\n",
       "      <td>ETH</td>\n",
       "      <td>967.707500</td>\n",
       "      <td>OpenSea</td>\n",
       "      <td>2021-04-01 00:00:00</td>\n",
       "      <td>Superrare</td>\n",
       "      <td>Art</td>\n",
       "    </tr>\n",
       "    <tr>\n",
       "      <th>6071023</th>\n",
       "      <td>0xeada96bf164643bdfe3e657a9f380854694a49dd</td>\n",
       "      <td>0xe2fe53f9bcb33e3e0fc65f2f627ca4eb8e958347</td>\n",
       "      <td>0.0500</td>\n",
       "      <td>ETH</td>\n",
       "      <td>96.770750</td>\n",
       "      <td>OpenSea</td>\n",
       "      <td>2021-04-01 00:00:00</td>\n",
       "      <td>Kawaiimonster</td>\n",
       "      <td>Other</td>\n",
       "    </tr>\n",
       "    <tr>\n",
       "      <th>6071024</th>\n",
       "      <td>0x65c1b9ae4e4d8dcccfd3dc41b940840fe8570f2a</td>\n",
       "      <td>0x220d20310f52d97e353028ebd742d2c690eaf0a1</td>\n",
       "      <td>0.0185</td>\n",
       "      <td>ETH</td>\n",
       "      <td>35.805177</td>\n",
       "      <td>OpenSea</td>\n",
       "      <td>2021-04-01 00:00:00</td>\n",
       "      <td>Moetoken</td>\n",
       "      <td>Other</td>\n",
       "    </tr>\n",
       "    <tr>\n",
       "      <th>6071025</th>\n",
       "      <td>0xb236f00808a9f88b3117af95c881966288dfbcbb</td>\n",
       "      <td>0xd543a0be0684f0556786586b83f4c9fd16a4dc35</td>\n",
       "      <td>0.0100</td>\n",
       "      <td>ETH</td>\n",
       "      <td>19.354150</td>\n",
       "      <td>OpenSea</td>\n",
       "      <td>2021-04-01 00:00:00</td>\n",
       "      <td>Notfuntoken</td>\n",
       "      <td>Other</td>\n",
       "    </tr>\n",
       "    <tr>\n",
       "      <th>6071026</th>\n",
       "      <td>0xb236f00808a9f88b3117af95c881966288dfbcbb</td>\n",
       "      <td>0xd543a0be0684f0556786586b83f4c9fd16a4dc35</td>\n",
       "      <td>0.0100</td>\n",
       "      <td>ETH</td>\n",
       "      <td>19.354150</td>\n",
       "      <td>OpenSea</td>\n",
       "      <td>2021-04-01 00:00:00</td>\n",
       "      <td>Notfuntoken</td>\n",
       "      <td>Other</td>\n",
       "    </tr>\n",
       "  </tbody>\n",
       "</table>\n",
       "<p>2405225 rows × 9 columns</p>\n",
       "</div>"
      ],
      "text/plain": [
       "                                     Seller_address  \\\n",
       "0        0x76481caa104b5f6bccb540dae4cefaf1c398ebea   \n",
       "1        0x76481caa104b5f6bccb540dae4cefaf1c398ebea   \n",
       "2        0x76481caa104b5f6bccb540dae4cefaf1c398ebea   \n",
       "3        0x76481caa104b5f6bccb540dae4cefaf1c398ebea   \n",
       "4        0x76481caa104b5f6bccb540dae4cefaf1c398ebea   \n",
       "...                                             ...   \n",
       "6071022  0x9f37284b3a538be8eea2d401b595f44c96d39b70   \n",
       "6071023  0xeada96bf164643bdfe3e657a9f380854694a49dd   \n",
       "6071024  0x65c1b9ae4e4d8dcccfd3dc41b940840fe8570f2a   \n",
       "6071025  0xb236f00808a9f88b3117af95c881966288dfbcbb   \n",
       "6071026  0xb236f00808a9f88b3117af95c881966288dfbcbb   \n",
       "\n",
       "                                      Buyer_address  Price_Crypto Crypto  \\\n",
       "0        0xe0fb7622091e3d9ef9b438471b10b9ea88c7cf6b        0.0002    ETH   \n",
       "1        0x2c00d05ff7ffe93d77145dfe12aa56e622ae6f40        0.0013    ETH   \n",
       "2        0xe0fb7622091e3d9ef9b438471b10b9ea88c7cf6b        0.0002    ETH   \n",
       "3        0x2c00d05ff7ffe93d77145dfe12aa56e622ae6f40        0.0022    ETH   \n",
       "4        0x2c00d05ff7ffe93d77145dfe12aa56e622ae6f40        0.0012    ETH   \n",
       "...                                             ...           ...    ...   \n",
       "6071022  0xa353401738e7ec6a4db9c0ee4c66eb5252f681c4        0.5000    ETH   \n",
       "6071023  0xe2fe53f9bcb33e3e0fc65f2f627ca4eb8e958347        0.0500    ETH   \n",
       "6071024  0x220d20310f52d97e353028ebd742d2c690eaf0a1        0.0185    ETH   \n",
       "6071025  0xd543a0be0684f0556786586b83f4c9fd16a4dc35        0.0100    ETH   \n",
       "6071026  0xd543a0be0684f0556786586b83f4c9fd16a4dc35        0.0100    ETH   \n",
       "\n",
       "          Price_USD         Market     Datetime_updated Collection_cleaned  \\\n",
       "0          0.030318  Godsunchained  2019-11-30 00:00:00      Godsunchained   \n",
       "1          0.197067  Godsunchained  2019-11-30 00:00:00      Godsunchained   \n",
       "2          0.030318  Godsunchained  2019-11-30 00:00:00      Godsunchained   \n",
       "3          0.333498  Godsunchained  2019-11-30 00:00:00      Godsunchained   \n",
       "4          0.181908  Godsunchained  2019-11-30 00:00:00      Godsunchained   \n",
       "...             ...            ...                  ...                ...   \n",
       "6071022  967.707500        OpenSea  2021-04-01 00:00:00          Superrare   \n",
       "6071023   96.770750        OpenSea  2021-04-01 00:00:00      Kawaiimonster   \n",
       "6071024   35.805177        OpenSea  2021-04-01 00:00:00           Moetoken   \n",
       "6071025   19.354150        OpenSea  2021-04-01 00:00:00        Notfuntoken   \n",
       "6071026   19.354150        OpenSea  2021-04-01 00:00:00        Notfuntoken   \n",
       "\n",
       "        Category  \n",
       "0          Games  \n",
       "1          Games  \n",
       "2          Games  \n",
       "3          Games  \n",
       "4          Games  \n",
       "...          ...  \n",
       "6071022      Art  \n",
       "6071023    Other  \n",
       "6071024    Other  \n",
       "6071025    Other  \n",
       "6071026    Other  \n",
       "\n",
       "[2405225 rows x 9 columns]"
      ]
     },
     "execution_count": 15,
     "metadata": {},
     "output_type": "execute_result"
    }
   ],
   "source": [
    "#Total # of entries: 2,405225\n",
    "data"
   ]
  },
  {
   "cell_type": "code",
   "execution_count": 16,
   "metadata": {},
   "outputs": [],
   "source": [
    "#Dropping all rows that does not have the word \"opeansea\" in the column \"Market\"\n",
    "data = data[data['Market'].isin(['OpenSea'])]"
   ]
  },
  {
   "cell_type": "code",
   "execution_count": 17,
   "metadata": {},
   "outputs": [
    {
     "data": {
      "text/html": [
       "<div>\n",
       "<style scoped>\n",
       "    .dataframe tbody tr th:only-of-type {\n",
       "        vertical-align: middle;\n",
       "    }\n",
       "\n",
       "    .dataframe tbody tr th {\n",
       "        vertical-align: top;\n",
       "    }\n",
       "\n",
       "    .dataframe thead th {\n",
       "        text-align: right;\n",
       "    }\n",
       "</style>\n",
       "<table border=\"1\" class=\"dataframe\">\n",
       "  <thead>\n",
       "    <tr style=\"text-align: right;\">\n",
       "      <th></th>\n",
       "      <th>Seller_address</th>\n",
       "      <th>Buyer_address</th>\n",
       "      <th>Price_Crypto</th>\n",
       "      <th>Crypto</th>\n",
       "      <th>Price_USD</th>\n",
       "      <th>Market</th>\n",
       "      <th>Datetime_updated</th>\n",
       "      <th>Collection_cleaned</th>\n",
       "      <th>Category</th>\n",
       "    </tr>\n",
       "  </thead>\n",
       "  <tbody>\n",
       "    <tr>\n",
       "      <th>4163765</th>\n",
       "      <td>0xa21037849678af57f9865c6b9887f4e339f6377a</td>\n",
       "      <td>0x442dccee68425828c106a3662014b4f131e3bd9b</td>\n",
       "      <td>0.480694</td>\n",
       "      <td>ETH</td>\n",
       "      <td>426.389768</td>\n",
       "      <td>OpenSea</td>\n",
       "      <td>2018-03-01 00:00:00</td>\n",
       "      <td>Cryptokittie</td>\n",
       "      <td>Art</td>\n",
       "    </tr>\n",
       "    <tr>\n",
       "      <th>4163766</th>\n",
       "      <td>0x491677edd34020bf644fd63b5d65113fb3b74b10</td>\n",
       "      <td>0xf165d353abddb7cb00052d610254249fcc12a8c7</td>\n",
       "      <td>0.023000</td>\n",
       "      <td>ETH</td>\n",
       "      <td>20.401690</td>\n",
       "      <td>OpenSea</td>\n",
       "      <td>2018-03-01 00:00:00</td>\n",
       "      <td>Cryptokittie</td>\n",
       "      <td>Art</td>\n",
       "    </tr>\n",
       "    <tr>\n",
       "      <th>4163767</th>\n",
       "      <td>0xe357cbc0a5dfa4c238b769d065416d15fb56d8f9</td>\n",
       "      <td>0x24a6f141b18f27f65a1ba8b49e2d975d18e1a259</td>\n",
       "      <td>0.021000</td>\n",
       "      <td>ETH</td>\n",
       "      <td>17.803485</td>\n",
       "      <td>OpenSea</td>\n",
       "      <td>2018-02-28 00:00:00</td>\n",
       "      <td>Cryptokittie</td>\n",
       "      <td>Art</td>\n",
       "    </tr>\n",
       "    <tr>\n",
       "      <th>4163768</th>\n",
       "      <td>0xc4d4672f651bf72414be1f828952480ccf0b2a8f</td>\n",
       "      <td>0x5b897d015dbb2661e1fd4a0df68322dfaec6ea14</td>\n",
       "      <td>0.018529</td>\n",
       "      <td>ETH</td>\n",
       "      <td>15.708933</td>\n",
       "      <td>OpenSea</td>\n",
       "      <td>2018-02-28 00:00:00</td>\n",
       "      <td>Cryptokittie</td>\n",
       "      <td>Art</td>\n",
       "    </tr>\n",
       "    <tr>\n",
       "      <th>4163769</th>\n",
       "      <td>0x7045540552d1fcc2ab1eb64e1f868aeb490606fa</td>\n",
       "      <td>0xb58092199e8b47bd9e27533d9504282eb802c446</td>\n",
       "      <td>0.077828</td>\n",
       "      <td>ETH</td>\n",
       "      <td>65.981353</td>\n",
       "      <td>OpenSea</td>\n",
       "      <td>2018-02-28 00:00:00</td>\n",
       "      <td>Cryptokittie</td>\n",
       "      <td>Art</td>\n",
       "    </tr>\n",
       "    <tr>\n",
       "      <th>...</th>\n",
       "      <td>...</td>\n",
       "      <td>...</td>\n",
       "      <td>...</td>\n",
       "      <td>...</td>\n",
       "      <td>...</td>\n",
       "      <td>...</td>\n",
       "      <td>...</td>\n",
       "      <td>...</td>\n",
       "      <td>...</td>\n",
       "    </tr>\n",
       "    <tr>\n",
       "      <th>6071022</th>\n",
       "      <td>0x9f37284b3a538be8eea2d401b595f44c96d39b70</td>\n",
       "      <td>0xa353401738e7ec6a4db9c0ee4c66eb5252f681c4</td>\n",
       "      <td>0.500000</td>\n",
       "      <td>ETH</td>\n",
       "      <td>967.707500</td>\n",
       "      <td>OpenSea</td>\n",
       "      <td>2021-04-01 00:00:00</td>\n",
       "      <td>Superrare</td>\n",
       "      <td>Art</td>\n",
       "    </tr>\n",
       "    <tr>\n",
       "      <th>6071023</th>\n",
       "      <td>0xeada96bf164643bdfe3e657a9f380854694a49dd</td>\n",
       "      <td>0xe2fe53f9bcb33e3e0fc65f2f627ca4eb8e958347</td>\n",
       "      <td>0.050000</td>\n",
       "      <td>ETH</td>\n",
       "      <td>96.770750</td>\n",
       "      <td>OpenSea</td>\n",
       "      <td>2021-04-01 00:00:00</td>\n",
       "      <td>Kawaiimonster</td>\n",
       "      <td>Other</td>\n",
       "    </tr>\n",
       "    <tr>\n",
       "      <th>6071024</th>\n",
       "      <td>0x65c1b9ae4e4d8dcccfd3dc41b940840fe8570f2a</td>\n",
       "      <td>0x220d20310f52d97e353028ebd742d2c690eaf0a1</td>\n",
       "      <td>0.018500</td>\n",
       "      <td>ETH</td>\n",
       "      <td>35.805177</td>\n",
       "      <td>OpenSea</td>\n",
       "      <td>2021-04-01 00:00:00</td>\n",
       "      <td>Moetoken</td>\n",
       "      <td>Other</td>\n",
       "    </tr>\n",
       "    <tr>\n",
       "      <th>6071025</th>\n",
       "      <td>0xb236f00808a9f88b3117af95c881966288dfbcbb</td>\n",
       "      <td>0xd543a0be0684f0556786586b83f4c9fd16a4dc35</td>\n",
       "      <td>0.010000</td>\n",
       "      <td>ETH</td>\n",
       "      <td>19.354150</td>\n",
       "      <td>OpenSea</td>\n",
       "      <td>2021-04-01 00:00:00</td>\n",
       "      <td>Notfuntoken</td>\n",
       "      <td>Other</td>\n",
       "    </tr>\n",
       "    <tr>\n",
       "      <th>6071026</th>\n",
       "      <td>0xb236f00808a9f88b3117af95c881966288dfbcbb</td>\n",
       "      <td>0xd543a0be0684f0556786586b83f4c9fd16a4dc35</td>\n",
       "      <td>0.010000</td>\n",
       "      <td>ETH</td>\n",
       "      <td>19.354150</td>\n",
       "      <td>OpenSea</td>\n",
       "      <td>2021-04-01 00:00:00</td>\n",
       "      <td>Notfuntoken</td>\n",
       "      <td>Other</td>\n",
       "    </tr>\n",
       "  </tbody>\n",
       "</table>\n",
       "<p>1443615 rows × 9 columns</p>\n",
       "</div>"
      ],
      "text/plain": [
       "                                     Seller_address  \\\n",
       "4163765  0xa21037849678af57f9865c6b9887f4e339f6377a   \n",
       "4163766  0x491677edd34020bf644fd63b5d65113fb3b74b10   \n",
       "4163767  0xe357cbc0a5dfa4c238b769d065416d15fb56d8f9   \n",
       "4163768  0xc4d4672f651bf72414be1f828952480ccf0b2a8f   \n",
       "4163769  0x7045540552d1fcc2ab1eb64e1f868aeb490606fa   \n",
       "...                                             ...   \n",
       "6071022  0x9f37284b3a538be8eea2d401b595f44c96d39b70   \n",
       "6071023  0xeada96bf164643bdfe3e657a9f380854694a49dd   \n",
       "6071024  0x65c1b9ae4e4d8dcccfd3dc41b940840fe8570f2a   \n",
       "6071025  0xb236f00808a9f88b3117af95c881966288dfbcbb   \n",
       "6071026  0xb236f00808a9f88b3117af95c881966288dfbcbb   \n",
       "\n",
       "                                      Buyer_address  Price_Crypto Crypto  \\\n",
       "4163765  0x442dccee68425828c106a3662014b4f131e3bd9b      0.480694    ETH   \n",
       "4163766  0xf165d353abddb7cb00052d610254249fcc12a8c7      0.023000    ETH   \n",
       "4163767  0x24a6f141b18f27f65a1ba8b49e2d975d18e1a259      0.021000    ETH   \n",
       "4163768  0x5b897d015dbb2661e1fd4a0df68322dfaec6ea14      0.018529    ETH   \n",
       "4163769  0xb58092199e8b47bd9e27533d9504282eb802c446      0.077828    ETH   \n",
       "...                                             ...           ...    ...   \n",
       "6071022  0xa353401738e7ec6a4db9c0ee4c66eb5252f681c4      0.500000    ETH   \n",
       "6071023  0xe2fe53f9bcb33e3e0fc65f2f627ca4eb8e958347      0.050000    ETH   \n",
       "6071024  0x220d20310f52d97e353028ebd742d2c690eaf0a1      0.018500    ETH   \n",
       "6071025  0xd543a0be0684f0556786586b83f4c9fd16a4dc35      0.010000    ETH   \n",
       "6071026  0xd543a0be0684f0556786586b83f4c9fd16a4dc35      0.010000    ETH   \n",
       "\n",
       "          Price_USD   Market     Datetime_updated Collection_cleaned Category  \n",
       "4163765  426.389768  OpenSea  2018-03-01 00:00:00       Cryptokittie      Art  \n",
       "4163766   20.401690  OpenSea  2018-03-01 00:00:00       Cryptokittie      Art  \n",
       "4163767   17.803485  OpenSea  2018-02-28 00:00:00       Cryptokittie      Art  \n",
       "4163768   15.708933  OpenSea  2018-02-28 00:00:00       Cryptokittie      Art  \n",
       "4163769   65.981353  OpenSea  2018-02-28 00:00:00       Cryptokittie      Art  \n",
       "...             ...      ...                  ...                ...      ...  \n",
       "6071022  967.707500  OpenSea  2021-04-01 00:00:00          Superrare      Art  \n",
       "6071023   96.770750  OpenSea  2021-04-01 00:00:00      Kawaiimonster    Other  \n",
       "6071024   35.805177  OpenSea  2021-04-01 00:00:00           Moetoken    Other  \n",
       "6071025   19.354150  OpenSea  2021-04-01 00:00:00        Notfuntoken    Other  \n",
       "6071026   19.354150  OpenSea  2021-04-01 00:00:00        Notfuntoken    Other  \n",
       "\n",
       "[1443615 rows x 9 columns]"
      ]
     },
     "execution_count": 17,
     "metadata": {},
     "output_type": "execute_result"
    }
   ],
   "source": [
    "#Total # of entries: 1,443,615\n",
    "data"
   ]
  },
  {
   "cell_type": "code",
   "execution_count": 18,
   "metadata": {},
   "outputs": [
    {
     "name": "stdout",
     "output_type": "stream",
     "text": [
      "<class 'pandas.core.frame.DataFrame'>\n",
      "Int64Index: 1443615 entries, 4163765 to 6071026\n",
      "Data columns (total 9 columns):\n",
      " #   Column              Non-Null Count    Dtype  \n",
      "---  ------              --------------    -----  \n",
      " 0   Seller_address      1443615 non-null  object \n",
      " 1   Buyer_address       1443615 non-null  object \n",
      " 2   Price_Crypto        1443615 non-null  float64\n",
      " 3   Crypto              1443615 non-null  object \n",
      " 4   Price_USD           1443615 non-null  float64\n",
      " 5   Market              1443615 non-null  object \n",
      " 6   Datetime_updated    1443615 non-null  object \n",
      " 7   Collection_cleaned  1443615 non-null  object \n",
      " 8   Category            1443615 non-null  object \n",
      "dtypes: float64(2), object(7)\n",
      "memory usage: 110.1+ MB\n"
     ]
    }
   ],
   "source": [
    "#Showing the number of entries and columns for all rows that has \"Ethereum\" and \"Opensea\"\n",
    "data.info()"
   ]
  },
  {
   "cell_type": "code",
   "execution_count": 19,
   "metadata": {},
   "outputs": [],
   "source": [
    "#Converting the dataframe to a .csv file again for ease of access \n",
    "data.to_csv('cleaned.csv', index=False)"
   ]
  },
  {
   "cell_type": "markdown",
   "metadata": {},
   "source": [
    "Preprocessing and exploratory analysis of the dataset regarding NFTs"
   ]
  },
  {
   "cell_type": "code",
   "execution_count": 20,
   "metadata": {
    "id": "ZytixmCppdCj"
   },
   "outputs": [],
   "source": [
    "import pandas as pd\n",
    "import datetime as dt"
   ]
  },
  {
   "cell_type": "code",
   "execution_count": 21,
   "metadata": {
    "id": "qDIWglfXpuCE"
   },
   "outputs": [],
   "source": [
    "# Reading preprocessed data from the ariticle: \"Mapping the NFT revolution: market trends, trade networks, and visual features\"\n",
    "# LOAD THE DATA CALLED: cleaned.csv\n",
    "df = pd.read_csv(\"c:/Users/kesut/Desktop/cleaned.csv\", parse_dates=[\"Datetime_updated\"])"
   ]
  },
  {
   "cell_type": "code",
   "execution_count": 22,
   "metadata": {
    "colab": {
     "base_uri": "https://localhost:8080/",
     "height": 206
    },
    "id": "8Hf717-mpyke",
    "outputId": "c51637c3-d804-4626-dc18-1351d72357b6"
   },
   "outputs": [
    {
     "data": {
      "text/html": [
       "<div>\n",
       "<style scoped>\n",
       "    .dataframe tbody tr th:only-of-type {\n",
       "        vertical-align: middle;\n",
       "    }\n",
       "\n",
       "    .dataframe tbody tr th {\n",
       "        vertical-align: top;\n",
       "    }\n",
       "\n",
       "    .dataframe thead th {\n",
       "        text-align: right;\n",
       "    }\n",
       "</style>\n",
       "<table border=\"1\" class=\"dataframe\">\n",
       "  <thead>\n",
       "    <tr style=\"text-align: right;\">\n",
       "      <th></th>\n",
       "      <th>Seller_address</th>\n",
       "      <th>Buyer_address</th>\n",
       "      <th>Price_Crypto</th>\n",
       "      <th>Crypto</th>\n",
       "      <th>Price_USD</th>\n",
       "      <th>Market</th>\n",
       "      <th>Datetime_updated</th>\n",
       "      <th>Collection_cleaned</th>\n",
       "      <th>Category</th>\n",
       "    </tr>\n",
       "  </thead>\n",
       "  <tbody>\n",
       "    <tr>\n",
       "      <th>0</th>\n",
       "      <td>0xa21037849678af57f9865c6b9887f4e339f6377a</td>\n",
       "      <td>0x442dccee68425828c106a3662014b4f131e3bd9b</td>\n",
       "      <td>0.480694</td>\n",
       "      <td>ETH</td>\n",
       "      <td>426.389768</td>\n",
       "      <td>OpenSea</td>\n",
       "      <td>2018-03-01</td>\n",
       "      <td>Cryptokittie</td>\n",
       "      <td>Art</td>\n",
       "    </tr>\n",
       "    <tr>\n",
       "      <th>1</th>\n",
       "      <td>0x491677edd34020bf644fd63b5d65113fb3b74b10</td>\n",
       "      <td>0xf165d353abddb7cb00052d610254249fcc12a8c7</td>\n",
       "      <td>0.023000</td>\n",
       "      <td>ETH</td>\n",
       "      <td>20.401690</td>\n",
       "      <td>OpenSea</td>\n",
       "      <td>2018-03-01</td>\n",
       "      <td>Cryptokittie</td>\n",
       "      <td>Art</td>\n",
       "    </tr>\n",
       "    <tr>\n",
       "      <th>2</th>\n",
       "      <td>0xe357cbc0a5dfa4c238b769d065416d15fb56d8f9</td>\n",
       "      <td>0x24a6f141b18f27f65a1ba8b49e2d975d18e1a259</td>\n",
       "      <td>0.021000</td>\n",
       "      <td>ETH</td>\n",
       "      <td>17.803485</td>\n",
       "      <td>OpenSea</td>\n",
       "      <td>2018-02-28</td>\n",
       "      <td>Cryptokittie</td>\n",
       "      <td>Art</td>\n",
       "    </tr>\n",
       "    <tr>\n",
       "      <th>3</th>\n",
       "      <td>0xc4d4672f651bf72414be1f828952480ccf0b2a8f</td>\n",
       "      <td>0x5b897d015dbb2661e1fd4a0df68322dfaec6ea14</td>\n",
       "      <td>0.018529</td>\n",
       "      <td>ETH</td>\n",
       "      <td>15.708933</td>\n",
       "      <td>OpenSea</td>\n",
       "      <td>2018-02-28</td>\n",
       "      <td>Cryptokittie</td>\n",
       "      <td>Art</td>\n",
       "    </tr>\n",
       "    <tr>\n",
       "      <th>4</th>\n",
       "      <td>0x7045540552d1fcc2ab1eb64e1f868aeb490606fa</td>\n",
       "      <td>0xb58092199e8b47bd9e27533d9504282eb802c446</td>\n",
       "      <td>0.077828</td>\n",
       "      <td>ETH</td>\n",
       "      <td>65.981353</td>\n",
       "      <td>OpenSea</td>\n",
       "      <td>2018-02-28</td>\n",
       "      <td>Cryptokittie</td>\n",
       "      <td>Art</td>\n",
       "    </tr>\n",
       "  </tbody>\n",
       "</table>\n",
       "</div>"
      ],
      "text/plain": [
       "                               Seller_address  \\\n",
       "0  0xa21037849678af57f9865c6b9887f4e339f6377a   \n",
       "1  0x491677edd34020bf644fd63b5d65113fb3b74b10   \n",
       "2  0xe357cbc0a5dfa4c238b769d065416d15fb56d8f9   \n",
       "3  0xc4d4672f651bf72414be1f828952480ccf0b2a8f   \n",
       "4  0x7045540552d1fcc2ab1eb64e1f868aeb490606fa   \n",
       "\n",
       "                                Buyer_address  Price_Crypto Crypto  \\\n",
       "0  0x442dccee68425828c106a3662014b4f131e3bd9b      0.480694    ETH   \n",
       "1  0xf165d353abddb7cb00052d610254249fcc12a8c7      0.023000    ETH   \n",
       "2  0x24a6f141b18f27f65a1ba8b49e2d975d18e1a259      0.021000    ETH   \n",
       "3  0x5b897d015dbb2661e1fd4a0df68322dfaec6ea14      0.018529    ETH   \n",
       "4  0xb58092199e8b47bd9e27533d9504282eb802c446      0.077828    ETH   \n",
       "\n",
       "    Price_USD   Market Datetime_updated Collection_cleaned Category  \n",
       "0  426.389768  OpenSea       2018-03-01       Cryptokittie      Art  \n",
       "1   20.401690  OpenSea       2018-03-01       Cryptokittie      Art  \n",
       "2   17.803485  OpenSea       2018-02-28       Cryptokittie      Art  \n",
       "3   15.708933  OpenSea       2018-02-28       Cryptokittie      Art  \n",
       "4   65.981353  OpenSea       2018-02-28       Cryptokittie      Art  "
      ]
     },
     "execution_count": 22,
     "metadata": {},
     "output_type": "execute_result"
    }
   ],
   "source": [
    "df.head()"
   ]
  },
  {
   "cell_type": "code",
   "execution_count": 23,
   "metadata": {
    "id": "d0B1yYlC5WvA"
   },
   "outputs": [],
   "source": [
    "# Renamning most relevant columns\n",
    "df.rename(columns={\"Datetime_updated\": \"Date\"}, inplace=True)"
   ]
  },
  {
   "cell_type": "code",
   "execution_count": 24,
   "metadata": {
    "colab": {
     "base_uri": "https://localhost:8080/"
    },
    "id": "cR54z_xh89ZS",
    "outputId": "e8ef0e64-3e68-4beb-bf47-4d7af7a02eea"
   },
   "outputs": [
    {
     "name": "stdout",
     "output_type": "stream",
     "text": [
      "<class 'pandas.core.frame.DataFrame'>\n",
      "RangeIndex: 1443615 entries, 0 to 1443614\n",
      "Data columns (total 9 columns):\n",
      " #   Column              Non-Null Count    Dtype         \n",
      "---  ------              --------------    -----         \n",
      " 0   Seller_address      1443615 non-null  object        \n",
      " 1   Buyer_address       1443615 non-null  object        \n",
      " 2   Price_Crypto        1443615 non-null  float64       \n",
      " 3   Crypto              1443615 non-null  object        \n",
      " 4   Price_USD           1443615 non-null  float64       \n",
      " 5   Market              1443615 non-null  object        \n",
      " 6   Date                1443615 non-null  datetime64[ns]\n",
      " 7   Collection_cleaned  1443615 non-null  object        \n",
      " 8   Category            1443615 non-null  object        \n",
      "dtypes: datetime64[ns](1), float64(2), object(6)\n",
      "memory usage: 99.1+ MB\n"
     ]
    }
   ],
   "source": [
    "df.info()"
   ]
  },
  {
   "cell_type": "code",
   "execution_count": 25,
   "metadata": {
    "colab": {
     "base_uri": "https://localhost:8080/",
     "height": 454
    },
    "id": "pEJVzTGFSnWI",
    "outputId": "7a042344-0576-494e-c219-21b6e4de4a13"
   },
   "outputs": [
    {
     "data": {
      "text/html": [
       "<div>\n",
       "<style scoped>\n",
       "    .dataframe tbody tr th:only-of-type {\n",
       "        vertical-align: middle;\n",
       "    }\n",
       "\n",
       "    .dataframe tbody tr th {\n",
       "        vertical-align: top;\n",
       "    }\n",
       "\n",
       "    .dataframe thead th {\n",
       "        text-align: right;\n",
       "    }\n",
       "</style>\n",
       "<table border=\"1\" class=\"dataframe\">\n",
       "  <thead>\n",
       "    <tr style=\"text-align: right;\">\n",
       "      <th>Category</th>\n",
       "      <th>Art</th>\n",
       "      <th>Collectible</th>\n",
       "      <th>Games</th>\n",
       "      <th>Metaverse</th>\n",
       "      <th>Other</th>\n",
       "      <th>Utility</th>\n",
       "    </tr>\n",
       "    <tr>\n",
       "      <th>Date</th>\n",
       "      <th></th>\n",
       "      <th></th>\n",
       "      <th></th>\n",
       "      <th></th>\n",
       "      <th></th>\n",
       "      <th></th>\n",
       "    </tr>\n",
       "  </thead>\n",
       "  <tbody>\n",
       "    <tr>\n",
       "      <th>2018-02-04</th>\n",
       "      <td>0</td>\n",
       "      <td>1</td>\n",
       "      <td>0</td>\n",
       "      <td>0</td>\n",
       "      <td>0</td>\n",
       "      <td>0</td>\n",
       "    </tr>\n",
       "    <tr>\n",
       "      <th>2018-02-05</th>\n",
       "      <td>0</td>\n",
       "      <td>5</td>\n",
       "      <td>0</td>\n",
       "      <td>0</td>\n",
       "      <td>0</td>\n",
       "      <td>0</td>\n",
       "    </tr>\n",
       "    <tr>\n",
       "      <th>2018-02-06</th>\n",
       "      <td>0</td>\n",
       "      <td>2</td>\n",
       "      <td>0</td>\n",
       "      <td>0</td>\n",
       "      <td>0</td>\n",
       "      <td>0</td>\n",
       "    </tr>\n",
       "    <tr>\n",
       "      <th>2018-02-07</th>\n",
       "      <td>0</td>\n",
       "      <td>2</td>\n",
       "      <td>0</td>\n",
       "      <td>0</td>\n",
       "      <td>0</td>\n",
       "      <td>0</td>\n",
       "    </tr>\n",
       "    <tr>\n",
       "      <th>2018-02-08</th>\n",
       "      <td>0</td>\n",
       "      <td>14</td>\n",
       "      <td>0</td>\n",
       "      <td>0</td>\n",
       "      <td>0</td>\n",
       "      <td>0</td>\n",
       "    </tr>\n",
       "    <tr>\n",
       "      <th>...</th>\n",
       "      <td>...</td>\n",
       "      <td>...</td>\n",
       "      <td>...</td>\n",
       "      <td>...</td>\n",
       "      <td>...</td>\n",
       "      <td>...</td>\n",
       "    </tr>\n",
       "    <tr>\n",
       "      <th>2021-04-23</th>\n",
       "      <td>964</td>\n",
       "      <td>2529</td>\n",
       "      <td>387</td>\n",
       "      <td>74</td>\n",
       "      <td>206</td>\n",
       "      <td>39</td>\n",
       "    </tr>\n",
       "    <tr>\n",
       "      <th>2021-04-24</th>\n",
       "      <td>1248</td>\n",
       "      <td>1810</td>\n",
       "      <td>592</td>\n",
       "      <td>82</td>\n",
       "      <td>220</td>\n",
       "      <td>23</td>\n",
       "    </tr>\n",
       "    <tr>\n",
       "      <th>2021-04-25</th>\n",
       "      <td>1358</td>\n",
       "      <td>1859</td>\n",
       "      <td>757</td>\n",
       "      <td>96</td>\n",
       "      <td>302</td>\n",
       "      <td>22</td>\n",
       "    </tr>\n",
       "    <tr>\n",
       "      <th>2021-04-26</th>\n",
       "      <td>810</td>\n",
       "      <td>1767</td>\n",
       "      <td>614</td>\n",
       "      <td>74</td>\n",
       "      <td>298</td>\n",
       "      <td>21</td>\n",
       "    </tr>\n",
       "    <tr>\n",
       "      <th>2021-04-27</th>\n",
       "      <td>754</td>\n",
       "      <td>1792</td>\n",
       "      <td>600</td>\n",
       "      <td>42</td>\n",
       "      <td>244</td>\n",
       "      <td>26</td>\n",
       "    </tr>\n",
       "  </tbody>\n",
       "</table>\n",
       "<p>1179 rows × 6 columns</p>\n",
       "</div>"
      ],
      "text/plain": [
       "Category     Art  Collectible  Games  Metaverse  Other  Utility\n",
       "Date                                                           \n",
       "2018-02-04     0            1      0          0      0        0\n",
       "2018-02-05     0            5      0          0      0        0\n",
       "2018-02-06     0            2      0          0      0        0\n",
       "2018-02-07     0            2      0          0      0        0\n",
       "2018-02-08     0           14      0          0      0        0\n",
       "...          ...          ...    ...        ...    ...      ...\n",
       "2021-04-23   964         2529    387         74    206       39\n",
       "2021-04-24  1248         1810    592         82    220       23\n",
       "2021-04-25  1358         1859    757         96    302       22\n",
       "2021-04-26   810         1767    614         74    298       21\n",
       "2021-04-27   754         1792    600         42    244       26\n",
       "\n",
       "[1179 rows x 6 columns]"
      ]
     },
     "execution_count": 25,
     "metadata": {},
     "output_type": "execute_result"
    }
   ],
   "source": [
    "# Creating a new dataframe called df_cat by using crosstab\n",
    "# df_cat shows the number of sales per day for each category\n",
    "df_cat = pd.crosstab(df.Date, df.Category)\n",
    "df_cat"
   ]
  },
  {
   "cell_type": "code",
   "execution_count": 26,
   "metadata": {
    "id": "7tcIUTG8XkJH"
   },
   "outputs": [],
   "source": [
    "# Adding a Total columns that shows the total number of sales per day for all categories\n",
    "df_cat[\"Total_NFT_Sales\"] = df_cat[\"Art\"] + df_cat[\"Collectible\"] + df_cat[\"Games\"] + df_cat[\"Metaverse\"] + df_cat[\"Other\"] + df_cat[\"Utility\"]"
   ]
  },
  {
   "cell_type": "code",
   "execution_count": 27,
   "metadata": {
    "colab": {
     "base_uri": "https://localhost:8080/",
     "height": 454
    },
    "id": "GAck51ilYy_C",
    "outputId": "31d8cc07-14d4-4c62-fc55-326b48772729"
   },
   "outputs": [
    {
     "data": {
      "text/html": [
       "<div>\n",
       "<style scoped>\n",
       "    .dataframe tbody tr th:only-of-type {\n",
       "        vertical-align: middle;\n",
       "    }\n",
       "\n",
       "    .dataframe tbody tr th {\n",
       "        vertical-align: top;\n",
       "    }\n",
       "\n",
       "    .dataframe thead th {\n",
       "        text-align: right;\n",
       "    }\n",
       "</style>\n",
       "<table border=\"1\" class=\"dataframe\">\n",
       "  <thead>\n",
       "    <tr style=\"text-align: right;\">\n",
       "      <th>Category</th>\n",
       "      <th>Art</th>\n",
       "      <th>Collectible</th>\n",
       "      <th>Games</th>\n",
       "      <th>Metaverse</th>\n",
       "      <th>Other</th>\n",
       "      <th>Utility</th>\n",
       "      <th>Total_NFT_Sales</th>\n",
       "    </tr>\n",
       "    <tr>\n",
       "      <th>Date</th>\n",
       "      <th></th>\n",
       "      <th></th>\n",
       "      <th></th>\n",
       "      <th></th>\n",
       "      <th></th>\n",
       "      <th></th>\n",
       "      <th></th>\n",
       "    </tr>\n",
       "  </thead>\n",
       "  <tbody>\n",
       "    <tr>\n",
       "      <th>2018-02-04</th>\n",
       "      <td>0</td>\n",
       "      <td>1</td>\n",
       "      <td>0</td>\n",
       "      <td>0</td>\n",
       "      <td>0</td>\n",
       "      <td>0</td>\n",
       "      <td>1</td>\n",
       "    </tr>\n",
       "    <tr>\n",
       "      <th>2018-02-05</th>\n",
       "      <td>0</td>\n",
       "      <td>5</td>\n",
       "      <td>0</td>\n",
       "      <td>0</td>\n",
       "      <td>0</td>\n",
       "      <td>0</td>\n",
       "      <td>5</td>\n",
       "    </tr>\n",
       "    <tr>\n",
       "      <th>2018-02-06</th>\n",
       "      <td>0</td>\n",
       "      <td>2</td>\n",
       "      <td>0</td>\n",
       "      <td>0</td>\n",
       "      <td>0</td>\n",
       "      <td>0</td>\n",
       "      <td>2</td>\n",
       "    </tr>\n",
       "    <tr>\n",
       "      <th>2018-02-07</th>\n",
       "      <td>0</td>\n",
       "      <td>2</td>\n",
       "      <td>0</td>\n",
       "      <td>0</td>\n",
       "      <td>0</td>\n",
       "      <td>0</td>\n",
       "      <td>2</td>\n",
       "    </tr>\n",
       "    <tr>\n",
       "      <th>2018-02-08</th>\n",
       "      <td>0</td>\n",
       "      <td>14</td>\n",
       "      <td>0</td>\n",
       "      <td>0</td>\n",
       "      <td>0</td>\n",
       "      <td>0</td>\n",
       "      <td>14</td>\n",
       "    </tr>\n",
       "    <tr>\n",
       "      <th>...</th>\n",
       "      <td>...</td>\n",
       "      <td>...</td>\n",
       "      <td>...</td>\n",
       "      <td>...</td>\n",
       "      <td>...</td>\n",
       "      <td>...</td>\n",
       "      <td>...</td>\n",
       "    </tr>\n",
       "    <tr>\n",
       "      <th>2021-04-23</th>\n",
       "      <td>964</td>\n",
       "      <td>2529</td>\n",
       "      <td>387</td>\n",
       "      <td>74</td>\n",
       "      <td>206</td>\n",
       "      <td>39</td>\n",
       "      <td>4199</td>\n",
       "    </tr>\n",
       "    <tr>\n",
       "      <th>2021-04-24</th>\n",
       "      <td>1248</td>\n",
       "      <td>1810</td>\n",
       "      <td>592</td>\n",
       "      <td>82</td>\n",
       "      <td>220</td>\n",
       "      <td>23</td>\n",
       "      <td>3975</td>\n",
       "    </tr>\n",
       "    <tr>\n",
       "      <th>2021-04-25</th>\n",
       "      <td>1358</td>\n",
       "      <td>1859</td>\n",
       "      <td>757</td>\n",
       "      <td>96</td>\n",
       "      <td>302</td>\n",
       "      <td>22</td>\n",
       "      <td>4394</td>\n",
       "    </tr>\n",
       "    <tr>\n",
       "      <th>2021-04-26</th>\n",
       "      <td>810</td>\n",
       "      <td>1767</td>\n",
       "      <td>614</td>\n",
       "      <td>74</td>\n",
       "      <td>298</td>\n",
       "      <td>21</td>\n",
       "      <td>3584</td>\n",
       "    </tr>\n",
       "    <tr>\n",
       "      <th>2021-04-27</th>\n",
       "      <td>754</td>\n",
       "      <td>1792</td>\n",
       "      <td>600</td>\n",
       "      <td>42</td>\n",
       "      <td>244</td>\n",
       "      <td>26</td>\n",
       "      <td>3458</td>\n",
       "    </tr>\n",
       "  </tbody>\n",
       "</table>\n",
       "<p>1179 rows × 7 columns</p>\n",
       "</div>"
      ],
      "text/plain": [
       "Category     Art  Collectible  Games  Metaverse  Other  Utility  \\\n",
       "Date                                                              \n",
       "2018-02-04     0            1      0          0      0        0   \n",
       "2018-02-05     0            5      0          0      0        0   \n",
       "2018-02-06     0            2      0          0      0        0   \n",
       "2018-02-07     0            2      0          0      0        0   \n",
       "2018-02-08     0           14      0          0      0        0   \n",
       "...          ...          ...    ...        ...    ...      ...   \n",
       "2021-04-23   964         2529    387         74    206       39   \n",
       "2021-04-24  1248         1810    592         82    220       23   \n",
       "2021-04-25  1358         1859    757         96    302       22   \n",
       "2021-04-26   810         1767    614         74    298       21   \n",
       "2021-04-27   754         1792    600         42    244       26   \n",
       "\n",
       "Category    Total_NFT_Sales  \n",
       "Date                         \n",
       "2018-02-04                1  \n",
       "2018-02-05                5  \n",
       "2018-02-06                2  \n",
       "2018-02-07                2  \n",
       "2018-02-08               14  \n",
       "...                     ...  \n",
       "2021-04-23             4199  \n",
       "2021-04-24             3975  \n",
       "2021-04-25             4394  \n",
       "2021-04-26             3584  \n",
       "2021-04-27             3458  \n",
       "\n",
       "[1179 rows x 7 columns]"
      ]
     },
     "execution_count": 27,
     "metadata": {},
     "output_type": "execute_result"
    }
   ],
   "source": [
    "# Checking the Total column\n",
    "df_cat"
   ]
  },
  {
   "cell_type": "code",
   "execution_count": 28,
   "metadata": {
    "id": "aQUIiEb4OkOP"
   },
   "outputs": [],
   "source": [
    "# Adding a column showing total amount of USD traded on each specific day\n",
    "df_cat[\"Total_USD\"] = pd.DataFrame(df.groupby(df.Date.dt.date).Price_USD.sum())"
   ]
  },
  {
   "cell_type": "code",
   "execution_count": 29,
   "metadata": {
    "colab": {
     "base_uri": "https://localhost:8080/",
     "height": 454
    },
    "id": "Q5zkfRuNOo3h",
    "outputId": "ea06e203-2aa1-49bd-e0cb-352ea8c66eca"
   },
   "outputs": [
    {
     "data": {
      "text/html": [
       "<div>\n",
       "<style scoped>\n",
       "    .dataframe tbody tr th:only-of-type {\n",
       "        vertical-align: middle;\n",
       "    }\n",
       "\n",
       "    .dataframe tbody tr th {\n",
       "        vertical-align: top;\n",
       "    }\n",
       "\n",
       "    .dataframe thead th {\n",
       "        text-align: right;\n",
       "    }\n",
       "</style>\n",
       "<table border=\"1\" class=\"dataframe\">\n",
       "  <thead>\n",
       "    <tr style=\"text-align: right;\">\n",
       "      <th>Category</th>\n",
       "      <th>Art</th>\n",
       "      <th>Collectible</th>\n",
       "      <th>Games</th>\n",
       "      <th>Metaverse</th>\n",
       "      <th>Other</th>\n",
       "      <th>Utility</th>\n",
       "      <th>Total_NFT_Sales</th>\n",
       "      <th>Total_USD</th>\n",
       "    </tr>\n",
       "    <tr>\n",
       "      <th>Date</th>\n",
       "      <th></th>\n",
       "      <th></th>\n",
       "      <th></th>\n",
       "      <th></th>\n",
       "      <th></th>\n",
       "      <th></th>\n",
       "      <th></th>\n",
       "      <th></th>\n",
       "    </tr>\n",
       "  </thead>\n",
       "  <tbody>\n",
       "    <tr>\n",
       "      <th>2018-02-04</th>\n",
       "      <td>0</td>\n",
       "      <td>1</td>\n",
       "      <td>0</td>\n",
       "      <td>0</td>\n",
       "      <td>0</td>\n",
       "      <td>0</td>\n",
       "      <td>1</td>\n",
       "      <td>1.533359e+03</td>\n",
       "    </tr>\n",
       "    <tr>\n",
       "      <th>2018-02-05</th>\n",
       "      <td>0</td>\n",
       "      <td>5</td>\n",
       "      <td>0</td>\n",
       "      <td>0</td>\n",
       "      <td>0</td>\n",
       "      <td>0</td>\n",
       "      <td>5</td>\n",
       "      <td>2.410474e+04</td>\n",
       "    </tr>\n",
       "    <tr>\n",
       "      <th>2018-02-06</th>\n",
       "      <td>0</td>\n",
       "      <td>2</td>\n",
       "      <td>0</td>\n",
       "      <td>0</td>\n",
       "      <td>0</td>\n",
       "      <td>0</td>\n",
       "      <td>2</td>\n",
       "      <td>1.707400e+03</td>\n",
       "    </tr>\n",
       "    <tr>\n",
       "      <th>2018-02-07</th>\n",
       "      <td>0</td>\n",
       "      <td>2</td>\n",
       "      <td>0</td>\n",
       "      <td>0</td>\n",
       "      <td>0</td>\n",
       "      <td>0</td>\n",
       "      <td>2</td>\n",
       "      <td>8.975599e+03</td>\n",
       "    </tr>\n",
       "    <tr>\n",
       "      <th>2018-02-08</th>\n",
       "      <td>0</td>\n",
       "      <td>14</td>\n",
       "      <td>0</td>\n",
       "      <td>0</td>\n",
       "      <td>0</td>\n",
       "      <td>0</td>\n",
       "      <td>14</td>\n",
       "      <td>4.487241e+04</td>\n",
       "    </tr>\n",
       "    <tr>\n",
       "      <th>...</th>\n",
       "      <td>...</td>\n",
       "      <td>...</td>\n",
       "      <td>...</td>\n",
       "      <td>...</td>\n",
       "      <td>...</td>\n",
       "      <td>...</td>\n",
       "      <td>...</td>\n",
       "      <td>...</td>\n",
       "    </tr>\n",
       "    <tr>\n",
       "      <th>2021-04-23</th>\n",
       "      <td>964</td>\n",
       "      <td>2529</td>\n",
       "      <td>387</td>\n",
       "      <td>74</td>\n",
       "      <td>206</td>\n",
       "      <td>39</td>\n",
       "      <td>4199</td>\n",
       "      <td>5.248629e+06</td>\n",
       "    </tr>\n",
       "    <tr>\n",
       "      <th>2021-04-24</th>\n",
       "      <td>1248</td>\n",
       "      <td>1810</td>\n",
       "      <td>592</td>\n",
       "      <td>82</td>\n",
       "      <td>220</td>\n",
       "      <td>23</td>\n",
       "      <td>3975</td>\n",
       "      <td>3.962829e+06</td>\n",
       "    </tr>\n",
       "    <tr>\n",
       "      <th>2021-04-25</th>\n",
       "      <td>1358</td>\n",
       "      <td>1859</td>\n",
       "      <td>757</td>\n",
       "      <td>96</td>\n",
       "      <td>302</td>\n",
       "      <td>22</td>\n",
       "      <td>4394</td>\n",
       "      <td>3.366866e+06</td>\n",
       "    </tr>\n",
       "    <tr>\n",
       "      <th>2021-04-26</th>\n",
       "      <td>810</td>\n",
       "      <td>1767</td>\n",
       "      <td>614</td>\n",
       "      <td>74</td>\n",
       "      <td>298</td>\n",
       "      <td>21</td>\n",
       "      <td>3584</td>\n",
       "      <td>3.763152e+06</td>\n",
       "    </tr>\n",
       "    <tr>\n",
       "      <th>2021-04-27</th>\n",
       "      <td>754</td>\n",
       "      <td>1792</td>\n",
       "      <td>600</td>\n",
       "      <td>42</td>\n",
       "      <td>244</td>\n",
       "      <td>26</td>\n",
       "      <td>3458</td>\n",
       "      <td>7.411269e+06</td>\n",
       "    </tr>\n",
       "  </tbody>\n",
       "</table>\n",
       "<p>1179 rows × 8 columns</p>\n",
       "</div>"
      ],
      "text/plain": [
       "Category     Art  Collectible  Games  Metaverse  Other  Utility  \\\n",
       "Date                                                              \n",
       "2018-02-04     0            1      0          0      0        0   \n",
       "2018-02-05     0            5      0          0      0        0   \n",
       "2018-02-06     0            2      0          0      0        0   \n",
       "2018-02-07     0            2      0          0      0        0   \n",
       "2018-02-08     0           14      0          0      0        0   \n",
       "...          ...          ...    ...        ...    ...      ...   \n",
       "2021-04-23   964         2529    387         74    206       39   \n",
       "2021-04-24  1248         1810    592         82    220       23   \n",
       "2021-04-25  1358         1859    757         96    302       22   \n",
       "2021-04-26   810         1767    614         74    298       21   \n",
       "2021-04-27   754         1792    600         42    244       26   \n",
       "\n",
       "Category    Total_NFT_Sales     Total_USD  \n",
       "Date                                       \n",
       "2018-02-04                1  1.533359e+03  \n",
       "2018-02-05                5  2.410474e+04  \n",
       "2018-02-06                2  1.707400e+03  \n",
       "2018-02-07                2  8.975599e+03  \n",
       "2018-02-08               14  4.487241e+04  \n",
       "...                     ...           ...  \n",
       "2021-04-23             4199  5.248629e+06  \n",
       "2021-04-24             3975  3.962829e+06  \n",
       "2021-04-25             4394  3.366866e+06  \n",
       "2021-04-26             3584  3.763152e+06  \n",
       "2021-04-27             3458  7.411269e+06  \n",
       "\n",
       "[1179 rows x 8 columns]"
      ]
     },
     "execution_count": 29,
     "metadata": {},
     "output_type": "execute_result"
    }
   ],
   "source": [
    "df_cat"
   ]
  },
  {
   "cell_type": "code",
   "execution_count": 30,
   "metadata": {
    "id": "XSZmVaH9TuxR"
   },
   "outputs": [],
   "source": [
    "# Formating the Price_USD column\n",
    "pd.set_option(\"display.float_format\", \"{:,.0f}\".format)"
   ]
  },
  {
   "cell_type": "code",
   "execution_count": 31,
   "metadata": {
    "id": "vstthoVnT8RF"
   },
   "outputs": [],
   "source": [
    "# Setting the date range\n",
    "df2 = df_cat.loc[\"01-01-2020\":\"27-04-2021\"]"
   ]
  },
  {
   "cell_type": "code",
   "execution_count": 32,
   "metadata": {
    "colab": {
     "base_uri": "https://localhost:8080/",
     "height": 454
    },
    "id": "B7RAPbbwZqeC",
    "outputId": "34690a7b-d9f0-474f-82c4-3d6d4f4eaa01"
   },
   "outputs": [
    {
     "data": {
      "text/html": [
       "<div>\n",
       "<style scoped>\n",
       "    .dataframe tbody tr th:only-of-type {\n",
       "        vertical-align: middle;\n",
       "    }\n",
       "\n",
       "    .dataframe tbody tr th {\n",
       "        vertical-align: top;\n",
       "    }\n",
       "\n",
       "    .dataframe thead th {\n",
       "        text-align: right;\n",
       "    }\n",
       "</style>\n",
       "<table border=\"1\" class=\"dataframe\">\n",
       "  <thead>\n",
       "    <tr style=\"text-align: right;\">\n",
       "      <th>Category</th>\n",
       "      <th>Art</th>\n",
       "      <th>Collectible</th>\n",
       "      <th>Games</th>\n",
       "      <th>Metaverse</th>\n",
       "      <th>Other</th>\n",
       "      <th>Utility</th>\n",
       "      <th>Total_NFT_Sales</th>\n",
       "      <th>Total_USD</th>\n",
       "    </tr>\n",
       "    <tr>\n",
       "      <th>Date</th>\n",
       "      <th></th>\n",
       "      <th></th>\n",
       "      <th></th>\n",
       "      <th></th>\n",
       "      <th></th>\n",
       "      <th></th>\n",
       "      <th></th>\n",
       "      <th></th>\n",
       "    </tr>\n",
       "  </thead>\n",
       "  <tbody>\n",
       "    <tr>\n",
       "      <th>2020-01-01</th>\n",
       "      <td>384</td>\n",
       "      <td>27</td>\n",
       "      <td>436</td>\n",
       "      <td>63</td>\n",
       "      <td>32</td>\n",
       "      <td>2</td>\n",
       "      <td>944</td>\n",
       "      <td>21,099</td>\n",
       "    </tr>\n",
       "    <tr>\n",
       "      <th>2020-01-02</th>\n",
       "      <td>290</td>\n",
       "      <td>31</td>\n",
       "      <td>690</td>\n",
       "      <td>3</td>\n",
       "      <td>36</td>\n",
       "      <td>0</td>\n",
       "      <td>1050</td>\n",
       "      <td>13,111</td>\n",
       "    </tr>\n",
       "    <tr>\n",
       "      <th>2020-01-03</th>\n",
       "      <td>261</td>\n",
       "      <td>17</td>\n",
       "      <td>563</td>\n",
       "      <td>24</td>\n",
       "      <td>17</td>\n",
       "      <td>11</td>\n",
       "      <td>893</td>\n",
       "      <td>39,207</td>\n",
       "    </tr>\n",
       "    <tr>\n",
       "      <th>2020-01-04</th>\n",
       "      <td>372</td>\n",
       "      <td>32</td>\n",
       "      <td>827</td>\n",
       "      <td>25</td>\n",
       "      <td>21</td>\n",
       "      <td>4</td>\n",
       "      <td>1281</td>\n",
       "      <td>31,870</td>\n",
       "    </tr>\n",
       "    <tr>\n",
       "      <th>2020-01-05</th>\n",
       "      <td>356</td>\n",
       "      <td>22</td>\n",
       "      <td>702</td>\n",
       "      <td>12</td>\n",
       "      <td>21</td>\n",
       "      <td>2</td>\n",
       "      <td>1115</td>\n",
       "      <td>21,192</td>\n",
       "    </tr>\n",
       "    <tr>\n",
       "      <th>...</th>\n",
       "      <td>...</td>\n",
       "      <td>...</td>\n",
       "      <td>...</td>\n",
       "      <td>...</td>\n",
       "      <td>...</td>\n",
       "      <td>...</td>\n",
       "      <td>...</td>\n",
       "      <td>...</td>\n",
       "    </tr>\n",
       "    <tr>\n",
       "      <th>2021-04-23</th>\n",
       "      <td>964</td>\n",
       "      <td>2529</td>\n",
       "      <td>387</td>\n",
       "      <td>74</td>\n",
       "      <td>206</td>\n",
       "      <td>39</td>\n",
       "      <td>4199</td>\n",
       "      <td>5,248,629</td>\n",
       "    </tr>\n",
       "    <tr>\n",
       "      <th>2021-04-24</th>\n",
       "      <td>1248</td>\n",
       "      <td>1810</td>\n",
       "      <td>592</td>\n",
       "      <td>82</td>\n",
       "      <td>220</td>\n",
       "      <td>23</td>\n",
       "      <td>3975</td>\n",
       "      <td>3,962,829</td>\n",
       "    </tr>\n",
       "    <tr>\n",
       "      <th>2021-04-25</th>\n",
       "      <td>1358</td>\n",
       "      <td>1859</td>\n",
       "      <td>757</td>\n",
       "      <td>96</td>\n",
       "      <td>302</td>\n",
       "      <td>22</td>\n",
       "      <td>4394</td>\n",
       "      <td>3,366,866</td>\n",
       "    </tr>\n",
       "    <tr>\n",
       "      <th>2021-04-26</th>\n",
       "      <td>810</td>\n",
       "      <td>1767</td>\n",
       "      <td>614</td>\n",
       "      <td>74</td>\n",
       "      <td>298</td>\n",
       "      <td>21</td>\n",
       "      <td>3584</td>\n",
       "      <td>3,763,152</td>\n",
       "    </tr>\n",
       "    <tr>\n",
       "      <th>2021-04-27</th>\n",
       "      <td>754</td>\n",
       "      <td>1792</td>\n",
       "      <td>600</td>\n",
       "      <td>42</td>\n",
       "      <td>244</td>\n",
       "      <td>26</td>\n",
       "      <td>3458</td>\n",
       "      <td>7,411,269</td>\n",
       "    </tr>\n",
       "  </tbody>\n",
       "</table>\n",
       "<p>483 rows × 8 columns</p>\n",
       "</div>"
      ],
      "text/plain": [
       "Category     Art  Collectible  Games  Metaverse  Other  Utility  \\\n",
       "Date                                                              \n",
       "2020-01-01   384           27    436         63     32        2   \n",
       "2020-01-02   290           31    690          3     36        0   \n",
       "2020-01-03   261           17    563         24     17       11   \n",
       "2020-01-04   372           32    827         25     21        4   \n",
       "2020-01-05   356           22    702         12     21        2   \n",
       "...          ...          ...    ...        ...    ...      ...   \n",
       "2021-04-23   964         2529    387         74    206       39   \n",
       "2021-04-24  1248         1810    592         82    220       23   \n",
       "2021-04-25  1358         1859    757         96    302       22   \n",
       "2021-04-26   810         1767    614         74    298       21   \n",
       "2021-04-27   754         1792    600         42    244       26   \n",
       "\n",
       "Category    Total_NFT_Sales  Total_USD  \n",
       "Date                                    \n",
       "2020-01-01              944     21,099  \n",
       "2020-01-02             1050     13,111  \n",
       "2020-01-03              893     39,207  \n",
       "2020-01-04             1281     31,870  \n",
       "2020-01-05             1115     21,192  \n",
       "...                     ...        ...  \n",
       "2021-04-23             4199  5,248,629  \n",
       "2021-04-24             3975  3,962,829  \n",
       "2021-04-25             4394  3,366,866  \n",
       "2021-04-26             3584  3,763,152  \n",
       "2021-04-27             3458  7,411,269  \n",
       "\n",
       "[483 rows x 8 columns]"
      ]
     },
     "execution_count": 32,
     "metadata": {},
     "output_type": "execute_result"
    }
   ],
   "source": [
    "df2"
   ]
  },
  {
   "cell_type": "code",
   "execution_count": 33,
   "metadata": {
    "id": "7rl23wFqk_4w"
   },
   "outputs": [],
   "source": [
    "# Resetting the index so Date also becomes a column\n",
    "df2.reset_index(level=0, inplace=True)"
   ]
  },
  {
   "cell_type": "code",
   "execution_count": 34,
   "metadata": {
    "colab": {
     "base_uri": "https://localhost:8080/",
     "height": 424
    },
    "id": "DlyOXq-glBn6",
    "outputId": "40d2abc4-a62b-4e5b-ae77-34206afb1568"
   },
   "outputs": [
    {
     "data": {
      "text/html": [
       "<div>\n",
       "<style scoped>\n",
       "    .dataframe tbody tr th:only-of-type {\n",
       "        vertical-align: middle;\n",
       "    }\n",
       "\n",
       "    .dataframe tbody tr th {\n",
       "        vertical-align: top;\n",
       "    }\n",
       "\n",
       "    .dataframe thead th {\n",
       "        text-align: right;\n",
       "    }\n",
       "</style>\n",
       "<table border=\"1\" class=\"dataframe\">\n",
       "  <thead>\n",
       "    <tr style=\"text-align: right;\">\n",
       "      <th>Category</th>\n",
       "      <th>Date</th>\n",
       "      <th>Art</th>\n",
       "      <th>Collectible</th>\n",
       "      <th>Games</th>\n",
       "      <th>Metaverse</th>\n",
       "      <th>Other</th>\n",
       "      <th>Utility</th>\n",
       "      <th>Total_NFT_Sales</th>\n",
       "      <th>Total_USD</th>\n",
       "    </tr>\n",
       "  </thead>\n",
       "  <tbody>\n",
       "    <tr>\n",
       "      <th>0</th>\n",
       "      <td>2020-01-01</td>\n",
       "      <td>384</td>\n",
       "      <td>27</td>\n",
       "      <td>436</td>\n",
       "      <td>63</td>\n",
       "      <td>32</td>\n",
       "      <td>2</td>\n",
       "      <td>944</td>\n",
       "      <td>21,099</td>\n",
       "    </tr>\n",
       "    <tr>\n",
       "      <th>1</th>\n",
       "      <td>2020-01-02</td>\n",
       "      <td>290</td>\n",
       "      <td>31</td>\n",
       "      <td>690</td>\n",
       "      <td>3</td>\n",
       "      <td>36</td>\n",
       "      <td>0</td>\n",
       "      <td>1050</td>\n",
       "      <td>13,111</td>\n",
       "    </tr>\n",
       "    <tr>\n",
       "      <th>2</th>\n",
       "      <td>2020-01-03</td>\n",
       "      <td>261</td>\n",
       "      <td>17</td>\n",
       "      <td>563</td>\n",
       "      <td>24</td>\n",
       "      <td>17</td>\n",
       "      <td>11</td>\n",
       "      <td>893</td>\n",
       "      <td>39,207</td>\n",
       "    </tr>\n",
       "    <tr>\n",
       "      <th>3</th>\n",
       "      <td>2020-01-04</td>\n",
       "      <td>372</td>\n",
       "      <td>32</td>\n",
       "      <td>827</td>\n",
       "      <td>25</td>\n",
       "      <td>21</td>\n",
       "      <td>4</td>\n",
       "      <td>1281</td>\n",
       "      <td>31,870</td>\n",
       "    </tr>\n",
       "    <tr>\n",
       "      <th>4</th>\n",
       "      <td>2020-01-05</td>\n",
       "      <td>356</td>\n",
       "      <td>22</td>\n",
       "      <td>702</td>\n",
       "      <td>12</td>\n",
       "      <td>21</td>\n",
       "      <td>2</td>\n",
       "      <td>1115</td>\n",
       "      <td>21,192</td>\n",
       "    </tr>\n",
       "    <tr>\n",
       "      <th>...</th>\n",
       "      <td>...</td>\n",
       "      <td>...</td>\n",
       "      <td>...</td>\n",
       "      <td>...</td>\n",
       "      <td>...</td>\n",
       "      <td>...</td>\n",
       "      <td>...</td>\n",
       "      <td>...</td>\n",
       "      <td>...</td>\n",
       "    </tr>\n",
       "    <tr>\n",
       "      <th>478</th>\n",
       "      <td>2021-04-23</td>\n",
       "      <td>964</td>\n",
       "      <td>2529</td>\n",
       "      <td>387</td>\n",
       "      <td>74</td>\n",
       "      <td>206</td>\n",
       "      <td>39</td>\n",
       "      <td>4199</td>\n",
       "      <td>5,248,629</td>\n",
       "    </tr>\n",
       "    <tr>\n",
       "      <th>479</th>\n",
       "      <td>2021-04-24</td>\n",
       "      <td>1248</td>\n",
       "      <td>1810</td>\n",
       "      <td>592</td>\n",
       "      <td>82</td>\n",
       "      <td>220</td>\n",
       "      <td>23</td>\n",
       "      <td>3975</td>\n",
       "      <td>3,962,829</td>\n",
       "    </tr>\n",
       "    <tr>\n",
       "      <th>480</th>\n",
       "      <td>2021-04-25</td>\n",
       "      <td>1358</td>\n",
       "      <td>1859</td>\n",
       "      <td>757</td>\n",
       "      <td>96</td>\n",
       "      <td>302</td>\n",
       "      <td>22</td>\n",
       "      <td>4394</td>\n",
       "      <td>3,366,866</td>\n",
       "    </tr>\n",
       "    <tr>\n",
       "      <th>481</th>\n",
       "      <td>2021-04-26</td>\n",
       "      <td>810</td>\n",
       "      <td>1767</td>\n",
       "      <td>614</td>\n",
       "      <td>74</td>\n",
       "      <td>298</td>\n",
       "      <td>21</td>\n",
       "      <td>3584</td>\n",
       "      <td>3,763,152</td>\n",
       "    </tr>\n",
       "    <tr>\n",
       "      <th>482</th>\n",
       "      <td>2021-04-27</td>\n",
       "      <td>754</td>\n",
       "      <td>1792</td>\n",
       "      <td>600</td>\n",
       "      <td>42</td>\n",
       "      <td>244</td>\n",
       "      <td>26</td>\n",
       "      <td>3458</td>\n",
       "      <td>7,411,269</td>\n",
       "    </tr>\n",
       "  </tbody>\n",
       "</table>\n",
       "<p>483 rows × 9 columns</p>\n",
       "</div>"
      ],
      "text/plain": [
       "Category       Date   Art  Collectible  Games  Metaverse  Other  Utility  \\\n",
       "0        2020-01-01   384           27    436         63     32        2   \n",
       "1        2020-01-02   290           31    690          3     36        0   \n",
       "2        2020-01-03   261           17    563         24     17       11   \n",
       "3        2020-01-04   372           32    827         25     21        4   \n",
       "4        2020-01-05   356           22    702         12     21        2   \n",
       "..              ...   ...          ...    ...        ...    ...      ...   \n",
       "478      2021-04-23   964         2529    387         74    206       39   \n",
       "479      2021-04-24  1248         1810    592         82    220       23   \n",
       "480      2021-04-25  1358         1859    757         96    302       22   \n",
       "481      2021-04-26   810         1767    614         74    298       21   \n",
       "482      2021-04-27   754         1792    600         42    244       26   \n",
       "\n",
       "Category  Total_NFT_Sales  Total_USD  \n",
       "0                     944     21,099  \n",
       "1                    1050     13,111  \n",
       "2                     893     39,207  \n",
       "3                    1281     31,870  \n",
       "4                    1115     21,192  \n",
       "..                    ...        ...  \n",
       "478                  4199  5,248,629  \n",
       "479                  3975  3,962,829  \n",
       "480                  4394  3,366,866  \n",
       "481                  3584  3,763,152  \n",
       "482                  3458  7,411,269  \n",
       "\n",
       "[483 rows x 9 columns]"
      ]
     },
     "execution_count": 34,
     "metadata": {},
     "output_type": "execute_result"
    }
   ],
   "source": [
    "df2"
   ]
  },
  {
   "cell_type": "code",
   "execution_count": 35,
   "metadata": {
    "id": "X2s2hVMvK2oo"
   },
   "outputs": [],
   "source": [
    "df2.to_csv(r'cleaned_df.csv', index = False)"
   ]
  },
  {
   "cell_type": "markdown",
   "metadata": {
    "id": "4tzNUQpKg0sh"
   },
   "source": [
    "# Plotting"
   ]
  },
  {
   "cell_type": "markdown",
   "metadata": {
    "id": "Inl-CsvgwRGq"
   },
   "source": [
    "## Plotting with Seaborn and Matplotlib"
   ]
  },
  {
   "cell_type": "code",
   "execution_count": 36,
   "metadata": {
    "id": "Myj6m3jTg48A"
   },
   "outputs": [],
   "source": [
    "import seaborn as sns\n",
    "import matplotlib.pyplot as plt"
   ]
  },
  {
   "cell_type": "markdown",
   "metadata": {
    "id": "kkvTG0UBGd3T"
   },
   "source": [
    "### Line plot showing total number of NFT sales"
   ]
  },
  {
   "cell_type": "markdown",
   "metadata": {
    "id": "_AFxAl9NGndx"
   },
   "source": [
    "### Subplots showing number of NFT sales by category"
   ]
  },
  {
   "cell_type": "code",
   "execution_count": 39,
   "metadata": {
    "colab": {
     "base_uri": "https://localhost:8080/",
     "height": 522
    },
    "id": "Ddnl_8JHfDUD",
    "outputId": "ea6fbd41-5b16-457f-ed2d-1cda910fd6f9"
   },
   "outputs": [
    {
     "data": {
      "image/png": "[encoded data removed]",
      "text/plain": [
       "<Figure size 864x576 with 2 Axes>"
      ]
     },
     "metadata": {},
     "output_type": "display_data"
    }
   ],
   "source": [
    "# Define figure size and style.\n",
    "sns.set(rc={\"figure.figsize\":(12, 8)}) \n",
    "sns.set_style(\"darkgrid\")\n",
    "sns.set_context(\"notebook\")\n",
    "\n",
    "# Setting variables \n",
    "total_nft_sales = df2[\"Total_NFT_Sales\"]\n",
    "usd = df2[\"Total_USD\"]\n",
    "\n",
    "# Creating the figure\n",
    "fig2, (ax1, ax2)  = plt.subplots(nrows=2, sharex=True)\n",
    "\n",
    "# Creating a subplots for each category\n",
    "ax1.plot(date, total_nft_sales, label=\"Total number of NFT sales\", color=\"blue\")\n",
    "ax2.plot(date, usd, label=\"NFT Sales in USD\", color=\"black\")\n",
    "\n",
    "# Setting title, legengs and ylabels\n",
    "ax1.set_title('Total number of NFT Sales')\n",
    "ax1.legend(loc=\"upper left\")\n",
    "ax1.set_ylabel('Number of NFT Sales')\n",
    "\n",
    "ax2.set_title('NFT sales in USD')\n",
    "ax2.legend(loc=\"upper left\")\n",
    "ax2.set_ylabel('USD in millions')\n",
    "\n",
    "# Adjusting ticks\n",
    "plt.yticks([0, 5000000, 10000000, 15000000, 20000000, 25000000], [\"0\", \"5\", \"10\", \"15\", \"20\", \"25\"])\n",
    "\n",
    "# Rotating xticks\n",
    "plt.xticks(rotation = 30)\n",
    "\n",
    "# Aligning ylabels \n",
    "fig2.align_ylabels()\n",
    "\n",
    "\n",
    "plt.show()"
   ]
  },
  {
   "cell_type": "code",
   "execution_count": 38,
   "metadata": {
    "colab": {
     "base_uri": "https://localhost:8080/",
     "height": 757
    },
    "id": "sMW7N_u_QOpa",
    "outputId": "7fc130c3-0078-46c3-e388-88fab50f8071"
   },
   "outputs": [
    {
     "data": {
      "image/png": "[encoded data removed]",
      "text/plain": [
       "<Figure size 864x864 with 6 Axes>"
      ]
     },
     "metadata": {},
     "output_type": "display_data"
    }
   ],
   "source": [
    "# Define figure size and style.\n",
    "sns.set(rc={\"figure.figsize\":(12, 12)}) \n",
    "sns.set_style(\"darkgrid\")\n",
    "sns.set_context(\"notebook\")\n",
    "\n",
    "# Setting variables \n",
    "date = df2[\"Date\"]\n",
    "art = df2[\"Art\"]\n",
    "collectible = df2[\"Collectible\"]\n",
    "games = df2[\"Games\"]\n",
    "metaverse = df2[\"Metaverse\"]\n",
    "other = df2[\"Other\"]\n",
    "utility = df2[\"Utility\"]\n",
    "\n",
    "# Creating the figure\n",
    "fig1, (ax1, ax2, ax3, ax4, ax5, ax6)  = plt.subplots(nrows=6, sharex=True)\n",
    "\n",
    "# Creating a subplots for each category\n",
    "ax1.plot(date, art, label=\"Art\", color=\"tab:orange\")\n",
    "ax2.plot(date, collectible, label=\"Collectible\", color=\"tab:green\")\n",
    "ax3.plot(date, games, label=\"Games\", color=\"tab:purple\")\n",
    "ax4.plot(date, metaverse, label=\"Metaverse\", color=\"tab:red\")\n",
    "ax5.plot(date, other, label=\"Other\", color=\"tab:brown\")\n",
    "ax6.plot(date, utility, label=\"Utility\", color=\"tab:pink\")\n",
    "\n",
    "# Setting title, legengs and ylabels\n",
    "ax1.set_title('Number of NFT sales by category')\n",
    "ax1.legend(loc=\"upper left\")\n",
    "ax1.set_ylabel('# of NFT Sales')\n",
    "ax2.legend(loc=\"upper left\")\n",
    "ax2.set_ylabel('# of NFT Sales')\n",
    "ax3.legend(loc=\"upper left\")\n",
    "ax3.set_ylabel('# of NFT Sales')\n",
    "ax4.legend(loc=\"upper left\")\n",
    "ax4.set_ylabel('# of NFT Sales')\n",
    "ax5.legend(loc=\"upper left\")\n",
    "ax5.set_ylabel('# of NFT Sales')\n",
    "ax6.legend(loc=\"upper left\")\n",
    "ax6.set_ylabel('# of NFT Sales')\n",
    "ax6.set_xlabel('Time')\n",
    "\n",
    "# Rotating xticks\n",
    "plt.xticks(rotation = 30)\n",
    "\n",
    "# Aligning ylabels \n",
    "fig1.align_ylabels()\n",
    "\n",
    "plt.show()"
   ]
  },
  {
   "cell_type": "markdown",
   "metadata": {
    "id": "7PH_ydhIv7eE"
   },
   "source": [
    "#ETH price and Google trends exploratory data analysis"
   ]
  },
  {
   "cell_type": "markdown",
   "metadata": {
    "id": "n5aO5jX1XHtC"
   },
   "source": [
    "This notebook begins with the exploratory analysis on the google trends search terms \"opensea\", \"OpenSea\", and \"NFT\". The correlation between these search words and the volume of traded NFTs is also found. \n",
    "\n",
    "Following a similar approach is used on the ETH price and the volume of traded NFTs. \n"
   ]
  },
  {
   "cell_type": "markdown",
   "metadata": {
    "id": "76AvzKOwX9-x"
   },
   "source": [
    "##Google Trends"
   ]
  },
  {
   "cell_type": "code",
   "execution_count": 89,
   "metadata": {
    "id": "85INFrJnhiBE"
   },
   "outputs": [],
   "source": [
    "# importing some necessary libraries\n",
    "import pandas as pd\n",
    "import numpy as np\n",
    "import seaborn as sns"
   ]
  },
  {
   "cell_type": "markdown",
   "metadata": {
    "id": "2yhazqfNzLh7"
   },
   "source": [
    "Read in all the datasets, save them as pandas dataframes\n",
    " "
   ]
  },
  {
   "cell_type": "code",
   "execution_count": 216,
   "metadata": {
    "id": "buH-UvdYVg_X"
   },
   "outputs": [],
   "source": [
    "NFT = pd.read_excel(\"https://drive.google.com/uc?export=download&id=1REBAaGwocITQQ4pYDP98MaHxJ8fZlhYl\") "
   ]
  },
  {
   "cell_type": "code",
   "execution_count": 217,
   "metadata": {
    "id": "pGUQaxF6Vg5O"
   },
   "outputs": [],
   "source": [
    "opensea = pd.read_excel(\"https://drive.google.com/uc?export=download&id=1A-fdxNbUcAkEZRn1WO6TevLaqER3SHQ7\") "
   ]
  },
  {
   "cell_type": "code",
   "execution_count": 218,
   "metadata": {
    "id": "GZ94ESNfVgyd"
   },
   "outputs": [],
   "source": [
    "OpenSea = pd.read_excel(\"https://drive.google.com/uc?export=download&id=1F4kH95HLlesznHMt0x-NLolpprBYAZl6\")"
   ]
  },
  {
   "cell_type": "code",
   "execution_count": 219,
   "metadata": {
    "id": "ZDCCZKzQV9o1"
   },
   "outputs": [],
   "source": [
    "historical_ETH = pd.read_csv(\"https://drive.google.com/uc?export=download&id=1ilQqSijWoO6o91m6huxWNG7HUt1uXUWu\")"
   ]
  },
  {
   "cell_type": "code",
   "execution_count": 220,
   "metadata": {
    "id": "Z1G_f0GK6v1d"
   },
   "outputs": [],
   "source": [
    "traded_nfts = pd.read_csv(\"https://drive.google.com/uc?export=download&id=1uAhVU-4GrdZrmyBpXm_Z45DNRwiEDRWQ\")"
   ]
  },
  {
   "cell_type": "markdown",
   "metadata": {
    "id": "PzAg6eevd-vp"
   },
   "source": [
    "Processing the google trends searches\n"
   ]
  },
  {
   "cell_type": "code",
   "execution_count": 181,
   "metadata": {
    "id": "tQvYGD63ce2L"
   },
   "outputs": [],
   "source": [
    "from matplotlib import pyplot as plt "
   ]
  },
  {
   "cell_type": "code",
   "execution_count": 221,
   "metadata": {},
   "outputs": [],
   "source": [
    "#Setting it so it will display the 2 decimal points\n",
    "pd.options.display.float_format = '{:,.2f}'.format"
   ]
  },
  {
   "cell_type": "code",
   "execution_count": 222,
   "metadata": {
    "colab": {
     "base_uri": "https://localhost:8080/"
    },
    "id": "6IslxcNIWHqH",
    "outputId": "717a6bf6-bff7-4617-92ff-35eaf1b3d1cb"
   },
   "outputs": [
    {
     "name": "stdout",
     "output_type": "stream",
     "text": [
      "<class 'pandas.core.frame.DataFrame'>\n",
      "RangeIndex: 153 entries, 0 to 152\n",
      "Data columns (total 2 columns):\n",
      " #   Column            Non-Null Count  Dtype         \n",
      "---  ------            --------------  -----         \n",
      " 0   Week              153 non-null    datetime64[ns]\n",
      " 1   NFT: (Worldwide)  153 non-null    object        \n",
      "dtypes: datetime64[ns](1), object(1)\n",
      "memory usage: 2.5+ KB\n"
     ]
    }
   ],
   "source": [
    "#take a look at the dataframe, there are 153 rows, and the time is also a regular column\n",
    "NFT.info()"
   ]
  },
  {
   "cell_type": "code",
   "execution_count": 223,
   "metadata": {
    "colab": {
     "base_uri": "https://localhost:8080/",
     "height": 424
    },
    "id": "agTbzmbAdM0Z",
    "outputId": "7598dd1f-48ea-4bd7-923a-09257219204e"
   },
   "outputs": [
    {
     "data": {
      "text/html": [
       "<div>\n",
       "<style scoped>\n",
       "    .dataframe tbody tr th:only-of-type {\n",
       "        vertical-align: middle;\n",
       "    }\n",
       "\n",
       "    .dataframe tbody tr th {\n",
       "        vertical-align: top;\n",
       "    }\n",
       "\n",
       "    .dataframe thead th {\n",
       "        text-align: right;\n",
       "    }\n",
       "</style>\n",
       "<table border=\"1\" class=\"dataframe\">\n",
       "  <thead>\n",
       "    <tr style=\"text-align: right;\">\n",
       "      <th></th>\n",
       "      <th>Week</th>\n",
       "      <th>NFT: (Worldwide)</th>\n",
       "    </tr>\n",
       "  </thead>\n",
       "  <tbody>\n",
       "    <tr>\n",
       "      <th>0</th>\n",
       "      <td>2019-01-06</td>\n",
       "      <td>1.00</td>\n",
       "    </tr>\n",
       "    <tr>\n",
       "      <th>1</th>\n",
       "      <td>2019-01-13</td>\n",
       "      <td>&lt;1</td>\n",
       "    </tr>\n",
       "    <tr>\n",
       "      <th>2</th>\n",
       "      <td>2019-01-20</td>\n",
       "      <td>1.00</td>\n",
       "    </tr>\n",
       "    <tr>\n",
       "      <th>3</th>\n",
       "      <td>2019-01-27</td>\n",
       "      <td>1.00</td>\n",
       "    </tr>\n",
       "    <tr>\n",
       "      <th>4</th>\n",
       "      <td>2019-02-03</td>\n",
       "      <td>1.00</td>\n",
       "    </tr>\n",
       "    <tr>\n",
       "      <th>...</th>\n",
       "      <td>...</td>\n",
       "      <td>...</td>\n",
       "    </tr>\n",
       "    <tr>\n",
       "      <th>148</th>\n",
       "      <td>2021-11-07</td>\n",
       "      <td>86.00</td>\n",
       "    </tr>\n",
       "    <tr>\n",
       "      <th>149</th>\n",
       "      <td>2021-11-14</td>\n",
       "      <td>87.00</td>\n",
       "    </tr>\n",
       "    <tr>\n",
       "      <th>150</th>\n",
       "      <td>2021-11-21</td>\n",
       "      <td>84.00</td>\n",
       "    </tr>\n",
       "    <tr>\n",
       "      <th>151</th>\n",
       "      <td>2021-11-28</td>\n",
       "      <td>100.00</td>\n",
       "    </tr>\n",
       "    <tr>\n",
       "      <th>152</th>\n",
       "      <td>2021-12-05</td>\n",
       "      <td>98.00</td>\n",
       "    </tr>\n",
       "  </tbody>\n",
       "</table>\n",
       "<p>153 rows × 2 columns</p>\n",
       "</div>"
      ],
      "text/plain": [
       "          Week NFT: (Worldwide)\n",
       "0   2019-01-06             1.00\n",
       "1   2019-01-13               <1\n",
       "2   2019-01-20             1.00\n",
       "3   2019-01-27             1.00\n",
       "4   2019-02-03             1.00\n",
       "..         ...              ...\n",
       "148 2021-11-07            86.00\n",
       "149 2021-11-14            87.00\n",
       "150 2021-11-21            84.00\n",
       "151 2021-11-28           100.00\n",
       "152 2021-12-05            98.00\n",
       "\n",
       "[153 rows x 2 columns]"
      ]
     },
     "execution_count": 223,
     "metadata": {},
     "output_type": "execute_result"
    }
   ],
   "source": [
    "NFT"
   ]
  },
  {
   "cell_type": "code",
   "execution_count": 224,
   "metadata": {
    "colab": {
     "base_uri": "https://localhost:8080/",
     "height": 424
    },
    "id": "vm1LWPN8aL2i",
    "outputId": "d7d006b8-d18f-40e7-dccb-99784011ede0"
   },
   "outputs": [
    {
     "data": {
      "text/html": [
       "<div>\n",
       "<style scoped>\n",
       "    .dataframe tbody tr th:only-of-type {\n",
       "        vertical-align: middle;\n",
       "    }\n",
       "\n",
       "    .dataframe tbody tr th {\n",
       "        vertical-align: top;\n",
       "    }\n",
       "\n",
       "    .dataframe thead th {\n",
       "        text-align: right;\n",
       "    }\n",
       "</style>\n",
       "<table border=\"1\" class=\"dataframe\">\n",
       "  <thead>\n",
       "    <tr style=\"text-align: right;\">\n",
       "      <th></th>\n",
       "      <th>Week</th>\n",
       "      <th>opensea: (Worldwide)</th>\n",
       "    </tr>\n",
       "  </thead>\n",
       "  <tbody>\n",
       "    <tr>\n",
       "      <th>0</th>\n",
       "      <td>2019-01-06</td>\n",
       "      <td>&lt;1</td>\n",
       "    </tr>\n",
       "    <tr>\n",
       "      <th>1</th>\n",
       "      <td>2019-01-13</td>\n",
       "      <td>&lt;1</td>\n",
       "    </tr>\n",
       "    <tr>\n",
       "      <th>2</th>\n",
       "      <td>2019-01-20</td>\n",
       "      <td>&lt;1</td>\n",
       "    </tr>\n",
       "    <tr>\n",
       "      <th>3</th>\n",
       "      <td>2019-01-27</td>\n",
       "      <td>&lt;1</td>\n",
       "    </tr>\n",
       "    <tr>\n",
       "      <th>4</th>\n",
       "      <td>2019-02-03</td>\n",
       "      <td>&lt;1</td>\n",
       "    </tr>\n",
       "    <tr>\n",
       "      <th>...</th>\n",
       "      <td>...</td>\n",
       "      <td>...</td>\n",
       "    </tr>\n",
       "    <tr>\n",
       "      <th>148</th>\n",
       "      <td>2021-11-07</td>\n",
       "      <td>78.00</td>\n",
       "    </tr>\n",
       "    <tr>\n",
       "      <th>149</th>\n",
       "      <td>2021-11-14</td>\n",
       "      <td>81.00</td>\n",
       "    </tr>\n",
       "    <tr>\n",
       "      <th>150</th>\n",
       "      <td>2021-11-21</td>\n",
       "      <td>77.00</td>\n",
       "    </tr>\n",
       "    <tr>\n",
       "      <th>151</th>\n",
       "      <td>2021-11-28</td>\n",
       "      <td>81.00</td>\n",
       "    </tr>\n",
       "    <tr>\n",
       "      <th>152</th>\n",
       "      <td>2021-12-05</td>\n",
       "      <td>94.00</td>\n",
       "    </tr>\n",
       "  </tbody>\n",
       "</table>\n",
       "<p>153 rows × 2 columns</p>\n",
       "</div>"
      ],
      "text/plain": [
       "          Week opensea: (Worldwide)\n",
       "0   2019-01-06                   <1\n",
       "1   2019-01-13                   <1\n",
       "2   2019-01-20                   <1\n",
       "3   2019-01-27                   <1\n",
       "4   2019-02-03                   <1\n",
       "..         ...                  ...\n",
       "148 2021-11-07                78.00\n",
       "149 2021-11-14                81.00\n",
       "150 2021-11-21                77.00\n",
       "151 2021-11-28                81.00\n",
       "152 2021-12-05                94.00\n",
       "\n",
       "[153 rows x 2 columns]"
      ]
     },
     "execution_count": 224,
     "metadata": {},
     "output_type": "execute_result"
    }
   ],
   "source": [
    "opensea"
   ]
  },
  {
   "cell_type": "markdown",
   "metadata": {
    "id": "TXy7UxNyf8JR"
   },
   "source": [
    "The three dataframes are separate, and they should be merged for an easier analysis. "
   ]
  },
  {
   "cell_type": "code",
   "execution_count": 225,
   "metadata": {
    "id": "8tkLLhuOvV_V"
   },
   "outputs": [],
   "source": [
    "#first create a temporary dataframe, with the \"Nft\" and \"opensea\" being merged\n",
    "merging = pd.merge(left= NFT, right=opensea, how=\"outer\")"
   ]
  },
  {
   "cell_type": "code",
   "execution_count": 226,
   "metadata": {
    "id": "gA5fvBnKjOlY"
   },
   "outputs": [],
   "source": [
    "#finalize the dataframe to be used in the exploratory analysis\n",
    "google_trends = pd.merge(left= merging, right=OpenSea, how=\"outer\")"
   ]
  },
  {
   "cell_type": "code",
   "execution_count": 227,
   "metadata": {
    "colab": {
     "base_uri": "https://localhost:8080/"
    },
    "id": "9DpgQ4jkvV3F",
    "outputId": "b3773f81-2e04-4070-94a4-a1428fcbbb29"
   },
   "outputs": [
    {
     "name": "stdout",
     "output_type": "stream",
     "text": [
      "<class 'pandas.core.frame.DataFrame'>\n",
      "Int64Index: 153 entries, 0 to 152\n",
      "Data columns (total 4 columns):\n",
      " #   Column                Non-Null Count  Dtype         \n",
      "---  ------                --------------  -----         \n",
      " 0   Week                  153 non-null    datetime64[ns]\n",
      " 1   NFT: (Worldwide)      153 non-null    object        \n",
      " 2   opensea: (Worldwide)  153 non-null    object        \n",
      " 3   OpenSea: (Worldwide)  153 non-null    object        \n",
      "dtypes: datetime64[ns](1), object(3)\n",
      "memory usage: 6.0+ KB\n"
     ]
    }
   ],
   "source": [
    "#the dataset contains the 3 search terms and the Week columns\n",
    "google_trends.info()"
   ]
  },
  {
   "cell_type": "code",
   "execution_count": 228,
   "metadata": {
    "colab": {
     "base_uri": "https://localhost:8080/",
     "height": 424
    },
    "id": "VhwNTy9tvVt6",
    "outputId": "37fb4361-b4e8-44c7-b1ae-89ad88463434"
   },
   "outputs": [
    {
     "data": {
      "text/html": [
       "<div>\n",
       "<style scoped>\n",
       "    .dataframe tbody tr th:only-of-type {\n",
       "        vertical-align: middle;\n",
       "    }\n",
       "\n",
       "    .dataframe tbody tr th {\n",
       "        vertical-align: top;\n",
       "    }\n",
       "\n",
       "    .dataframe thead th {\n",
       "        text-align: right;\n",
       "    }\n",
       "</style>\n",
       "<table border=\"1\" class=\"dataframe\">\n",
       "  <thead>\n",
       "    <tr style=\"text-align: right;\">\n",
       "      <th></th>\n",
       "      <th>Week</th>\n",
       "      <th>NFT: (Worldwide)</th>\n",
       "      <th>opensea: (Worldwide)</th>\n",
       "      <th>OpenSea: (Worldwide)</th>\n",
       "    </tr>\n",
       "  </thead>\n",
       "  <tbody>\n",
       "    <tr>\n",
       "      <th>0</th>\n",
       "      <td>2019-01-06</td>\n",
       "      <td>1.00</td>\n",
       "      <td>&lt;1</td>\n",
       "      <td>1.00</td>\n",
       "    </tr>\n",
       "    <tr>\n",
       "      <th>1</th>\n",
       "      <td>2019-01-13</td>\n",
       "      <td>&lt;1</td>\n",
       "      <td>&lt;1</td>\n",
       "      <td>&lt;1</td>\n",
       "    </tr>\n",
       "    <tr>\n",
       "      <th>2</th>\n",
       "      <td>2019-01-20</td>\n",
       "      <td>1.00</td>\n",
       "      <td>&lt;1</td>\n",
       "      <td>1.00</td>\n",
       "    </tr>\n",
       "    <tr>\n",
       "      <th>3</th>\n",
       "      <td>2019-01-27</td>\n",
       "      <td>1.00</td>\n",
       "      <td>&lt;1</td>\n",
       "      <td>&lt;1</td>\n",
       "    </tr>\n",
       "    <tr>\n",
       "      <th>4</th>\n",
       "      <td>2019-02-03</td>\n",
       "      <td>1.00</td>\n",
       "      <td>&lt;1</td>\n",
       "      <td>1.00</td>\n",
       "    </tr>\n",
       "    <tr>\n",
       "      <th>...</th>\n",
       "      <td>...</td>\n",
       "      <td>...</td>\n",
       "      <td>...</td>\n",
       "      <td>...</td>\n",
       "    </tr>\n",
       "    <tr>\n",
       "      <th>148</th>\n",
       "      <td>2021-11-07</td>\n",
       "      <td>86.00</td>\n",
       "      <td>78.00</td>\n",
       "      <td>71.00</td>\n",
       "    </tr>\n",
       "    <tr>\n",
       "      <th>149</th>\n",
       "      <td>2021-11-14</td>\n",
       "      <td>87.00</td>\n",
       "      <td>81.00</td>\n",
       "      <td>79.00</td>\n",
       "    </tr>\n",
       "    <tr>\n",
       "      <th>150</th>\n",
       "      <td>2021-11-21</td>\n",
       "      <td>84.00</td>\n",
       "      <td>77.00</td>\n",
       "      <td>71.00</td>\n",
       "    </tr>\n",
       "    <tr>\n",
       "      <th>151</th>\n",
       "      <td>2021-11-28</td>\n",
       "      <td>100.00</td>\n",
       "      <td>81.00</td>\n",
       "      <td>76.00</td>\n",
       "    </tr>\n",
       "    <tr>\n",
       "      <th>152</th>\n",
       "      <td>2021-12-05</td>\n",
       "      <td>98.00</td>\n",
       "      <td>94.00</td>\n",
       "      <td>88.00</td>\n",
       "    </tr>\n",
       "  </tbody>\n",
       "</table>\n",
       "<p>153 rows × 4 columns</p>\n",
       "</div>"
      ],
      "text/plain": [
       "          Week NFT: (Worldwide) opensea: (Worldwide) OpenSea: (Worldwide)\n",
       "0   2019-01-06             1.00                   <1                 1.00\n",
       "1   2019-01-13               <1                   <1                   <1\n",
       "2   2019-01-20             1.00                   <1                 1.00\n",
       "3   2019-01-27             1.00                   <1                   <1\n",
       "4   2019-02-03             1.00                   <1                 1.00\n",
       "..         ...              ...                  ...                  ...\n",
       "148 2021-11-07            86.00                78.00                71.00\n",
       "149 2021-11-14            87.00                81.00                79.00\n",
       "150 2021-11-21            84.00                77.00                71.00\n",
       "151 2021-11-28           100.00                81.00                76.00\n",
       "152 2021-12-05            98.00                94.00                88.00\n",
       "\n",
       "[153 rows x 4 columns]"
      ]
     },
     "execution_count": 228,
     "metadata": {},
     "output_type": "execute_result"
    }
   ],
   "source": [
    "google_trends"
   ]
  },
  {
   "cell_type": "code",
   "execution_count": 229,
   "metadata": {
    "id": "FmcMrsTrhnlA"
   },
   "outputs": [],
   "source": [
    "#convert the \"Week\" column to datetime and set it as index\n",
    "google_trends[\"Week\"] = pd.to_datetime(google_trends[\"Week\"])\n",
    "google_trends = google_trends.set_index(\"Week\")"
   ]
  },
  {
   "cell_type": "code",
   "execution_count": 230,
   "metadata": {
    "colab": {
     "base_uri": "https://localhost:8080/"
    },
    "id": "f-C_yZjhhwuV",
    "outputId": "417e27f2-d850-43d1-c8e9-24a27a1a441e"
   },
   "outputs": [
    {
     "name": "stdout",
     "output_type": "stream",
     "text": [
      "<class 'pandas.core.frame.DataFrame'>\n",
      "DatetimeIndex: 153 entries, 2019-01-06 to 2021-12-05\n",
      "Data columns (total 3 columns):\n",
      " #   Column                Non-Null Count  Dtype \n",
      "---  ------                --------------  ----- \n",
      " 0   NFT: (Worldwide)      153 non-null    object\n",
      " 1   opensea: (Worldwide)  153 non-null    object\n",
      " 2   OpenSea: (Worldwide)  153 non-null    object\n",
      "dtypes: object(3)\n",
      "memory usage: 4.8+ KB\n"
     ]
    }
   ],
   "source": [
    "google_trends.info()"
   ]
  },
  {
   "cell_type": "code",
   "execution_count": 231,
   "metadata": {
    "id": "dhJVZ0HhkHzg"
   },
   "outputs": [],
   "source": [
    "# the columns have rather difficult names, they need to be renamed\n",
    "google_trends = google_trends.rename(columns={\"NFT: (Worldwide)\":\"NFT\", \n",
    "                              \"opensea: (Worldwide)\":\"opensea\",\n",
    "                              \"OpenSea: (Worldwide)\":\"OpenSea\"})"
   ]
  },
  {
   "cell_type": "code",
   "execution_count": 232,
   "metadata": {
    "colab": {
     "base_uri": "https://localhost:8080/"
    },
    "id": "ow7Q6_LspHax",
    "outputId": "5315aefb-e315-4600-ed3c-70bf7de6e727"
   },
   "outputs": [
    {
     "name": "stdout",
     "output_type": "stream",
     "text": [
      "<class 'pandas.core.frame.DataFrame'>\n",
      "DatetimeIndex: 153 entries, 2019-01-06 to 2021-12-05\n",
      "Data columns (total 3 columns):\n",
      " #   Column   Non-Null Count  Dtype \n",
      "---  ------   --------------  ----- \n",
      " 0   NFT      153 non-null    object\n",
      " 1   opensea  153 non-null    object\n",
      " 2   OpenSea  153 non-null    object\n",
      "dtypes: object(3)\n",
      "memory usage: 4.8+ KB\n"
     ]
    }
   ],
   "source": [
    "google_trends.info()"
   ]
  },
  {
   "cell_type": "code",
   "execution_count": 233,
   "metadata": {
    "colab": {
     "base_uri": "https://localhost:8080/",
     "height": 455
    },
    "id": "-OHZsTtIqooB",
    "outputId": "172d8376-0184-4a26-ac60-ffcecbb6c05f"
   },
   "outputs": [
    {
     "data": {
      "text/html": [
       "<div>\n",
       "<style scoped>\n",
       "    .dataframe tbody tr th:only-of-type {\n",
       "        vertical-align: middle;\n",
       "    }\n",
       "\n",
       "    .dataframe tbody tr th {\n",
       "        vertical-align: top;\n",
       "    }\n",
       "\n",
       "    .dataframe thead th {\n",
       "        text-align: right;\n",
       "    }\n",
       "</style>\n",
       "<table border=\"1\" class=\"dataframe\">\n",
       "  <thead>\n",
       "    <tr style=\"text-align: right;\">\n",
       "      <th></th>\n",
       "      <th>NFT</th>\n",
       "      <th>opensea</th>\n",
       "      <th>OpenSea</th>\n",
       "    </tr>\n",
       "    <tr>\n",
       "      <th>Week</th>\n",
       "      <th></th>\n",
       "      <th></th>\n",
       "      <th></th>\n",
       "    </tr>\n",
       "  </thead>\n",
       "  <tbody>\n",
       "    <tr>\n",
       "      <th>2019-01-06</th>\n",
       "      <td>1.00</td>\n",
       "      <td>&lt;1</td>\n",
       "      <td>1.00</td>\n",
       "    </tr>\n",
       "    <tr>\n",
       "      <th>2019-01-13</th>\n",
       "      <td>&lt;1</td>\n",
       "      <td>&lt;1</td>\n",
       "      <td>&lt;1</td>\n",
       "    </tr>\n",
       "    <tr>\n",
       "      <th>2019-01-20</th>\n",
       "      <td>1.00</td>\n",
       "      <td>&lt;1</td>\n",
       "      <td>1.00</td>\n",
       "    </tr>\n",
       "    <tr>\n",
       "      <th>2019-01-27</th>\n",
       "      <td>1.00</td>\n",
       "      <td>&lt;1</td>\n",
       "      <td>&lt;1</td>\n",
       "    </tr>\n",
       "    <tr>\n",
       "      <th>2019-02-03</th>\n",
       "      <td>1.00</td>\n",
       "      <td>&lt;1</td>\n",
       "      <td>1.00</td>\n",
       "    </tr>\n",
       "    <tr>\n",
       "      <th>...</th>\n",
       "      <td>...</td>\n",
       "      <td>...</td>\n",
       "      <td>...</td>\n",
       "    </tr>\n",
       "    <tr>\n",
       "      <th>2021-11-07</th>\n",
       "      <td>86.00</td>\n",
       "      <td>78.00</td>\n",
       "      <td>71.00</td>\n",
       "    </tr>\n",
       "    <tr>\n",
       "      <th>2021-11-14</th>\n",
       "      <td>87.00</td>\n",
       "      <td>81.00</td>\n",
       "      <td>79.00</td>\n",
       "    </tr>\n",
       "    <tr>\n",
       "      <th>2021-11-21</th>\n",
       "      <td>84.00</td>\n",
       "      <td>77.00</td>\n",
       "      <td>71.00</td>\n",
       "    </tr>\n",
       "    <tr>\n",
       "      <th>2021-11-28</th>\n",
       "      <td>100.00</td>\n",
       "      <td>81.00</td>\n",
       "      <td>76.00</td>\n",
       "    </tr>\n",
       "    <tr>\n",
       "      <th>2021-12-05</th>\n",
       "      <td>98.00</td>\n",
       "      <td>94.00</td>\n",
       "      <td>88.00</td>\n",
       "    </tr>\n",
       "  </tbody>\n",
       "</table>\n",
       "<p>153 rows × 3 columns</p>\n",
       "</div>"
      ],
      "text/plain": [
       "              NFT opensea OpenSea\n",
       "Week                             \n",
       "2019-01-06   1.00      <1    1.00\n",
       "2019-01-13     <1      <1      <1\n",
       "2019-01-20   1.00      <1    1.00\n",
       "2019-01-27   1.00      <1      <1\n",
       "2019-02-03   1.00      <1    1.00\n",
       "...           ...     ...     ...\n",
       "2021-11-07  86.00   78.00   71.00\n",
       "2021-11-14  87.00   81.00   79.00\n",
       "2021-11-21  84.00   77.00   71.00\n",
       "2021-11-28 100.00   81.00   76.00\n",
       "2021-12-05  98.00   94.00   88.00\n",
       "\n",
       "[153 rows x 3 columns]"
      ]
     },
     "execution_count": 233,
     "metadata": {},
     "output_type": "execute_result"
    }
   ],
   "source": [
    "#the data is looking cleaner\n",
    "google_trends"
   ]
  },
  {
   "cell_type": "code",
   "execution_count": 234,
   "metadata": {
    "id": "6-ffwui8sev_"
   },
   "outputs": [],
   "source": [
    "# some entries contain a symbol which prevents conversion of the values to \"integers\" type\n",
    "# replace the < with an empty character\n",
    "columns = [\"NFT\", \"opensea\", \"OpenSea\"]\n",
    "\n",
    "google_trends = google_trends[columns].replace({\"<\":\"\"}, regex=True)"
   ]
  },
  {
   "cell_type": "code",
   "execution_count": 235,
   "metadata": {
    "colab": {
     "base_uri": "https://localhost:8080/",
     "height": 455
    },
    "id": "uVSYxiIEqrnD",
    "outputId": "759a9533-6a10-4148-b5a1-20f33d03eb39"
   },
   "outputs": [
    {
     "data": {
      "text/html": [
       "<div>\n",
       "<style scoped>\n",
       "    .dataframe tbody tr th:only-of-type {\n",
       "        vertical-align: middle;\n",
       "    }\n",
       "\n",
       "    .dataframe tbody tr th {\n",
       "        vertical-align: top;\n",
       "    }\n",
       "\n",
       "    .dataframe thead th {\n",
       "        text-align: right;\n",
       "    }\n",
       "</style>\n",
       "<table border=\"1\" class=\"dataframe\">\n",
       "  <thead>\n",
       "    <tr style=\"text-align: right;\">\n",
       "      <th></th>\n",
       "      <th>NFT</th>\n",
       "      <th>opensea</th>\n",
       "      <th>OpenSea</th>\n",
       "    </tr>\n",
       "    <tr>\n",
       "      <th>Week</th>\n",
       "      <th></th>\n",
       "      <th></th>\n",
       "      <th></th>\n",
       "    </tr>\n",
       "  </thead>\n",
       "  <tbody>\n",
       "    <tr>\n",
       "      <th>2019-01-06</th>\n",
       "      <td>1.00</td>\n",
       "      <td>1</td>\n",
       "      <td>1.00</td>\n",
       "    </tr>\n",
       "    <tr>\n",
       "      <th>2019-01-13</th>\n",
       "      <td>1</td>\n",
       "      <td>1</td>\n",
       "      <td>1</td>\n",
       "    </tr>\n",
       "    <tr>\n",
       "      <th>2019-01-20</th>\n",
       "      <td>1.00</td>\n",
       "      <td>1</td>\n",
       "      <td>1.00</td>\n",
       "    </tr>\n",
       "    <tr>\n",
       "      <th>2019-01-27</th>\n",
       "      <td>1.00</td>\n",
       "      <td>1</td>\n",
       "      <td>1</td>\n",
       "    </tr>\n",
       "    <tr>\n",
       "      <th>2019-02-03</th>\n",
       "      <td>1.00</td>\n",
       "      <td>1</td>\n",
       "      <td>1.00</td>\n",
       "    </tr>\n",
       "    <tr>\n",
       "      <th>...</th>\n",
       "      <td>...</td>\n",
       "      <td>...</td>\n",
       "      <td>...</td>\n",
       "    </tr>\n",
       "    <tr>\n",
       "      <th>2021-11-07</th>\n",
       "      <td>86.00</td>\n",
       "      <td>78.00</td>\n",
       "      <td>71.00</td>\n",
       "    </tr>\n",
       "    <tr>\n",
       "      <th>2021-11-14</th>\n",
       "      <td>87.00</td>\n",
       "      <td>81.00</td>\n",
       "      <td>79.00</td>\n",
       "    </tr>\n",
       "    <tr>\n",
       "      <th>2021-11-21</th>\n",
       "      <td>84.00</td>\n",
       "      <td>77.00</td>\n",
       "      <td>71.00</td>\n",
       "    </tr>\n",
       "    <tr>\n",
       "      <th>2021-11-28</th>\n",
       "      <td>100.00</td>\n",
       "      <td>81.00</td>\n",
       "      <td>76.00</td>\n",
       "    </tr>\n",
       "    <tr>\n",
       "      <th>2021-12-05</th>\n",
       "      <td>98.00</td>\n",
       "      <td>94.00</td>\n",
       "      <td>88.00</td>\n",
       "    </tr>\n",
       "  </tbody>\n",
       "</table>\n",
       "<p>153 rows × 3 columns</p>\n",
       "</div>"
      ],
      "text/plain": [
       "              NFT opensea OpenSea\n",
       "Week                             \n",
       "2019-01-06   1.00       1    1.00\n",
       "2019-01-13      1       1       1\n",
       "2019-01-20   1.00       1    1.00\n",
       "2019-01-27   1.00       1       1\n",
       "2019-02-03   1.00       1    1.00\n",
       "...           ...     ...     ...\n",
       "2021-11-07  86.00   78.00   71.00\n",
       "2021-11-14  87.00   81.00   79.00\n",
       "2021-11-21  84.00   77.00   71.00\n",
       "2021-11-28 100.00   81.00   76.00\n",
       "2021-12-05  98.00   94.00   88.00\n",
       "\n",
       "[153 rows x 3 columns]"
      ]
     },
     "execution_count": 235,
     "metadata": {},
     "output_type": "execute_result"
    }
   ],
   "source": [
    "google_trends"
   ]
  },
  {
   "cell_type": "code",
   "execution_count": 236,
   "metadata": {
    "id": "9dGkam07p7dA"
   },
   "outputs": [],
   "source": [
    "# now we can convert the columns to the type int\n",
    "columns = [\"NFT\", \"opensea\", \"OpenSea\"]\n",
    "google_trends[columns] = google_trends[columns].astype(int)"
   ]
  },
  {
   "cell_type": "code",
   "execution_count": 237,
   "metadata": {
    "colab": {
     "base_uri": "https://localhost:8080/",
     "height": 455
    },
    "id": "hA3Q7JDApmOL",
    "outputId": "1e89e700-0bde-41ae-d7c3-6f5da9863d61"
   },
   "outputs": [
    {
     "data": {
      "text/html": [
       "<div>\n",
       "<style scoped>\n",
       "    .dataframe tbody tr th:only-of-type {\n",
       "        vertical-align: middle;\n",
       "    }\n",
       "\n",
       "    .dataframe tbody tr th {\n",
       "        vertical-align: top;\n",
       "    }\n",
       "\n",
       "    .dataframe thead th {\n",
       "        text-align: right;\n",
       "    }\n",
       "</style>\n",
       "<table border=\"1\" class=\"dataframe\">\n",
       "  <thead>\n",
       "    <tr style=\"text-align: right;\">\n",
       "      <th></th>\n",
       "      <th>NFT</th>\n",
       "      <th>opensea</th>\n",
       "      <th>OpenSea</th>\n",
       "    </tr>\n",
       "    <tr>\n",
       "      <th>Week</th>\n",
       "      <th></th>\n",
       "      <th></th>\n",
       "      <th></th>\n",
       "    </tr>\n",
       "  </thead>\n",
       "  <tbody>\n",
       "    <tr>\n",
       "      <th>2019-01-06</th>\n",
       "      <td>1</td>\n",
       "      <td>1</td>\n",
       "      <td>1</td>\n",
       "    </tr>\n",
       "    <tr>\n",
       "      <th>2019-01-13</th>\n",
       "      <td>1</td>\n",
       "      <td>1</td>\n",
       "      <td>1</td>\n",
       "    </tr>\n",
       "    <tr>\n",
       "      <th>2019-01-20</th>\n",
       "      <td>1</td>\n",
       "      <td>1</td>\n",
       "      <td>1</td>\n",
       "    </tr>\n",
       "    <tr>\n",
       "      <th>2019-01-27</th>\n",
       "      <td>1</td>\n",
       "      <td>1</td>\n",
       "      <td>1</td>\n",
       "    </tr>\n",
       "    <tr>\n",
       "      <th>2019-02-03</th>\n",
       "      <td>1</td>\n",
       "      <td>1</td>\n",
       "      <td>1</td>\n",
       "    </tr>\n",
       "    <tr>\n",
       "      <th>...</th>\n",
       "      <td>...</td>\n",
       "      <td>...</td>\n",
       "      <td>...</td>\n",
       "    </tr>\n",
       "    <tr>\n",
       "      <th>2021-11-07</th>\n",
       "      <td>86</td>\n",
       "      <td>78</td>\n",
       "      <td>71</td>\n",
       "    </tr>\n",
       "    <tr>\n",
       "      <th>2021-11-14</th>\n",
       "      <td>87</td>\n",
       "      <td>81</td>\n",
       "      <td>79</td>\n",
       "    </tr>\n",
       "    <tr>\n",
       "      <th>2021-11-21</th>\n",
       "      <td>84</td>\n",
       "      <td>77</td>\n",
       "      <td>71</td>\n",
       "    </tr>\n",
       "    <tr>\n",
       "      <th>2021-11-28</th>\n",
       "      <td>100</td>\n",
       "      <td>81</td>\n",
       "      <td>76</td>\n",
       "    </tr>\n",
       "    <tr>\n",
       "      <th>2021-12-05</th>\n",
       "      <td>98</td>\n",
       "      <td>94</td>\n",
       "      <td>88</td>\n",
       "    </tr>\n",
       "  </tbody>\n",
       "</table>\n",
       "<p>153 rows × 3 columns</p>\n",
       "</div>"
      ],
      "text/plain": [
       "            NFT  opensea  OpenSea\n",
       "Week                             \n",
       "2019-01-06    1        1        1\n",
       "2019-01-13    1        1        1\n",
       "2019-01-20    1        1        1\n",
       "2019-01-27    1        1        1\n",
       "2019-02-03    1        1        1\n",
       "...         ...      ...      ...\n",
       "2021-11-07   86       78       71\n",
       "2021-11-14   87       81       79\n",
       "2021-11-21   84       77       71\n",
       "2021-11-28  100       81       76\n",
       "2021-12-05   98       94       88\n",
       "\n",
       "[153 rows x 3 columns]"
      ]
     },
     "execution_count": 237,
     "metadata": {},
     "output_type": "execute_result"
    }
   ],
   "source": [
    "google_trends"
   ]
  },
  {
   "cell_type": "markdown",
   "metadata": {
    "id": "GYDIwFLxZXrN"
   },
   "source": [
    "###Visualisations of the Google Trends"
   ]
  },
  {
   "cell_type": "code",
   "execution_count": 238,
   "metadata": {
    "id": "n2vWUMf_zLZX"
   },
   "outputs": [],
   "source": [
    "from matplotlib.pyplot import figure"
   ]
  },
  {
   "cell_type": "code",
   "execution_count": 239,
   "metadata": {
    "colab": {
     "base_uri": "https://localhost:8080/",
     "height": 318
    },
    "id": "FcJGBAgsncsJ",
    "outputId": "7b099516-e5a4-43a3-aa8e-dca9c76cab3d"
   },
   "outputs": [
    {
     "data": {
      "text/plain": [
       "Text(0.5, 1.0, 'Google trends searches')"
      ]
     },
     "execution_count": 239,
     "metadata": {},
     "output_type": "execute_result"
    },
    {
     "data": {
      "image/png": "[encoded data removed]",
      "text/plain": [
       "<Figure size 864x576 with 1 Axes>"
      ]
     },
     "metadata": {},
     "output_type": "display_data"
    }
   ],
   "source": [
    "#make a plot\n",
    "plt.plot(google_trends[\"NFT\"], label=\"NFT\", color=\"blue\")\n",
    "plt.plot(google_trends[\"opensea\"], label=\"opensea\", color=\"green\")\n",
    "plt.plot(google_trends[\"OpenSea\"], label=\"OpenSea\", color=\"red\")\n",
    "\n",
    "plt.legend(title='Group')\n",
    "\n",
    "\n",
    "plt.ylabel(\"Searches\", fontsize=14)\n",
    "plt.xlabel(\"Time\", fontsize=14)\n",
    "plt.title(\"Google trends searches\", fontsize=16)"
   ]
  },
  {
   "cell_type": "markdown",
   "metadata": {
    "id": "fM7RpoLX0FpO"
   },
   "source": [
    "##Investigating the ETH historical price"
   ]
  },
  {
   "cell_type": "markdown",
   "metadata": {
    "id": "FdNSoB8oZzBp"
   },
   "source": [
    "###Exploratory analysis"
   ]
  },
  {
   "cell_type": "code",
   "execution_count": 240,
   "metadata": {
    "colab": {
     "base_uri": "https://localhost:8080/",
     "height": 424
    },
    "id": "ovMAK9k50E-u",
    "outputId": "d9e8feee-0ead-4830-912e-7e797533b985"
   },
   "outputs": [
    {
     "data": {
      "text/html": [
       "<div>\n",
       "<style scoped>\n",
       "    .dataframe tbody tr th:only-of-type {\n",
       "        vertical-align: middle;\n",
       "    }\n",
       "\n",
       "    .dataframe tbody tr th {\n",
       "        vertical-align: top;\n",
       "    }\n",
       "\n",
       "    .dataframe thead th {\n",
       "        text-align: right;\n",
       "    }\n",
       "</style>\n",
       "<table border=\"1\" class=\"dataframe\">\n",
       "  <thead>\n",
       "    <tr style=\"text-align: right;\">\n",
       "      <th></th>\n",
       "      <th>Date</th>\n",
       "      <th>Close/Last</th>\n",
       "      <th>Volume</th>\n",
       "      <th>Open</th>\n",
       "      <th>High</th>\n",
       "      <th>Low</th>\n",
       "    </tr>\n",
       "  </thead>\n",
       "  <tbody>\n",
       "    <tr>\n",
       "      <th>0</th>\n",
       "      <td>12/13/2021</td>\n",
       "      <td>3,773.30</td>\n",
       "      <td>NaN</td>\n",
       "      <td>4,016.74</td>\n",
       "      <td>3,831.45</td>\n",
       "      <td>3,752.38</td>\n",
       "    </tr>\n",
       "    <tr>\n",
       "      <th>1</th>\n",
       "      <td>12/12/2021</td>\n",
       "      <td>4,012.84</td>\n",
       "      <td>NaN</td>\n",
       "      <td>4,011.48</td>\n",
       "      <td>4,141.27</td>\n",
       "      <td>3,960.12</td>\n",
       "    </tr>\n",
       "    <tr>\n",
       "      <th>2</th>\n",
       "      <td>12/11/2021</td>\n",
       "      <td>4,016.89</td>\n",
       "      <td>NaN</td>\n",
       "      <td>4,033.76</td>\n",
       "      <td>4,094.34</td>\n",
       "      <td>4,013.77</td>\n",
       "    </tr>\n",
       "    <tr>\n",
       "      <th>3</th>\n",
       "      <td>12/10/2021</td>\n",
       "      <td>4,033.19</td>\n",
       "      <td>NaN</td>\n",
       "      <td>4,127.31</td>\n",
       "      <td>4,039.67</td>\n",
       "      <td>3,836.92</td>\n",
       "    </tr>\n",
       "    <tr>\n",
       "      <th>4</th>\n",
       "      <td>12/09/2021</td>\n",
       "      <td>4,133.21</td>\n",
       "      <td>NaN</td>\n",
       "      <td>4,389.27</td>\n",
       "      <td>4,196.60</td>\n",
       "      <td>4,101.57</td>\n",
       "    </tr>\n",
       "    <tr>\n",
       "      <th>...</th>\n",
       "      <td>...</td>\n",
       "      <td>...</td>\n",
       "      <td>...</td>\n",
       "      <td>...</td>\n",
       "      <td>...</td>\n",
       "      <td>...</td>\n",
       "    </tr>\n",
       "    <tr>\n",
       "      <th>940</th>\n",
       "      <td>03/12/2019</td>\n",
       "      <td>133.80</td>\n",
       "      <td>NaN</td>\n",
       "      <td>132.99</td>\n",
       "      <td>134.93</td>\n",
       "      <td>129.14</td>\n",
       "    </tr>\n",
       "    <tr>\n",
       "      <th>941</th>\n",
       "      <td>03/11/2019</td>\n",
       "      <td>133.42</td>\n",
       "      <td>NaN</td>\n",
       "      <td>136.10</td>\n",
       "      <td>136.23</td>\n",
       "      <td>131.66</td>\n",
       "    </tr>\n",
       "    <tr>\n",
       "      <th>942</th>\n",
       "      <td>03/10/2019</td>\n",
       "      <td>135.72</td>\n",
       "      <td>NaN</td>\n",
       "      <td>137.52</td>\n",
       "      <td>137.75</td>\n",
       "      <td>134.53</td>\n",
       "    </tr>\n",
       "    <tr>\n",
       "      <th>943</th>\n",
       "      <td>03/09/2019</td>\n",
       "      <td>137.52</td>\n",
       "      <td>NaN</td>\n",
       "      <td>133.85</td>\n",
       "      <td>138.57</td>\n",
       "      <td>133.38</td>\n",
       "    </tr>\n",
       "    <tr>\n",
       "      <th>944</th>\n",
       "      <td>03/08/2019</td>\n",
       "      <td>133.85</td>\n",
       "      <td>NaN</td>\n",
       "      <td>136.93</td>\n",
       "      <td>139.45</td>\n",
       "      <td>131.66</td>\n",
       "    </tr>\n",
       "  </tbody>\n",
       "</table>\n",
       "<p>945 rows × 6 columns</p>\n",
       "</div>"
      ],
      "text/plain": [
       "           Date  Close/Last  Volume     Open     High      Low\n",
       "0    12/13/2021    3,773.30     NaN 4,016.74 3,831.45 3,752.38\n",
       "1    12/12/2021    4,012.84     NaN 4,011.48 4,141.27 3,960.12\n",
       "2    12/11/2021    4,016.89     NaN 4,033.76 4,094.34 4,013.77\n",
       "3    12/10/2021    4,033.19     NaN 4,127.31 4,039.67 3,836.92\n",
       "4    12/09/2021    4,133.21     NaN 4,389.27 4,196.60 4,101.57\n",
       "..          ...         ...     ...      ...      ...      ...\n",
       "940  03/12/2019      133.80     NaN   132.99   134.93   129.14\n",
       "941  03/11/2019      133.42     NaN   136.10   136.23   131.66\n",
       "942  03/10/2019      135.72     NaN   137.52   137.75   134.53\n",
       "943  03/09/2019      137.52     NaN   133.85   138.57   133.38\n",
       "944  03/08/2019      133.85     NaN   136.93   139.45   131.66\n",
       "\n",
       "[945 rows x 6 columns]"
      ]
     },
     "execution_count": 240,
     "metadata": {},
     "output_type": "execute_result"
    }
   ],
   "source": [
    "#the dataset is already loaded in and stored as \"historical_ETH\"\n",
    "historical_ETH"
   ]
  },
  {
   "cell_type": "markdown",
   "metadata": {
    "id": "TqnjtYoh0Sig"
   },
   "source": [
    "There is some cleanup that has to be done, to result a cleaner dataset that can more easily be used in the analysis\n",
    "\n",
    "- drop the column \"volume\"\n",
    "\n",
    "- sort \"date\" by ascending years, and set it as index\n",
    "\n",
    "- use \"open\" price for plotting the historical price. This is an arbitrary choice, saily fluctuations are not particularly interesting for this analysis (that we could get from \"High\" and \"Low\" columns).The \"open\" price is the first entry for the first day, so it appears as a good choice. "
   ]
  },
  {
   "cell_type": "code",
   "execution_count": 241,
   "metadata": {
    "id": "zzq9ZE0Vz7jD"
   },
   "outputs": [],
   "source": [
    "# drop the column \"Volume\"\n",
    "historical_ETH = historical_ETH.drop(\"Volume\", axis=1)"
   ]
  },
  {
   "cell_type": "code",
   "execution_count": 242,
   "metadata": {
    "id": "C2MM9C7s0Zkq"
   },
   "outputs": [],
   "source": [
    "#convert the column \"Date\" to DateTime format and set it as index\n",
    "historical_ETH[\"Date\"] = pd.to_datetime(historical_ETH[\"Date\"])\n",
    "historical_ETH = historical_ETH.set_index(\"Date\")"
   ]
  },
  {
   "cell_type": "code",
   "execution_count": 243,
   "metadata": {
    "id": "Hnkl0V5J15kF"
   },
   "outputs": [],
   "source": [
    "#sort the data in ascending order (it was in descending before)\n",
    "historical_ETH = historical_ETH.sort_index()"
   ]
  },
  {
   "cell_type": "code",
   "execution_count": 244,
   "metadata": {
    "colab": {
     "base_uri": "https://localhost:8080/"
    },
    "id": "rNBMNb952lNh",
    "outputId": "9a0aad2b-a2d8-4f7f-c908-2dbde29177d3"
   },
   "outputs": [
    {
     "name": "stdout",
     "output_type": "stream",
     "text": [
      "<class 'pandas.core.frame.DataFrame'>\n",
      "DatetimeIndex: 945 entries, 2019-03-08 to 2021-12-13\n",
      "Data columns (total 4 columns):\n",
      " #   Column      Non-Null Count  Dtype  \n",
      "---  ------      --------------  -----  \n",
      " 0   Close/Last  945 non-null    float64\n",
      " 1   Open        945 non-null    float64\n",
      " 2   High        945 non-null    float64\n",
      " 3   Low         945 non-null    float64\n",
      "dtypes: float64(4)\n",
      "memory usage: 36.9 KB\n"
     ]
    }
   ],
   "source": [
    "historical_ETH.info()"
   ]
  },
  {
   "cell_type": "code",
   "execution_count": 245,
   "metadata": {
    "colab": {
     "base_uri": "https://localhost:8080/",
     "height": 285
    },
    "id": "hKSgvNXy23tw",
    "outputId": "2f67f266-366b-4170-9431-8f07b44388e8"
   },
   "outputs": [
    {
     "data": {
      "text/plain": [
       "[<matplotlib.lines.Line2D at 0x22911d79700>]"
      ]
     },
     "execution_count": 245,
     "metadata": {},
     "output_type": "execute_result"
    },
    {
     "data": {
      "image/png": "[encoded data removed]",
      "text/plain": [
       "<Figure size 864x576 with 1 Axes>"
      ]
     },
     "metadata": {},
     "output_type": "display_data"
    }
   ],
   "source": [
    "plt.plot(historical_ETH[\"Open\"], label=\"ETH open price\", color=\"blue\")"
   ]
  },
  {
   "cell_type": "markdown",
   "metadata": {
    "id": "DXS2nf0h5KAm"
   },
   "source": [
    "##Correlation between the google search terms, the ETH price, and the volume of traded NFTs\n"
   ]
  },
  {
   "cell_type": "markdown",
   "metadata": {
    "id": "RECJaB6h7ZVc"
   },
   "source": [
    "Now the traded_nfts data has to be prepared for the correlation analysis\n"
   ]
  },
  {
   "cell_type": "code",
   "execution_count": 246,
   "metadata": {
    "colab": {
     "base_uri": "https://localhost:8080/"
    },
    "id": "iyibSOfT7tdM",
    "outputId": "ec214373-1a82-4103-a2c8-67cbe355be59"
   },
   "outputs": [
    {
     "name": "stdout",
     "output_type": "stream",
     "text": [
      "<class 'pandas.core.frame.DataFrame'>\n",
      "RangeIndex: 483 entries, 0 to 482\n",
      "Data columns (total 9 columns):\n",
      " #   Column           Non-Null Count  Dtype  \n",
      "---  ------           --------------  -----  \n",
      " 0   Date             483 non-null    object \n",
      " 1   Art              483 non-null    int64  \n",
      " 2   Collectible      483 non-null    int64  \n",
      " 3   Games            483 non-null    int64  \n",
      " 4   Metaverse        483 non-null    int64  \n",
      " 5   Other            483 non-null    int64  \n",
      " 6   Utility          483 non-null    int64  \n",
      " 7   Total_NFT_Sales  483 non-null    int64  \n",
      " 8   Total_USD        483 non-null    float64\n",
      "dtypes: float64(1), int64(7), object(1)\n",
      "memory usage: 34.1+ KB\n"
     ]
    }
   ],
   "source": [
    "traded_nfts.info()"
   ]
  },
  {
   "cell_type": "code",
   "execution_count": 247,
   "metadata": {
    "colab": {
     "base_uri": "https://localhost:8080/",
     "height": 571
    },
    "id": "tGEzueKY7q4q",
    "outputId": "d1403b98-73d7-4035-f845-1eec7548704f"
   },
   "outputs": [],
   "source": [
    "#convert the column \"Date\" from the traded_nfts to datetime, and set it as index so that it can be later used to join the columns based on date\n",
    "traded_nfts[\"Date\"] = pd.to_datetime(traded_nfts[\"Date\"])\n",
    "traded_nfts = traded_nfts.set_index(\"Date\")"
   ]
  },
  {
   "cell_type": "code",
   "execution_count": 248,
   "metadata": {
    "colab": {
     "base_uri": "https://localhost:8080/",
     "height": 455
    },
    "id": "fbWdLl4z7qsA",
    "outputId": "c22dd6c2-ad26-4ba8-f284-bb5a5a2cf13f"
   },
   "outputs": [
    {
     "data": {
      "text/html": [
       "<div>\n",
       "<style scoped>\n",
       "    .dataframe tbody tr th:only-of-type {\n",
       "        vertical-align: middle;\n",
       "    }\n",
       "\n",
       "    .dataframe tbody tr th {\n",
       "        vertical-align: top;\n",
       "    }\n",
       "\n",
       "    .dataframe thead th {\n",
       "        text-align: right;\n",
       "    }\n",
       "</style>\n",
       "<table border=\"1\" class=\"dataframe\">\n",
       "  <thead>\n",
       "    <tr style=\"text-align: right;\">\n",
       "      <th></th>\n",
       "      <th>Art</th>\n",
       "      <th>Collectible</th>\n",
       "      <th>Games</th>\n",
       "      <th>Metaverse</th>\n",
       "      <th>Other</th>\n",
       "      <th>Utility</th>\n",
       "      <th>Total_NFT_Sales</th>\n",
       "      <th>Total_USD</th>\n",
       "      <th>Close/Last</th>\n",
       "      <th>Open</th>\n",
       "      <th>High</th>\n",
       "      <th>Low</th>\n",
       "    </tr>\n",
       "    <tr>\n",
       "      <th>Date</th>\n",
       "      <th></th>\n",
       "      <th></th>\n",
       "      <th></th>\n",
       "      <th></th>\n",
       "      <th></th>\n",
       "      <th></th>\n",
       "      <th></th>\n",
       "      <th></th>\n",
       "      <th></th>\n",
       "      <th></th>\n",
       "      <th></th>\n",
       "      <th></th>\n",
       "    </tr>\n",
       "  </thead>\n",
       "  <tbody>\n",
       "    <tr>\n",
       "      <th>2020-01-01</th>\n",
       "      <td>384</td>\n",
       "      <td>27</td>\n",
       "      <td>436</td>\n",
       "      <td>63</td>\n",
       "      <td>32</td>\n",
       "      <td>2</td>\n",
       "      <td>944</td>\n",
       "      <td>21,099.15</td>\n",
       "      <td>129.67</td>\n",
       "      <td>130.23</td>\n",
       "      <td>130.77</td>\n",
       "      <td>128.89</td>\n",
       "    </tr>\n",
       "    <tr>\n",
       "      <th>2020-01-02</th>\n",
       "      <td>290</td>\n",
       "      <td>31</td>\n",
       "      <td>690</td>\n",
       "      <td>3</td>\n",
       "      <td>36</td>\n",
       "      <td>0</td>\n",
       "      <td>1050</td>\n",
       "      <td>13,110.55</td>\n",
       "      <td>129.24</td>\n",
       "      <td>129.71</td>\n",
       "      <td>129.79</td>\n",
       "      <td>126.05</td>\n",
       "    </tr>\n",
       "    <tr>\n",
       "      <th>2020-01-03</th>\n",
       "      <td>261</td>\n",
       "      <td>17</td>\n",
       "      <td>563</td>\n",
       "      <td>24</td>\n",
       "      <td>17</td>\n",
       "      <td>11</td>\n",
       "      <td>893</td>\n",
       "      <td>39,207.35</td>\n",
       "      <td>133.96</td>\n",
       "      <td>129.40</td>\n",
       "      <td>134.77</td>\n",
       "      <td>132.95</td>\n",
       "    </tr>\n",
       "    <tr>\n",
       "      <th>2020-01-04</th>\n",
       "      <td>372</td>\n",
       "      <td>32</td>\n",
       "      <td>827</td>\n",
       "      <td>25</td>\n",
       "      <td>21</td>\n",
       "      <td>4</td>\n",
       "      <td>1281</td>\n",
       "      <td>31,869.53</td>\n",
       "      <td>136.42</td>\n",
       "      <td>133.76</td>\n",
       "      <td>136.97</td>\n",
       "      <td>134.32</td>\n",
       "    </tr>\n",
       "    <tr>\n",
       "      <th>2020-01-05</th>\n",
       "      <td>356</td>\n",
       "      <td>22</td>\n",
       "      <td>702</td>\n",
       "      <td>12</td>\n",
       "      <td>21</td>\n",
       "      <td>2</td>\n",
       "      <td>1115</td>\n",
       "      <td>21,191.73</td>\n",
       "      <td>139.82</td>\n",
       "      <td>136.02</td>\n",
       "      <td>139.90</td>\n",
       "      <td>135.17</td>\n",
       "    </tr>\n",
       "    <tr>\n",
       "      <th>...</th>\n",
       "      <td>...</td>\n",
       "      <td>...</td>\n",
       "      <td>...</td>\n",
       "      <td>...</td>\n",
       "      <td>...</td>\n",
       "      <td>...</td>\n",
       "      <td>...</td>\n",
       "      <td>...</td>\n",
       "      <td>...</td>\n",
       "      <td>...</td>\n",
       "      <td>...</td>\n",
       "      <td>...</td>\n",
       "    </tr>\n",
       "    <tr>\n",
       "      <th>2021-04-23</th>\n",
       "      <td>964</td>\n",
       "      <td>2529</td>\n",
       "      <td>387</td>\n",
       "      <td>74</td>\n",
       "      <td>206</td>\n",
       "      <td>39</td>\n",
       "      <td>4199</td>\n",
       "      <td>5,248,628.87</td>\n",
       "      <td>2,302.55</td>\n",
       "      <td>2,281.49</td>\n",
       "      <td>2,367.46</td>\n",
       "      <td>2,229.62</td>\n",
       "    </tr>\n",
       "    <tr>\n",
       "      <th>2021-04-24</th>\n",
       "      <td>1248</td>\n",
       "      <td>1810</td>\n",
       "      <td>592</td>\n",
       "      <td>82</td>\n",
       "      <td>220</td>\n",
       "      <td>23</td>\n",
       "      <td>3975</td>\n",
       "      <td>3,962,828.56</td>\n",
       "      <td>2,192.66</td>\n",
       "      <td>2,296.72</td>\n",
       "      <td>2,249.28</td>\n",
       "      <td>2,190.59</td>\n",
       "    </tr>\n",
       "    <tr>\n",
       "      <th>2021-04-25</th>\n",
       "      <td>1358</td>\n",
       "      <td>1859</td>\n",
       "      <td>757</td>\n",
       "      <td>96</td>\n",
       "      <td>302</td>\n",
       "      <td>22</td>\n",
       "      <td>4394</td>\n",
       "      <td>3,366,866.48</td>\n",
       "      <td>2,445.16</td>\n",
       "      <td>2,189.26</td>\n",
       "      <td>2,467.72</td>\n",
       "      <td>2,305.97</td>\n",
       "    </tr>\n",
       "    <tr>\n",
       "      <th>2021-04-26</th>\n",
       "      <td>810</td>\n",
       "      <td>1767</td>\n",
       "      <td>614</td>\n",
       "      <td>74</td>\n",
       "      <td>298</td>\n",
       "      <td>21</td>\n",
       "      <td>3584</td>\n",
       "      <td>3,763,151.90</td>\n",
       "      <td>2,498.12</td>\n",
       "      <td>2,453.65</td>\n",
       "      <td>2,546.63</td>\n",
       "      <td>2,484.44</td>\n",
       "    </tr>\n",
       "    <tr>\n",
       "      <th>2021-04-27</th>\n",
       "      <td>754</td>\n",
       "      <td>1792</td>\n",
       "      <td>600</td>\n",
       "      <td>42</td>\n",
       "      <td>244</td>\n",
       "      <td>26</td>\n",
       "      <td>3458</td>\n",
       "      <td>7,411,269.16</td>\n",
       "      <td>2,642.50</td>\n",
       "      <td>2,494.61</td>\n",
       "      <td>2,714.94</td>\n",
       "      <td>2,629.85</td>\n",
       "    </tr>\n",
       "  </tbody>\n",
       "</table>\n",
       "<p>483 rows × 12 columns</p>\n",
       "</div>"
      ],
      "text/plain": [
       "             Art  Collectible  Games  Metaverse  Other  Utility  \\\n",
       "Date                                                              \n",
       "2020-01-01   384           27    436         63     32        2   \n",
       "2020-01-02   290           31    690          3     36        0   \n",
       "2020-01-03   261           17    563         24     17       11   \n",
       "2020-01-04   372           32    827         25     21        4   \n",
       "2020-01-05   356           22    702         12     21        2   \n",
       "...          ...          ...    ...        ...    ...      ...   \n",
       "2021-04-23   964         2529    387         74    206       39   \n",
       "2021-04-24  1248         1810    592         82    220       23   \n",
       "2021-04-25  1358         1859    757         96    302       22   \n",
       "2021-04-26   810         1767    614         74    298       21   \n",
       "2021-04-27   754         1792    600         42    244       26   \n",
       "\n",
       "            Total_NFT_Sales    Total_USD  Close/Last     Open     High  \\\n",
       "Date                                                                     \n",
       "2020-01-01              944    21,099.15      129.67   130.23   130.77   \n",
       "2020-01-02             1050    13,110.55      129.24   129.71   129.79   \n",
       "2020-01-03              893    39,207.35      133.96   129.40   134.77   \n",
       "2020-01-04             1281    31,869.53      136.42   133.76   136.97   \n",
       "2020-01-05             1115    21,191.73      139.82   136.02   139.90   \n",
       "...                     ...          ...         ...      ...      ...   \n",
       "2021-04-23             4199 5,248,628.87    2,302.55 2,281.49 2,367.46   \n",
       "2021-04-24             3975 3,962,828.56    2,192.66 2,296.72 2,249.28   \n",
       "2021-04-25             4394 3,366,866.48    2,445.16 2,189.26 2,467.72   \n",
       "2021-04-26             3584 3,763,151.90    2,498.12 2,453.65 2,546.63   \n",
       "2021-04-27             3458 7,411,269.16    2,642.50 2,494.61 2,714.94   \n",
       "\n",
       "                Low  \n",
       "Date                 \n",
       "2020-01-01   128.89  \n",
       "2020-01-02   126.05  \n",
       "2020-01-03   132.95  \n",
       "2020-01-04   134.32  \n",
       "2020-01-05   135.17  \n",
       "...             ...  \n",
       "2021-04-23 2,229.62  \n",
       "2021-04-24 2,190.59  \n",
       "2021-04-25 2,305.97  \n",
       "2021-04-26 2,484.44  \n",
       "2021-04-27 2,629.85  \n",
       "\n",
       "[483 rows x 12 columns]"
      ]
     },
     "execution_count": 248,
     "metadata": {},
     "output_type": "execute_result"
    }
   ],
   "source": [
    "#join the datasets \"traded_nfts\" and \"historical_ETH\"\n",
    "traded_ETH = traded_nfts.join(historical_ETH, how=\"inner\")\n",
    "traded_ETH"
   ]
  },
  {
   "cell_type": "code",
   "execution_count": 249,
   "metadata": {
    "id": "64zrBKf65mJL"
   },
   "outputs": [],
   "source": [
    "#drop the redundant columns in traded_ETH\n",
    "cols = [\"Total_USD\", \"Close/Last\", \"High\", \"Low\"]\n",
    "traded_ETH = traded_ETH.drop(cols, axis=1)"
   ]
  },
  {
   "cell_type": "code",
   "execution_count": 250,
   "metadata": {
    "colab": {
     "base_uri": "https://localhost:8080/",
     "height": 455
    },
    "id": "7NU3exL58nxr",
    "outputId": "93345b05-0e45-4361-e6f7-62df08142b6f"
   },
   "outputs": [
    {
     "data": {
      "text/html": [
       "<div>\n",
       "<style scoped>\n",
       "    .dataframe tbody tr th:only-of-type {\n",
       "        vertical-align: middle;\n",
       "    }\n",
       "\n",
       "    .dataframe tbody tr th {\n",
       "        vertical-align: top;\n",
       "    }\n",
       "\n",
       "    .dataframe thead th {\n",
       "        text-align: right;\n",
       "    }\n",
       "</style>\n",
       "<table border=\"1\" class=\"dataframe\">\n",
       "  <thead>\n",
       "    <tr style=\"text-align: right;\">\n",
       "      <th></th>\n",
       "      <th>Art</th>\n",
       "      <th>Collectible</th>\n",
       "      <th>Games</th>\n",
       "      <th>Metaverse</th>\n",
       "      <th>Other</th>\n",
       "      <th>Utility</th>\n",
       "      <th>Total_NFT_Sales</th>\n",
       "      <th>Open</th>\n",
       "    </tr>\n",
       "    <tr>\n",
       "      <th>Date</th>\n",
       "      <th></th>\n",
       "      <th></th>\n",
       "      <th></th>\n",
       "      <th></th>\n",
       "      <th></th>\n",
       "      <th></th>\n",
       "      <th></th>\n",
       "      <th></th>\n",
       "    </tr>\n",
       "  </thead>\n",
       "  <tbody>\n",
       "    <tr>\n",
       "      <th>2020-01-01</th>\n",
       "      <td>384</td>\n",
       "      <td>27</td>\n",
       "      <td>436</td>\n",
       "      <td>63</td>\n",
       "      <td>32</td>\n",
       "      <td>2</td>\n",
       "      <td>944</td>\n",
       "      <td>130.23</td>\n",
       "    </tr>\n",
       "    <tr>\n",
       "      <th>2020-01-02</th>\n",
       "      <td>290</td>\n",
       "      <td>31</td>\n",
       "      <td>690</td>\n",
       "      <td>3</td>\n",
       "      <td>36</td>\n",
       "      <td>0</td>\n",
       "      <td>1050</td>\n",
       "      <td>129.71</td>\n",
       "    </tr>\n",
       "    <tr>\n",
       "      <th>2020-01-03</th>\n",
       "      <td>261</td>\n",
       "      <td>17</td>\n",
       "      <td>563</td>\n",
       "      <td>24</td>\n",
       "      <td>17</td>\n",
       "      <td>11</td>\n",
       "      <td>893</td>\n",
       "      <td>129.40</td>\n",
       "    </tr>\n",
       "    <tr>\n",
       "      <th>2020-01-04</th>\n",
       "      <td>372</td>\n",
       "      <td>32</td>\n",
       "      <td>827</td>\n",
       "      <td>25</td>\n",
       "      <td>21</td>\n",
       "      <td>4</td>\n",
       "      <td>1281</td>\n",
       "      <td>133.76</td>\n",
       "    </tr>\n",
       "    <tr>\n",
       "      <th>2020-01-05</th>\n",
       "      <td>356</td>\n",
       "      <td>22</td>\n",
       "      <td>702</td>\n",
       "      <td>12</td>\n",
       "      <td>21</td>\n",
       "      <td>2</td>\n",
       "      <td>1115</td>\n",
       "      <td>136.02</td>\n",
       "    </tr>\n",
       "    <tr>\n",
       "      <th>...</th>\n",
       "      <td>...</td>\n",
       "      <td>...</td>\n",
       "      <td>...</td>\n",
       "      <td>...</td>\n",
       "      <td>...</td>\n",
       "      <td>...</td>\n",
       "      <td>...</td>\n",
       "      <td>...</td>\n",
       "    </tr>\n",
       "    <tr>\n",
       "      <th>2021-04-23</th>\n",
       "      <td>964</td>\n",
       "      <td>2529</td>\n",
       "      <td>387</td>\n",
       "      <td>74</td>\n",
       "      <td>206</td>\n",
       "      <td>39</td>\n",
       "      <td>4199</td>\n",
       "      <td>2,281.49</td>\n",
       "    </tr>\n",
       "    <tr>\n",
       "      <th>2021-04-24</th>\n",
       "      <td>1248</td>\n",
       "      <td>1810</td>\n",
       "      <td>592</td>\n",
       "      <td>82</td>\n",
       "      <td>220</td>\n",
       "      <td>23</td>\n",
       "      <td>3975</td>\n",
       "      <td>2,296.72</td>\n",
       "    </tr>\n",
       "    <tr>\n",
       "      <th>2021-04-25</th>\n",
       "      <td>1358</td>\n",
       "      <td>1859</td>\n",
       "      <td>757</td>\n",
       "      <td>96</td>\n",
       "      <td>302</td>\n",
       "      <td>22</td>\n",
       "      <td>4394</td>\n",
       "      <td>2,189.26</td>\n",
       "    </tr>\n",
       "    <tr>\n",
       "      <th>2021-04-26</th>\n",
       "      <td>810</td>\n",
       "      <td>1767</td>\n",
       "      <td>614</td>\n",
       "      <td>74</td>\n",
       "      <td>298</td>\n",
       "      <td>21</td>\n",
       "      <td>3584</td>\n",
       "      <td>2,453.65</td>\n",
       "    </tr>\n",
       "    <tr>\n",
       "      <th>2021-04-27</th>\n",
       "      <td>754</td>\n",
       "      <td>1792</td>\n",
       "      <td>600</td>\n",
       "      <td>42</td>\n",
       "      <td>244</td>\n",
       "      <td>26</td>\n",
       "      <td>3458</td>\n",
       "      <td>2,494.61</td>\n",
       "    </tr>\n",
       "  </tbody>\n",
       "</table>\n",
       "<p>483 rows × 8 columns</p>\n",
       "</div>"
      ],
      "text/plain": [
       "             Art  Collectible  Games  Metaverse  Other  Utility  \\\n",
       "Date                                                              \n",
       "2020-01-01   384           27    436         63     32        2   \n",
       "2020-01-02   290           31    690          3     36        0   \n",
       "2020-01-03   261           17    563         24     17       11   \n",
       "2020-01-04   372           32    827         25     21        4   \n",
       "2020-01-05   356           22    702         12     21        2   \n",
       "...          ...          ...    ...        ...    ...      ...   \n",
       "2021-04-23   964         2529    387         74    206       39   \n",
       "2021-04-24  1248         1810    592         82    220       23   \n",
       "2021-04-25  1358         1859    757         96    302       22   \n",
       "2021-04-26   810         1767    614         74    298       21   \n",
       "2021-04-27   754         1792    600         42    244       26   \n",
       "\n",
       "            Total_NFT_Sales     Open  \n",
       "Date                                  \n",
       "2020-01-01              944   130.23  \n",
       "2020-01-02             1050   129.71  \n",
       "2020-01-03              893   129.40  \n",
       "2020-01-04             1281   133.76  \n",
       "2020-01-05             1115   136.02  \n",
       "...                     ...      ...  \n",
       "2021-04-23             4199 2,281.49  \n",
       "2021-04-24             3975 2,296.72  \n",
       "2021-04-25             4394 2,189.26  \n",
       "2021-04-26             3584 2,453.65  \n",
       "2021-04-27             3458 2,494.61  \n",
       "\n",
       "[483 rows x 8 columns]"
      ]
     },
     "execution_count": 250,
     "metadata": {},
     "output_type": "execute_result"
    }
   ],
   "source": [
    "traded_ETH"
   ]
  },
  {
   "cell_type": "code",
   "execution_count": 251,
   "metadata": {
    "colab": {
     "base_uri": "https://localhost:8080/",
     "height": 300
    },
    "id": "_A2hyuoY8u2x",
    "outputId": "a30c0d6c-d95d-47bf-d06c-7388b4ab6a1c"
   },
   "outputs": [
    {
     "data": {
      "text/html": [
       "<div>\n",
       "<style scoped>\n",
       "    .dataframe tbody tr th:only-of-type {\n",
       "        vertical-align: middle;\n",
       "    }\n",
       "\n",
       "    .dataframe tbody tr th {\n",
       "        vertical-align: top;\n",
       "    }\n",
       "\n",
       "    .dataframe thead th {\n",
       "        text-align: right;\n",
       "    }\n",
       "</style>\n",
       "<table border=\"1\" class=\"dataframe\">\n",
       "  <thead>\n",
       "    <tr style=\"text-align: right;\">\n",
       "      <th></th>\n",
       "      <th>Art</th>\n",
       "      <th>Collectible</th>\n",
       "      <th>Games</th>\n",
       "      <th>Metaverse</th>\n",
       "      <th>Other</th>\n",
       "      <th>Utility</th>\n",
       "      <th>Total_NFT_Sales</th>\n",
       "      <th>Open</th>\n",
       "    </tr>\n",
       "  </thead>\n",
       "  <tbody>\n",
       "    <tr>\n",
       "      <th>Art</th>\n",
       "      <td>1.00</td>\n",
       "      <td>0.72</td>\n",
       "      <td>0.39</td>\n",
       "      <td>0.48</td>\n",
       "      <td>0.87</td>\n",
       "      <td>0.44</td>\n",
       "      <td>0.92</td>\n",
       "      <td>0.59</td>\n",
       "    </tr>\n",
       "    <tr>\n",
       "      <th>Collectible</th>\n",
       "      <td>0.72</td>\n",
       "      <td>1.00</td>\n",
       "      <td>0.31</td>\n",
       "      <td>0.38</td>\n",
       "      <td>0.74</td>\n",
       "      <td>0.32</td>\n",
       "      <td>0.91</td>\n",
       "      <td>0.76</td>\n",
       "    </tr>\n",
       "    <tr>\n",
       "      <th>Games</th>\n",
       "      <td>0.39</td>\n",
       "      <td>0.31</td>\n",
       "      <td>1.00</td>\n",
       "      <td>0.25</td>\n",
       "      <td>0.33</td>\n",
       "      <td>0.31</td>\n",
       "      <td>0.51</td>\n",
       "      <td>0.17</td>\n",
       "    </tr>\n",
       "    <tr>\n",
       "      <th>Metaverse</th>\n",
       "      <td>0.48</td>\n",
       "      <td>0.38</td>\n",
       "      <td>0.25</td>\n",
       "      <td>1.00</td>\n",
       "      <td>0.39</td>\n",
       "      <td>0.35</td>\n",
       "      <td>0.48</td>\n",
       "      <td>0.35</td>\n",
       "    </tr>\n",
       "    <tr>\n",
       "      <th>Other</th>\n",
       "      <td>0.87</td>\n",
       "      <td>0.74</td>\n",
       "      <td>0.33</td>\n",
       "      <td>0.39</td>\n",
       "      <td>1.00</td>\n",
       "      <td>0.32</td>\n",
       "      <td>0.88</td>\n",
       "      <td>0.60</td>\n",
       "    </tr>\n",
       "    <tr>\n",
       "      <th>Utility</th>\n",
       "      <td>0.44</td>\n",
       "      <td>0.32</td>\n",
       "      <td>0.31</td>\n",
       "      <td>0.35</td>\n",
       "      <td>0.32</td>\n",
       "      <td>1.00</td>\n",
       "      <td>0.43</td>\n",
       "      <td>0.28</td>\n",
       "    </tr>\n",
       "    <tr>\n",
       "      <th>Total_NFT_Sales</th>\n",
       "      <td>0.92</td>\n",
       "      <td>0.91</td>\n",
       "      <td>0.51</td>\n",
       "      <td>0.48</td>\n",
       "      <td>0.88</td>\n",
       "      <td>0.43</td>\n",
       "      <td>1.00</td>\n",
       "      <td>0.71</td>\n",
       "    </tr>\n",
       "    <tr>\n",
       "      <th>Open</th>\n",
       "      <td>0.59</td>\n",
       "      <td>0.76</td>\n",
       "      <td>0.17</td>\n",
       "      <td>0.35</td>\n",
       "      <td>0.60</td>\n",
       "      <td>0.28</td>\n",
       "      <td>0.71</td>\n",
       "      <td>1.00</td>\n",
       "    </tr>\n",
       "  </tbody>\n",
       "</table>\n",
       "</div>"
      ],
      "text/plain": [
       "                 Art  Collectible  Games  Metaverse  Other  Utility  \\\n",
       "Art             1.00         0.72   0.39       0.48   0.87     0.44   \n",
       "Collectible     0.72         1.00   0.31       0.38   0.74     0.32   \n",
       "Games           0.39         0.31   1.00       0.25   0.33     0.31   \n",
       "Metaverse       0.48         0.38   0.25       1.00   0.39     0.35   \n",
       "Other           0.87         0.74   0.33       0.39   1.00     0.32   \n",
       "Utility         0.44         0.32   0.31       0.35   0.32     1.00   \n",
       "Total_NFT_Sales 0.92         0.91   0.51       0.48   0.88     0.43   \n",
       "Open            0.59         0.76   0.17       0.35   0.60     0.28   \n",
       "\n",
       "                 Total_NFT_Sales  Open  \n",
       "Art                         0.92  0.59  \n",
       "Collectible                 0.91  0.76  \n",
       "Games                       0.51  0.17  \n",
       "Metaverse                   0.48  0.35  \n",
       "Other                       0.88  0.60  \n",
       "Utility                     0.43  0.28  \n",
       "Total_NFT_Sales             1.00  0.71  \n",
       "Open                        0.71  1.00  "
      ]
     },
     "execution_count": 251,
     "metadata": {},
     "output_type": "execute_result"
    }
   ],
   "source": [
    "#find the correlation between the different variables. This contains both the individual categories of NFTs, and the total traded volume\n",
    "#the price of ETH had the lowest correlation with Games-related NFTs, and the highest correlation with the number of collectibles\n",
    "traded_ETH.corr()"
   ]
  },
  {
   "cell_type": "markdown",
   "metadata": {
    "id": "HWyaMQ1H9h_w"
   },
   "source": [
    "Now to check the correlation between the historical ETH price and the google trends searches, following the same procedure as before"
   ]
  },
  {
   "cell_type": "code",
   "execution_count": 252,
   "metadata": {
    "id": "sHkYCZzo5Jc9"
   },
   "outputs": [],
   "source": [
    "full_data = google_trends.join(historical_ETH, how ='inner')"
   ]
  },
  {
   "cell_type": "code",
   "execution_count": 253,
   "metadata": {
    "colab": {
     "base_uri": "https://localhost:8080/"
    },
    "id": "9A21oKIf6V2j",
    "outputId": "ad8bdc6c-9911-4315-fb84-f11573c9e847"
   },
   "outputs": [
    {
     "name": "stdout",
     "output_type": "stream",
     "text": [
      "<class 'pandas.core.frame.DataFrame'>\n",
      "DatetimeIndex: 135 entries, 2019-03-10 to 2021-12-05\n",
      "Data columns (total 7 columns):\n",
      " #   Column      Non-Null Count  Dtype  \n",
      "---  ------      --------------  -----  \n",
      " 0   NFT         135 non-null    int32  \n",
      " 1   opensea     135 non-null    int32  \n",
      " 2   OpenSea     135 non-null    int32  \n",
      " 3   Close/Last  135 non-null    float64\n",
      " 4   Open        135 non-null    float64\n",
      " 5   High        135 non-null    float64\n",
      " 6   Low         135 non-null    float64\n",
      "dtypes: float64(4), int32(3)\n",
      "memory usage: 6.9 KB\n"
     ]
    }
   ],
   "source": [
    "full_data.info()"
   ]
  },
  {
   "cell_type": "code",
   "execution_count": 254,
   "metadata": {},
   "outputs": [],
   "source": [
    "#drop the redundant columns in full_data\n",
    "cols2 = [\"Close/Last\", \"High\", \"Low\"]\n",
    "full_data = full_data.drop(cols2, axis=1)"
   ]
  },
  {
   "cell_type": "code",
   "execution_count": 255,
   "metadata": {
    "colab": {
     "base_uri": "https://localhost:8080/",
     "height": 175
    },
    "id": "sAistthk5JXt",
    "outputId": "b2b07f9f-1ad5-4f59-b151-1ce27403533c"
   },
   "outputs": [
    {
     "data": {
      "text/html": [
       "<div>\n",
       "<style scoped>\n",
       "    .dataframe tbody tr th:only-of-type {\n",
       "        vertical-align: middle;\n",
       "    }\n",
       "\n",
       "    .dataframe tbody tr th {\n",
       "        vertical-align: top;\n",
       "    }\n",
       "\n",
       "    .dataframe thead th {\n",
       "        text-align: right;\n",
       "    }\n",
       "</style>\n",
       "<table border=\"1\" class=\"dataframe\">\n",
       "  <thead>\n",
       "    <tr style=\"text-align: right;\">\n",
       "      <th></th>\n",
       "      <th>NFT</th>\n",
       "      <th>opensea</th>\n",
       "      <th>OpenSea</th>\n",
       "      <th>Open</th>\n",
       "    </tr>\n",
       "  </thead>\n",
       "  <tbody>\n",
       "    <tr>\n",
       "      <th>NFT</th>\n",
       "      <td>1.00</td>\n",
       "      <td>0.93</td>\n",
       "      <td>0.93</td>\n",
       "      <td>0.88</td>\n",
       "    </tr>\n",
       "    <tr>\n",
       "      <th>opensea</th>\n",
       "      <td>0.93</td>\n",
       "      <td>1.00</td>\n",
       "      <td>1.00</td>\n",
       "      <td>0.85</td>\n",
       "    </tr>\n",
       "    <tr>\n",
       "      <th>OpenSea</th>\n",
       "      <td>0.93</td>\n",
       "      <td>1.00</td>\n",
       "      <td>1.00</td>\n",
       "      <td>0.85</td>\n",
       "    </tr>\n",
       "    <tr>\n",
       "      <th>Open</th>\n",
       "      <td>0.88</td>\n",
       "      <td>0.85</td>\n",
       "      <td>0.85</td>\n",
       "      <td>1.00</td>\n",
       "    </tr>\n",
       "  </tbody>\n",
       "</table>\n",
       "</div>"
      ],
      "text/plain": [
       "         NFT  opensea  OpenSea  Open\n",
       "NFT     1.00     0.93     0.93  0.88\n",
       "opensea 0.93     1.00     1.00  0.85\n",
       "OpenSea 0.93     1.00     1.00  0.85\n",
       "Open    0.88     0.85     0.85  1.00"
      ]
     },
     "execution_count": 255,
     "metadata": {},
     "output_type": "execute_result"
    }
   ],
   "source": [
    "full_data.corr()"
   ]
  },
  {
   "cell_type": "markdown",
   "metadata": {
    "id": "MD7NnbrAwRvO"
   },
   "source": [
    "# Tweets Neural Network classification"
   ]
  },
  {
   "cell_type": "code",
   "execution_count": 256,
   "metadata": {
    "id": "ssEXS8xNVguH"
   },
   "outputs": [],
   "source": [
    "import pandas as pd"
   ]
  },
  {
   "cell_type": "code",
   "execution_count": 257,
   "metadata": {
    "id": "jYgfd3ZkViKg"
   },
   "outputs": [],
   "source": [
    "data = pd.read_csv(\"c:/Users/kesut/Desktop/all_tweets_second_try.csv\")"
   ]
  },
  {
   "cell_type": "code",
   "execution_count": 258,
   "metadata": {
    "colab": {
     "base_uri": "https://localhost:8080/",
     "height": 424
    },
    "id": "EYpG4jtgVjVM",
    "outputId": "cf889b61-9120-4d57-dab7-eca248c9dfd9"
   },
   "outputs": [
    {
     "data": {
      "text/html": [
       "<div>\n",
       "<style scoped>\n",
       "    .dataframe tbody tr th:only-of-type {\n",
       "        vertical-align: middle;\n",
       "    }\n",
       "\n",
       "    .dataframe tbody tr th {\n",
       "        vertical-align: top;\n",
       "    }\n",
       "\n",
       "    .dataframe thead th {\n",
       "        text-align: right;\n",
       "    }\n",
       "</style>\n",
       "<table border=\"1\" class=\"dataframe\">\n",
       "  <thead>\n",
       "    <tr style=\"text-align: right;\">\n",
       "      <th></th>\n",
       "      <th>time</th>\n",
       "      <th>id</th>\n",
       "      <th>body</th>\n",
       "      <th>username</th>\n",
       "      <th>replycount</th>\n",
       "      <th>likecount</th>\n",
       "      <th>retweetcount</th>\n",
       "    </tr>\n",
       "  </thead>\n",
       "  <tbody>\n",
       "    <tr>\n",
       "      <th>0</th>\n",
       "      <td>2021-04-26 23:59:39+00:00</td>\n",
       "      <td>1,390,000,000,000,000,000.00</td>\n",
       "      <td>Second #NFT drop💧 SHA-Llama #1 (of 10) availab...</td>\n",
       "      <td>HashHead_NFT</td>\n",
       "      <td>0</td>\n",
       "      <td>3</td>\n",
       "      <td>0</td>\n",
       "    </tr>\n",
       "    <tr>\n",
       "      <th>1</th>\n",
       "      <td>2021-04-26 23:59:35+00:00</td>\n",
       "      <td>1,390,000,000,000,000,000.00</td>\n",
       "      <td>Look what I found! Amigos Absolutos collectibl...</td>\n",
       "      <td>jihlpez</td>\n",
       "      <td>0</td>\n",
       "      <td>1</td>\n",
       "      <td>0</td>\n",
       "    </tr>\n",
       "    <tr>\n",
       "      <th>2</th>\n",
       "      <td>2021-04-26 23:59:24+00:00</td>\n",
       "      <td>1,390,000,000,000,000,000.00</td>\n",
       "      <td>My special NFT. Like the MCU, it's begining of...</td>\n",
       "      <td>SuperHeroPunks</td>\n",
       "      <td>0</td>\n",
       "      <td>1</td>\n",
       "      <td>0</td>\n",
       "    </tr>\n",
       "    <tr>\n",
       "      <th>3</th>\n",
       "      <td>2021-04-26 23:58:18+00:00</td>\n",
       "      <td>1,390,000,000,000,000,000.00</td>\n",
       "      <td>CHIEF NEZ PEARCE NFT\\n\\n\"It does not require m...</td>\n",
       "      <td>GioZanolino</td>\n",
       "      <td>0</td>\n",
       "      <td>6</td>\n",
       "      <td>0</td>\n",
       "    </tr>\n",
       "    <tr>\n",
       "      <th>4</th>\n",
       "      <td>2021-04-26 23:57:55+00:00</td>\n",
       "      <td>1,390,000,000,000,000,000.00</td>\n",
       "      <td>Look what I found! Earth Day collectible https...</td>\n",
       "      <td>farshm5</td>\n",
       "      <td>0</td>\n",
       "      <td>0</td>\n",
       "      <td>0</td>\n",
       "    </tr>\n",
       "    <tr>\n",
       "      <th>...</th>\n",
       "      <td>...</td>\n",
       "      <td>...</td>\n",
       "      <td>...</td>\n",
       "      <td>...</td>\n",
       "      <td>...</td>\n",
       "      <td>...</td>\n",
       "      <td>...</td>\n",
       "    </tr>\n",
       "    <tr>\n",
       "      <th>372371</th>\n",
       "      <td>2020-01-01 05:59:21+00:00</td>\n",
       "      <td>1,210,000,000,000,000,000.00</td>\n",
       "      <td>@binance @enjin @opensea Is that true? All NFT...</td>\n",
       "      <td>xubai135</td>\n",
       "      <td>0</td>\n",
       "      <td>0</td>\n",
       "      <td>0</td>\n",
       "    </tr>\n",
       "    <tr>\n",
       "      <th>372372</th>\n",
       "      <td>2020-01-01 05:17:20+00:00</td>\n",
       "      <td>1,210,000,000,000,000,000.00</td>\n",
       "      <td>@binance @opensea Please let us more sincere, ...</td>\n",
       "      <td>bailaoshi008</td>\n",
       "      <td>0</td>\n",
       "      <td>0</td>\n",
       "      <td>0</td>\n",
       "    </tr>\n",
       "    <tr>\n",
       "      <th>372373</th>\n",
       "      <td>2020-01-01 04:55:47+00:00</td>\n",
       "      <td>1,210,000,000,000,000,000.00</td>\n",
       "      <td>@ninizhao3 @binance @enjin @opensea Look on th...</td>\n",
       "      <td>NZY331</td>\n",
       "      <td>1</td>\n",
       "      <td>1</td>\n",
       "      <td>0</td>\n",
       "    </tr>\n",
       "    <tr>\n",
       "      <th>372374</th>\n",
       "      <td>2020-01-01 04:55:37+00:00</td>\n",
       "      <td>1,210,000,000,000,000,000.00</td>\n",
       "      <td>@Soho911 @binance @enjin @opensea Look on the ...</td>\n",
       "      <td>NZY331</td>\n",
       "      <td>0</td>\n",
       "      <td>0</td>\n",
       "      <td>0</td>\n",
       "    </tr>\n",
       "    <tr>\n",
       "      <th>372375</th>\n",
       "      <td>2020-01-01 01:41:19+00:00</td>\n",
       "      <td>1,210,000,000,000,000,000.00</td>\n",
       "      <td>WizardX Rare Art on the OpenSea homepage! :) S...</td>\n",
       "      <td>WizardX_0x</td>\n",
       "      <td>0</td>\n",
       "      <td>1</td>\n",
       "      <td>0</td>\n",
       "    </tr>\n",
       "  </tbody>\n",
       "</table>\n",
       "<p>372376 rows × 7 columns</p>\n",
       "</div>"
      ],
      "text/plain": [
       "                             time                           id  \\\n",
       "0       2021-04-26 23:59:39+00:00 1,390,000,000,000,000,000.00   \n",
       "1       2021-04-26 23:59:35+00:00 1,390,000,000,000,000,000.00   \n",
       "2       2021-04-26 23:59:24+00:00 1,390,000,000,000,000,000.00   \n",
       "3       2021-04-26 23:58:18+00:00 1,390,000,000,000,000,000.00   \n",
       "4       2021-04-26 23:57:55+00:00 1,390,000,000,000,000,000.00   \n",
       "...                           ...                          ...   \n",
       "372371  2020-01-01 05:59:21+00:00 1,210,000,000,000,000,000.00   \n",
       "372372  2020-01-01 05:17:20+00:00 1,210,000,000,000,000,000.00   \n",
       "372373  2020-01-01 04:55:47+00:00 1,210,000,000,000,000,000.00   \n",
       "372374  2020-01-01 04:55:37+00:00 1,210,000,000,000,000,000.00   \n",
       "372375  2020-01-01 01:41:19+00:00 1,210,000,000,000,000,000.00   \n",
       "\n",
       "                                                     body        username  \\\n",
       "0       Second #NFT drop💧 SHA-Llama #1 (of 10) availab...    HashHead_NFT   \n",
       "1       Look what I found! Amigos Absolutos collectibl...         jihlpez   \n",
       "2       My special NFT. Like the MCU, it's begining of...  SuperHeroPunks   \n",
       "3       CHIEF NEZ PEARCE NFT\\n\\n\"It does not require m...     GioZanolino   \n",
       "4       Look what I found! Earth Day collectible https...         farshm5   \n",
       "...                                                   ...             ...   \n",
       "372371  @binance @enjin @opensea Is that true? All NFT...        xubai135   \n",
       "372372  @binance @opensea Please let us more sincere, ...    bailaoshi008   \n",
       "372373  @ninizhao3 @binance @enjin @opensea Look on th...          NZY331   \n",
       "372374  @Soho911 @binance @enjin @opensea Look on the ...          NZY331   \n",
       "372375  WizardX Rare Art on the OpenSea homepage! :) S...      WizardX_0x   \n",
       "\n",
       "        replycount  likecount  retweetcount  \n",
       "0                0          3             0  \n",
       "1                0          1             0  \n",
       "2                0          1             0  \n",
       "3                0          6             0  \n",
       "4                0          0             0  \n",
       "...            ...        ...           ...  \n",
       "372371           0          0             0  \n",
       "372372           0          0             0  \n",
       "372373           1          1             0  \n",
       "372374           0          0             0  \n",
       "372375           0          1             0  \n",
       "\n",
       "[372376 rows x 7 columns]"
      ]
     },
     "execution_count": 258,
     "metadata": {},
     "output_type": "execute_result"
    }
   ],
   "source": [
    "#Looking at the columns \n",
    "data"
   ]
  },
  {
   "cell_type": "code",
   "execution_count": 259,
   "metadata": {
    "colab": {
     "base_uri": "https://localhost:8080/",
     "height": 54
    },
    "id": "62QWNKY2iiPf",
    "outputId": "5ad6e5f8-2e1e-47bf-e47c-34fa3ce0094b"
   },
   "outputs": [
    {
     "data": {
      "text/plain": [
       "'Pixelated Dreams NFT #10! 🎨🌈✌ @pixelateddream5  \\n\\nhttps://t.co/z36yQuD6TD\\n\\n#nft #nfts #nftcommunity #nftdrop #nftart #nftartist #crypto #cryptoart #cryptoartist #cryptocurrency #blockchain #blockchainart #blockchainartist #ethereum #opensea'"
      ]
     },
     "execution_count": 259,
     "metadata": {},
     "output_type": "execute_result"
    }
   ],
   "source": [
    "data['body'][7]"
   ]
  },
  {
   "cell_type": "code",
   "execution_count": 261,
   "metadata": {
    "colab": {
     "base_uri": "https://localhost:8080/"
    },
    "id": "_D6Tv_44VkZW",
    "outputId": "0afa3967-5b56-4236-cbbe-5b881fea26b0"
   },
   "outputs": [
    {
     "name": "stdout",
     "output_type": "stream",
     "text": [
      "Requirement already satisfied: transformers in c:\\users\\kesut\\anaconda3\\lib\\site-packages (4.15.0)\n",
      "Requirement already satisfied: huggingface-hub<1.0,>=0.1.0 in c:\\users\\kesut\\anaconda3\\lib\\site-packages (from transformers) (0.2.1)\n",
      "Requirement already satisfied: tokenizers<0.11,>=0.10.1 in c:\\users\\kesut\\anaconda3\\lib\\site-packages (from transformers) (0.10.3)\n",
      "Requirement already satisfied: regex!=2019.12.17 in c:\\users\\kesut\\anaconda3\\lib\\site-packages (from transformers) (2021.8.3)\n",
      "Requirement already satisfied: pyyaml>=5.1 in c:\\users\\kesut\\anaconda3\\lib\\site-packages (from transformers) (6.0)\n",
      "Requirement already satisfied: sacremoses in c:\\users\\kesut\\anaconda3\\lib\\site-packages (from transformers) (0.0.46)\n",
      "Requirement already satisfied: numpy>=1.17 in c:\\users\\kesut\\anaconda3\\lib\\site-packages (from transformers) (1.20.3)\n",
      "Requirement already satisfied: requests in c:\\users\\kesut\\anaconda3\\lib\\site-packages (from transformers) (2.26.0)\n",
      "Requirement already satisfied: packaging>=20.0 in c:\\users\\kesut\\anaconda3\\lib\\site-packages (from transformers) (21.3)\n",
      "Requirement already satisfied: filelock in c:\\users\\kesut\\anaconda3\\lib\\site-packages (from transformers) (3.4.0)\n",
      "Requirement already satisfied: tqdm>=4.27 in c:\\users\\kesut\\anaconda3\\lib\\site-packages (from transformers) (4.62.3)\n",
      "Requirement already satisfied: typing-extensions>=3.7.4.3 in c:\\users\\kesut\\anaconda3\\lib\\site-packages (from huggingface-hub<1.0,>=0.1.0->transformers) (3.10.0.2)\n",
      "Requirement already satisfied: pyparsing!=3.0.5,>=2.0.2 in c:\\users\\kesut\\anaconda3\\lib\\site-packages (from packaging>=20.0->transformers) (3.0.4)\n",
      "Requirement already satisfied: colorama in c:\\users\\kesut\\anaconda3\\lib\\site-packages (from tqdm>=4.27->transformers) (0.4.4)\n",
      "Requirement already satisfied: certifi>=2017.4.17 in c:\\users\\kesut\\anaconda3\\lib\\site-packages (from requests->transformers) (2021.10.8)\n",
      "Requirement already satisfied: charset-normalizer~=2.0.0 in c:\\users\\kesut\\anaconda3\\lib\\site-packages (from requests->transformers) (2.0.4)\n",
      "Requirement already satisfied: urllib3<1.27,>=1.21.1 in c:\\users\\kesut\\anaconda3\\lib\\site-packages (from requests->transformers) (1.26.7)\n",
      "Requirement already satisfied: idna<4,>=2.5 in c:\\users\\kesut\\anaconda3\\lib\\site-packages (from requests->transformers) (3.3)\n",
      "Requirement already satisfied: joblib in c:\\users\\kesut\\anaconda3\\lib\\site-packages (from sacremoses->transformers) (1.1.0)\n",
      "Requirement already satisfied: click in c:\\users\\kesut\\anaconda3\\lib\\site-packages (from sacremoses->transformers) (8.0.3)\n",
      "Requirement already satisfied: six in c:\\users\\kesut\\anaconda3\\lib\\site-packages (from sacremoses->transformers) (1.16.0)\n"
     ]
    }
   ],
   "source": [
    "#Importing relevant libraries\n",
    "!pip install transformers"
   ]
  },
  {
   "cell_type": "code",
   "execution_count": 262,
   "metadata": {
    "id": "8-jEWmt7Vlfr"
   },
   "outputs": [],
   "source": [
    "#Importing pipeline (to streamline the sentiment analysis using a pre-trained model)\n",
    "from transformers import pipeline"
   ]
  },
  {
   "cell_type": "code",
   "execution_count": 263,
   "metadata": {
    "colab": {
     "base_uri": "https://localhost:8080/"
    },
    "id": "YsqOBJ_SVmuZ",
    "outputId": "ad747163-1b2d-43fc-80e0-ed5d069a12d7"
   },
   "outputs": [
    {
     "name": "stdout",
     "output_type": "stream",
     "text": [
      "Requirement already satisfied: emoji in c:\\users\\kesut\\anaconda3\\lib\\site-packages (1.6.1)\n"
     ]
    }
   ],
   "source": [
    "#Installing emoji package\n",
    "!pip install emoji"
   ]
  },
  {
   "cell_type": "code",
   "execution_count": 264,
   "metadata": {
    "colab": {
     "base_uri": "https://localhost:8080/",
     "height": 241,
     "referenced_widgets": [
      "6bc1c309b1164b58bcf66a27bb5f9a83",
      "0ae5e22de9cc4d84b0a732923fbf1637",
      "c6b9cd9103b64b6d845e524fa4fd089d",
      "15cf338450604cce8bbef0534519f322",
      "d73beb23d09c46909a6d3edabf72a35a",
      "02f047251a7f4f2e8c57e9dce6472dbb",
      "9bb25b81e58b414da40c484181557b3f",
      "55dfadadb9444889bd843d24062eace7",
      "983e3397626043ac9a52f43c98f664e2",
      "d84e1ef4699d4d50998d1beeadf39d50",
      "2e494ed793714ffa9855b5f4ac9cc94b",
      "9837f2e103754bd687f4423f5f78e581",
      "604b40f9b7744a3c8e40aef2493c372f",
      "101922e7975b47629bc8179d0dcc06ed",
      "ddf9bb75bba847af9368651ac5aa254f",
      "37d9e8b3445146d68dacddf343b3610a",
      "91cb6a4a8f7a4bb5b65ad5b8565c0b32",
      "f7be3af25eee414f8707476fef2e2422",
      "593e659318d94fb2beea37a752e285ee",
      "7d8419dc1bfc4fdb9114ed8715fce94e",
      "348d25013f0845be9f907181c8cac55d",
      "d31421c3e414404e805b050f24990de9",
      "0fdc9b65720941a89433fce11a4676d3",
      "3a8c5dde0ca74bf282ee3f24b69aed25",
      "7511cb04fa2f47bfb4f3e8ba7db3b57f",
      "875d87a68ed742198fcb500378936471",
      "a648fb56cc57452695772c546b166de2",
      "c0913c29391b4baa8e0830c2edf124f5",
      "e60e781015b64a039e9f403f3af5075c",
      "13e3f15253e049189b6d476446abb268",
      "8d94b5594ce144b1b0ff6ce458ca3d57",
      "c134ed2994ce4531956a5f508dc475cc",
      "1cf9a3f1727c4eb89464c3bdfa282960",
      "4c58d216c57144ff97f09a5e505e311a",
      "62140a3dbf824a61915a2e5033a9c95c",
      "6dad7a8b8d4b4d8c8176cac58dda8f69",
      "3eb2a332fe4140fba2a003ce918f8891",
      "1886f9ae8e1644df9835db67230b8b6b",
      "4a0230a6c5504e57bfab3b656f846995",
      "f73170e315634f7d92cdbda213286bef",
      "599b1b1be5be47468e626726f0dd5548",
      "a6dba1de58f6470da353dbb341b3f73c",
      "491fdedfb83e4200b5ae5ab4447bf646",
      "fd22f995be1145e5831f053e3d360490",
      "73368de2f4984165ae544051dc0f7303",
      "4902997f01ba48e3a5cf629f9caaf0f9",
      "72af0a81e1be4ffea79f36879db047c3",
      "9ac9c6be38424805a9d30ca98e18ec27",
      "78da4b3edea94b99b25c6f3cc9ae41b8",
      "b64db3fb5ffd405482bbeea8073b5a87",
      "e62012b07abf4b9e81864a329c2f0982",
      "01582081bac4420cbf10d244cf235818",
      "08b0326a090a49dea21a8bcf189ee3b7",
      "6601ccd959e244eaabec875f0881cc29",
      "6947c7af861f40f2a6bc369848818775",
      "a81cf23ccdf1424a9a15c9615fd377a5",
      "29b4df42aefd4738b213e7be906f936d",
      "2c5ea12b7c3843ee8c9deb93ac344870",
      "e7b85371e1a2433ea3b3f37ecceea5c5",
      "b284f53857be4336a6be5e9249fe05e0",
      "206f427017184c49a0c90ec0eb10b404",
      "41ef5a4dba9a4cb19545d1d70d14fbe4",
      "537cf37ab4b5420cb2181fa9a1b1c020",
      "7e1481bc8d78453da6e4c80c1fbd9c12",
      "cbea34d0be654f4b961135c32ccd8d0c",
      "4bf25ae6538842e49a5d669f0e305846",
      "96422af1b68c438b9a13fc54e0601a0f",
      "f04c83059f8143bdbf654f1cc0c49f1b",
      "183171dba0234de8884ab1d2d72752bd",
      "c0b69a6fa3694fd590d0aeb245d4c56a",
      "b44e29e7032641d99ee3827ca4ea9e66",
      "69f8c9ed686d4cdc9010d9c691188602",
      "2bd1c3431c8447489d25c27f7721d650",
      "4b87b89c562447fd8e03950aa0865734",
      "5d9c99009e6440c5a57fef2dc617e92c",
      "af2523f79c744c23969999f6056a6f1e",
      "8b0c49ec095d46d3b92c3a3c1c68d709"
     ]
    },
    "id": "HJuY7_zxVn_6",
    "outputId": "f9c59638-bbf7-4613-91a4-4ceeffde4214"
   },
   "outputs": [],
   "source": [
    "#Setting the pipeline up to use a specific model for sentiment analysis\n",
    "#NOTE: the last tokens (from 128) are cut off from the analysis because the model was trained for 128 tokens \n",
    "model = pipeline('sentiment-analysis', model=\"finiteautomata/bertweet-base-sentiment-analysis\", truncation=True)"
   ]
  },
  {
   "cell_type": "code",
   "execution_count": 265,
   "metadata": {
    "id": "CAQOsw6xVpPC"
   },
   "outputs": [],
   "source": [
    "#Applies the model and creates the label and score and adds the columns to the dataframe\n",
    "#NOTE: will take a long time \n",
    "data = (\n",
    "    data\n",
    "    .assign(sentiment = lambda x: x['body'].apply(lambda s: model(s)))\n",
    "    .assign(\n",
    "         label = lambda x: x['sentiment'].apply(lambda s: (s[0]['label'])),\n",
    "         score = lambda x: x['sentiment'].apply(lambda s: (s[0]['score']))\n",
    "    )\n",
    ")"
   ]
  },
  {
   "cell_type": "code",
   "execution_count": 266,
   "metadata": {
    "id": "WpU_dmxsVqw8"
   },
   "outputs": [
    {
     "data": {
      "text/plain": [
       "NEU    194002\n",
       "POS    169331\n",
       "NEG      9043\n",
       "Name: label, dtype: int64"
      ]
     },
     "execution_count": 266,
     "metadata": {},
     "output_type": "execute_result"
    }
   ],
   "source": [
    "#To see how many tweets were categorized into each category\n",
    "data[\"label\"].value_counts()"
   ]
  },
  {
   "cell_type": "code",
   "execution_count": 268,
   "metadata": {
    "id": "NpsI2RBpVsEE"
   },
   "outputs": [],
   "source": [
    "#Saving it as a csv file\n",
    "data.to_csv(r'Sentiment.csv', index = False)"
   ]
  },
  {
   "cell_type": "markdown",
   "metadata": {
    "id": "q0bJBJA6MdJw"
   },
   "source": [
    "Taking samples from the NN file"
   ]
  },
  {
   "cell_type": "code",
   "execution_count": 269,
   "metadata": {
    "id": "kTshpmKTQZiw"
   },
   "outputs": [],
   "source": [
    "import pandas as pd"
   ]
  },
  {
   "cell_type": "code",
   "execution_count": 275,
   "metadata": {
    "id": "l_DkVo3hQbk7"
   },
   "outputs": [],
   "source": [
    "#Tweet\n",
    "data = pd.read_csv(\"c:/Users/kesut/Desktop/all_tweets_label.csv\")"
   ]
  },
  {
   "cell_type": "code",
   "execution_count": 276,
   "metadata": {
    "id": "5UcJPO5RQc2I"
   },
   "outputs": [
    {
     "data": {
      "text/html": [
       "<div>\n",
       "<style scoped>\n",
       "    .dataframe tbody tr th:only-of-type {\n",
       "        vertical-align: middle;\n",
       "    }\n",
       "\n",
       "    .dataframe tbody tr th {\n",
       "        vertical-align: top;\n",
       "    }\n",
       "\n",
       "    .dataframe thead th {\n",
       "        text-align: right;\n",
       "    }\n",
       "</style>\n",
       "<table border=\"1\" class=\"dataframe\">\n",
       "  <thead>\n",
       "    <tr style=\"text-align: right;\">\n",
       "      <th></th>\n",
       "      <th>Unnamed: 0</th>\n",
       "      <th>time</th>\n",
       "      <th>id</th>\n",
       "      <th>body</th>\n",
       "      <th>username</th>\n",
       "      <th>replycount</th>\n",
       "      <th>likecount</th>\n",
       "      <th>retweetcount</th>\n",
       "      <th>sentiment</th>\n",
       "      <th>label</th>\n",
       "      <th>score</th>\n",
       "    </tr>\n",
       "  </thead>\n",
       "  <tbody>\n",
       "    <tr>\n",
       "      <th>0</th>\n",
       "      <td>0</td>\n",
       "      <td>2021-04-26 23:59:39+00:00</td>\n",
       "      <td>1,390,000,000,000,000,000.00</td>\n",
       "      <td>Second #NFT drop💧 SHA-Llama #1 (of 10) availab...</td>\n",
       "      <td>HashHead_NFT</td>\n",
       "      <td>0</td>\n",
       "      <td>3</td>\n",
       "      <td>0</td>\n",
       "      <td>[{'label': 'NEU', 'score': 0.8354488015174866}]</td>\n",
       "      <td>NEU</td>\n",
       "      <td>0.84</td>\n",
       "    </tr>\n",
       "    <tr>\n",
       "      <th>1</th>\n",
       "      <td>1</td>\n",
       "      <td>2021-04-26 23:59:35+00:00</td>\n",
       "      <td>1,390,000,000,000,000,000.00</td>\n",
       "      <td>Look what I found! Amigos Absolutos collectibl...</td>\n",
       "      <td>jihlpez</td>\n",
       "      <td>0</td>\n",
       "      <td>1</td>\n",
       "      <td>0</td>\n",
       "      <td>[{'label': 'NEU', 'score': 0.6111912727355957}]</td>\n",
       "      <td>NEU</td>\n",
       "      <td>0.61</td>\n",
       "    </tr>\n",
       "    <tr>\n",
       "      <th>2</th>\n",
       "      <td>2</td>\n",
       "      <td>2021-04-26 23:59:24+00:00</td>\n",
       "      <td>1,390,000,000,000,000,000.00</td>\n",
       "      <td>My special NFT. Like the MCU, it's begining of...</td>\n",
       "      <td>SuperHeroPunks</td>\n",
       "      <td>0</td>\n",
       "      <td>1</td>\n",
       "      <td>0</td>\n",
       "      <td>[{'label': 'POS', 'score': 0.9843807220458984}]</td>\n",
       "      <td>POS</td>\n",
       "      <td>0.98</td>\n",
       "    </tr>\n",
       "    <tr>\n",
       "      <th>3</th>\n",
       "      <td>3</td>\n",
       "      <td>2021-04-26 23:58:18+00:00</td>\n",
       "      <td>1,390,000,000,000,000,000.00</td>\n",
       "      <td>CHIEF NEZ PEARCE NFT\\n\\n\"It does not require m...</td>\n",
       "      <td>GioZanolino</td>\n",
       "      <td>0</td>\n",
       "      <td>6</td>\n",
       "      <td>0</td>\n",
       "      <td>[{'label': 'NEU', 'score': 0.919416606426239}]</td>\n",
       "      <td>NEU</td>\n",
       "      <td>0.92</td>\n",
       "    </tr>\n",
       "    <tr>\n",
       "      <th>4</th>\n",
       "      <td>4</td>\n",
       "      <td>2021-04-26 23:57:55+00:00</td>\n",
       "      <td>1,390,000,000,000,000,000.00</td>\n",
       "      <td>Look what I found! Earth Day collectible https...</td>\n",
       "      <td>farshm5</td>\n",
       "      <td>0</td>\n",
       "      <td>0</td>\n",
       "      <td>0</td>\n",
       "      <td>[{'label': 'POS', 'score': 0.5340457558631897}]</td>\n",
       "      <td>POS</td>\n",
       "      <td>0.53</td>\n",
       "    </tr>\n",
       "    <tr>\n",
       "      <th>...</th>\n",
       "      <td>...</td>\n",
       "      <td>...</td>\n",
       "      <td>...</td>\n",
       "      <td>...</td>\n",
       "      <td>...</td>\n",
       "      <td>...</td>\n",
       "      <td>...</td>\n",
       "      <td>...</td>\n",
       "      <td>...</td>\n",
       "      <td>...</td>\n",
       "      <td>...</td>\n",
       "    </tr>\n",
       "    <tr>\n",
       "      <th>372371</th>\n",
       "      <td>372371</td>\n",
       "      <td>2020-01-01 05:59:21+00:00</td>\n",
       "      <td>1,210,000,000,000,000,000.00</td>\n",
       "      <td>@binance @enjin @opensea Is that true? All NFT...</td>\n",
       "      <td>xubai135</td>\n",
       "      <td>0</td>\n",
       "      <td>0</td>\n",
       "      <td>0</td>\n",
       "      <td>[{'label': 'NEG', 'score': 0.582322895526886}]</td>\n",
       "      <td>NEG</td>\n",
       "      <td>0.58</td>\n",
       "    </tr>\n",
       "    <tr>\n",
       "      <th>372372</th>\n",
       "      <td>372372</td>\n",
       "      <td>2020-01-01 05:17:20+00:00</td>\n",
       "      <td>1,210,000,000,000,000,000.00</td>\n",
       "      <td>@binance @opensea Please let us more sincere, ...</td>\n",
       "      <td>bailaoshi008</td>\n",
       "      <td>0</td>\n",
       "      <td>0</td>\n",
       "      <td>0</td>\n",
       "      <td>[{'label': 'NEG', 'score': 0.804458737373352}]</td>\n",
       "      <td>NEG</td>\n",
       "      <td>0.80</td>\n",
       "    </tr>\n",
       "    <tr>\n",
       "      <th>372373</th>\n",
       "      <td>372373</td>\n",
       "      <td>2020-01-01 04:55:47+00:00</td>\n",
       "      <td>1,210,000,000,000,000,000.00</td>\n",
       "      <td>@ninizhao3 @binance @enjin @opensea Look on th...</td>\n",
       "      <td>NZY331</td>\n",
       "      <td>1</td>\n",
       "      <td>1</td>\n",
       "      <td>0</td>\n",
       "      <td>[{'label': 'NEU', 'score': 0.6609178185462952}]</td>\n",
       "      <td>NEU</td>\n",
       "      <td>0.66</td>\n",
       "    </tr>\n",
       "    <tr>\n",
       "      <th>372374</th>\n",
       "      <td>372374</td>\n",
       "      <td>2020-01-01 04:55:37+00:00</td>\n",
       "      <td>1,210,000,000,000,000,000.00</td>\n",
       "      <td>@Soho911 @binance @enjin @opensea Look on the ...</td>\n",
       "      <td>NZY331</td>\n",
       "      <td>0</td>\n",
       "      <td>0</td>\n",
       "      <td>0</td>\n",
       "      <td>[{'label': 'NEU', 'score': 0.6639754772186279}]</td>\n",
       "      <td>NEU</td>\n",
       "      <td>0.66</td>\n",
       "    </tr>\n",
       "    <tr>\n",
       "      <th>372375</th>\n",
       "      <td>372375</td>\n",
       "      <td>2020-01-01 01:41:19+00:00</td>\n",
       "      <td>1,210,000,000,000,000,000.00</td>\n",
       "      <td>WizardX Rare Art on the OpenSea homepage! :) S...</td>\n",
       "      <td>WizardX_0x</td>\n",
       "      <td>0</td>\n",
       "      <td>1</td>\n",
       "      <td>0</td>\n",
       "      <td>[{'label': 'POS', 'score': 0.9101700782775879}]</td>\n",
       "      <td>POS</td>\n",
       "      <td>0.91</td>\n",
       "    </tr>\n",
       "  </tbody>\n",
       "</table>\n",
       "<p>372376 rows × 11 columns</p>\n",
       "</div>"
      ],
      "text/plain": [
       "        Unnamed: 0                       time                           id  \\\n",
       "0                0  2021-04-26 23:59:39+00:00 1,390,000,000,000,000,000.00   \n",
       "1                1  2021-04-26 23:59:35+00:00 1,390,000,000,000,000,000.00   \n",
       "2                2  2021-04-26 23:59:24+00:00 1,390,000,000,000,000,000.00   \n",
       "3                3  2021-04-26 23:58:18+00:00 1,390,000,000,000,000,000.00   \n",
       "4                4  2021-04-26 23:57:55+00:00 1,390,000,000,000,000,000.00   \n",
       "...            ...                        ...                          ...   \n",
       "372371      372371  2020-01-01 05:59:21+00:00 1,210,000,000,000,000,000.00   \n",
       "372372      372372  2020-01-01 05:17:20+00:00 1,210,000,000,000,000,000.00   \n",
       "372373      372373  2020-01-01 04:55:47+00:00 1,210,000,000,000,000,000.00   \n",
       "372374      372374  2020-01-01 04:55:37+00:00 1,210,000,000,000,000,000.00   \n",
       "372375      372375  2020-01-01 01:41:19+00:00 1,210,000,000,000,000,000.00   \n",
       "\n",
       "                                                     body        username  \\\n",
       "0       Second #NFT drop💧 SHA-Llama #1 (of 10) availab...    HashHead_NFT   \n",
       "1       Look what I found! Amigos Absolutos collectibl...         jihlpez   \n",
       "2       My special NFT. Like the MCU, it's begining of...  SuperHeroPunks   \n",
       "3       CHIEF NEZ PEARCE NFT\\n\\n\"It does not require m...     GioZanolino   \n",
       "4       Look what I found! Earth Day collectible https...         farshm5   \n",
       "...                                                   ...             ...   \n",
       "372371  @binance @enjin @opensea Is that true? All NFT...        xubai135   \n",
       "372372  @binance @opensea Please let us more sincere, ...    bailaoshi008   \n",
       "372373  @ninizhao3 @binance @enjin @opensea Look on th...          NZY331   \n",
       "372374  @Soho911 @binance @enjin @opensea Look on the ...          NZY331   \n",
       "372375  WizardX Rare Art on the OpenSea homepage! :) S...      WizardX_0x   \n",
       "\n",
       "        replycount  likecount  retweetcount  \\\n",
       "0                0          3             0   \n",
       "1                0          1             0   \n",
       "2                0          1             0   \n",
       "3                0          6             0   \n",
       "4                0          0             0   \n",
       "...            ...        ...           ...   \n",
       "372371           0          0             0   \n",
       "372372           0          0             0   \n",
       "372373           1          1             0   \n",
       "372374           0          0             0   \n",
       "372375           0          1             0   \n",
       "\n",
       "                                              sentiment label  score  \n",
       "0       [{'label': 'NEU', 'score': 0.8354488015174866}]   NEU   0.84  \n",
       "1       [{'label': 'NEU', 'score': 0.6111912727355957}]   NEU   0.61  \n",
       "2       [{'label': 'POS', 'score': 0.9843807220458984}]   POS   0.98  \n",
       "3        [{'label': 'NEU', 'score': 0.919416606426239}]   NEU   0.92  \n",
       "4       [{'label': 'POS', 'score': 0.5340457558631897}]   POS   0.53  \n",
       "...                                                 ...   ...    ...  \n",
       "372371   [{'label': 'NEG', 'score': 0.582322895526886}]   NEG   0.58  \n",
       "372372   [{'label': 'NEG', 'score': 0.804458737373352}]   NEG   0.80  \n",
       "372373  [{'label': 'NEU', 'score': 0.6609178185462952}]   NEU   0.66  \n",
       "372374  [{'label': 'NEU', 'score': 0.6639754772186279}]   NEU   0.66  \n",
       "372375  [{'label': 'POS', 'score': 0.9101700782775879}]   POS   0.91  \n",
       "\n",
       "[372376 rows x 11 columns]"
      ]
     },
     "execution_count": 276,
     "metadata": {},
     "output_type": "execute_result"
    }
   ],
   "source": [
    "data"
   ]
  },
  {
   "cell_type": "code",
   "execution_count": 277,
   "metadata": {
    "id": "byuCxg7uQd5l"
   },
   "outputs": [
    {
     "data": {
      "text/plain": [
       "NEU    194002\n",
       "POS    169331\n",
       "NEG      9043\n",
       "Name: label, dtype: int64"
      ]
     },
     "execution_count": 277,
     "metadata": {},
     "output_type": "execute_result"
    }
   ],
   "source": [
    "#To see the columns\n",
    "data[\"label\"].value_counts()"
   ]
  },
  {
   "cell_type": "code",
   "execution_count": 278,
   "metadata": {
    "id": "MNWEZe3nQf7X"
   },
   "outputs": [],
   "source": [
    "#Making a new df, then taking 100 samples from each category (positive, neutral, negative)\n",
    "data_sample = data.groupby('label').sample(n=100, random_state = 42)"
   ]
  },
  {
   "cell_type": "code",
   "execution_count": 279,
   "metadata": {
    "id": "OanvIbzJQhSZ"
   },
   "outputs": [
    {
     "data": {
      "text/html": [
       "<div>\n",
       "<style scoped>\n",
       "    .dataframe tbody tr th:only-of-type {\n",
       "        vertical-align: middle;\n",
       "    }\n",
       "\n",
       "    .dataframe tbody tr th {\n",
       "        vertical-align: top;\n",
       "    }\n",
       "\n",
       "    .dataframe thead th {\n",
       "        text-align: right;\n",
       "    }\n",
       "</style>\n",
       "<table border=\"1\" class=\"dataframe\">\n",
       "  <thead>\n",
       "    <tr style=\"text-align: right;\">\n",
       "      <th></th>\n",
       "      <th>Unnamed: 0</th>\n",
       "      <th>time</th>\n",
       "      <th>id</th>\n",
       "      <th>body</th>\n",
       "      <th>username</th>\n",
       "      <th>replycount</th>\n",
       "      <th>likecount</th>\n",
       "      <th>retweetcount</th>\n",
       "      <th>sentiment</th>\n",
       "      <th>label</th>\n",
       "      <th>score</th>\n",
       "    </tr>\n",
       "  </thead>\n",
       "  <tbody>\n",
       "    <tr>\n",
       "      <th>58756</th>\n",
       "      <td>58756</td>\n",
       "      <td>2021-03-29 22:34:18+00:00</td>\n",
       "      <td>1,380,000,000,000,000,000.00</td>\n",
       "      <td>@digitalartchick As evil, environment-decimati...</td>\n",
       "      <td>AkashiqueStudi0</td>\n",
       "      <td>0</td>\n",
       "      <td>0</td>\n",
       "      <td>0</td>\n",
       "      <td>[{'label': 'NEG', 'score': 0.881817638874054}]</td>\n",
       "      <td>NEG</td>\n",
       "      <td>0.88</td>\n",
       "    </tr>\n",
       "    <tr>\n",
       "      <th>5214</th>\n",
       "      <td>5214</td>\n",
       "      <td>2021-04-23 19:20:09+00:00</td>\n",
       "      <td>1,390,000,000,000,000,000.00</td>\n",
       "      <td>@maria_solve #NFT \"Anarchic Love\" - 1 of 1\\n\\n...</td>\n",
       "      <td>rblbab</td>\n",
       "      <td>0</td>\n",
       "      <td>1</td>\n",
       "      <td>1</td>\n",
       "      <td>[{'label': 'NEG', 'score': 0.6047797203063965}]</td>\n",
       "      <td>NEG</td>\n",
       "      <td>0.60</td>\n",
       "    </tr>\n",
       "    <tr>\n",
       "      <th>118884</th>\n",
       "      <td>118884</td>\n",
       "      <td>2021-02-21 05:20:43+00:00</td>\n",
       "      <td>1,360,000,000,000,000,000.00</td>\n",
       "      <td>What you know about  #Ethereum ?\\nretweet this...</td>\n",
       "      <td>hateyourprod</td>\n",
       "      <td>2</td>\n",
       "      <td>73</td>\n",
       "      <td>24</td>\n",
       "      <td>[{'label': 'NEG', 'score': 0.878818690776825}]</td>\n",
       "      <td>NEG</td>\n",
       "      <td>0.88</td>\n",
       "    </tr>\n",
       "    <tr>\n",
       "      <th>108779</th>\n",
       "      <td>108779</td>\n",
       "      <td>2021-03-04 12:08:17+00:00</td>\n",
       "      <td>1,370,000,000,000,000,000.00</td>\n",
       "      <td>@TurboVice Ethereum is /better/ than bitcoin o...</td>\n",
       "      <td>jebcarterwrites</td>\n",
       "      <td>1</td>\n",
       "      <td>1</td>\n",
       "      <td>0</td>\n",
       "      <td>[{'label': 'NEG', 'score': 0.8896779417991638}]</td>\n",
       "      <td>NEG</td>\n",
       "      <td>0.89</td>\n",
       "    </tr>\n",
       "    <tr>\n",
       "      <th>349790</th>\n",
       "      <td>349790</td>\n",
       "      <td>2021-02-22 17:48:03+00:00</td>\n",
       "      <td>1,360,000,000,000,000,000.00</td>\n",
       "      <td>@The_Okina Feels frustrated. $350 for gas in o...</td>\n",
       "      <td>iam_oblik</td>\n",
       "      <td>0</td>\n",
       "      <td>1</td>\n",
       "      <td>0</td>\n",
       "      <td>[{'label': 'NEG', 'score': 0.9746716618537903}]</td>\n",
       "      <td>NEG</td>\n",
       "      <td>0.97</td>\n",
       "    </tr>\n",
       "    <tr>\n",
       "      <th>...</th>\n",
       "      <td>...</td>\n",
       "      <td>...</td>\n",
       "      <td>...</td>\n",
       "      <td>...</td>\n",
       "      <td>...</td>\n",
       "      <td>...</td>\n",
       "      <td>...</td>\n",
       "      <td>...</td>\n",
       "      <td>...</td>\n",
       "      <td>...</td>\n",
       "      <td>...</td>\n",
       "    </tr>\n",
       "    <tr>\n",
       "      <th>33125</th>\n",
       "      <td>33125</td>\n",
       "      <td>2021-04-09 06:15:14+00:00</td>\n",
       "      <td>1,380,000,000,000,000,000.00</td>\n",
       "      <td>@NickyPapersNFT @rariblecom 🎨 Own this lil bra...</td>\n",
       "      <td>ShaInk562</td>\n",
       "      <td>0</td>\n",
       "      <td>4</td>\n",
       "      <td>0</td>\n",
       "      <td>[{'label': 'POS', 'score': 0.9292113780975342}]</td>\n",
       "      <td>POS</td>\n",
       "      <td>0.93</td>\n",
       "    </tr>\n",
       "    <tr>\n",
       "      <th>212974</th>\n",
       "      <td>212974</td>\n",
       "      <td>2021-04-13 19:52:55+00:00</td>\n",
       "      <td>1,380,000,000,000,000,000.00</td>\n",
       "      <td>Would like to give a SHOUT out to all my follo...</td>\n",
       "      <td>cryptoJ911</td>\n",
       "      <td>1</td>\n",
       "      <td>5</td>\n",
       "      <td>2</td>\n",
       "      <td>[{'label': 'POS', 'score': 0.9898321628570557}]</td>\n",
       "      <td>POS</td>\n",
       "      <td>0.99</td>\n",
       "    </tr>\n",
       "    <tr>\n",
       "      <th>49265</th>\n",
       "      <td>49265</td>\n",
       "      <td>2021-04-02 21:14:25+00:00</td>\n",
       "      <td>1,380,000,000,000,000,000.00</td>\n",
       "      <td>@ForFunArt13 @withFND Hi NFT lovers/makers !\\n...</td>\n",
       "      <td>acheternft</td>\n",
       "      <td>0</td>\n",
       "      <td>1</td>\n",
       "      <td>0</td>\n",
       "      <td>[{'label': 'POS', 'score': 0.9392842650413513}]</td>\n",
       "      <td>POS</td>\n",
       "      <td>0.94</td>\n",
       "    </tr>\n",
       "    <tr>\n",
       "      <th>265653</th>\n",
       "      <td>265653</td>\n",
       "      <td>2021-03-30 22:27:22+00:00</td>\n",
       "      <td>1,380,000,000,000,000,000.00</td>\n",
       "      <td>@opensea my #nft#openseaisawesome \\nhttps://t....</td>\n",
       "      <td>Himma714</td>\n",
       "      <td>0</td>\n",
       "      <td>1</td>\n",
       "      <td>0</td>\n",
       "      <td>[{'label': 'POS', 'score': 0.98590487241745}]</td>\n",
       "      <td>POS</td>\n",
       "      <td>0.99</td>\n",
       "    </tr>\n",
       "    <tr>\n",
       "      <th>201577</th>\n",
       "      <td>201577</td>\n",
       "      <td>2021-04-17 23:44:30+00:00</td>\n",
       "      <td>1,380,000,000,000,000,000.00</td>\n",
       "      <td>Excited about this piece that I created with m...</td>\n",
       "      <td>YohodlArt369</td>\n",
       "      <td>0</td>\n",
       "      <td>7</td>\n",
       "      <td>2</td>\n",
       "      <td>[{'label': 'POS', 'score': 0.9897969365119934}]</td>\n",
       "      <td>POS</td>\n",
       "      <td>0.99</td>\n",
       "    </tr>\n",
       "  </tbody>\n",
       "</table>\n",
       "<p>300 rows × 11 columns</p>\n",
       "</div>"
      ],
      "text/plain": [
       "        Unnamed: 0                       time                           id  \\\n",
       "58756        58756  2021-03-29 22:34:18+00:00 1,380,000,000,000,000,000.00   \n",
       "5214          5214  2021-04-23 19:20:09+00:00 1,390,000,000,000,000,000.00   \n",
       "118884      118884  2021-02-21 05:20:43+00:00 1,360,000,000,000,000,000.00   \n",
       "108779      108779  2021-03-04 12:08:17+00:00 1,370,000,000,000,000,000.00   \n",
       "349790      349790  2021-02-22 17:48:03+00:00 1,360,000,000,000,000,000.00   \n",
       "...            ...                        ...                          ...   \n",
       "33125        33125  2021-04-09 06:15:14+00:00 1,380,000,000,000,000,000.00   \n",
       "212974      212974  2021-04-13 19:52:55+00:00 1,380,000,000,000,000,000.00   \n",
       "49265        49265  2021-04-02 21:14:25+00:00 1,380,000,000,000,000,000.00   \n",
       "265653      265653  2021-03-30 22:27:22+00:00 1,380,000,000,000,000,000.00   \n",
       "201577      201577  2021-04-17 23:44:30+00:00 1,380,000,000,000,000,000.00   \n",
       "\n",
       "                                                     body         username  \\\n",
       "58756   @digitalartchick As evil, environment-decimati...  AkashiqueStudi0   \n",
       "5214    @maria_solve #NFT \"Anarchic Love\" - 1 of 1\\n\\n...           rblbab   \n",
       "118884  What you know about  #Ethereum ?\\nretweet this...     hateyourprod   \n",
       "108779  @TurboVice Ethereum is /better/ than bitcoin o...  jebcarterwrites   \n",
       "349790  @The_Okina Feels frustrated. $350 for gas in o...        iam_oblik   \n",
       "...                                                   ...              ...   \n",
       "33125   @NickyPapersNFT @rariblecom 🎨 Own this lil bra...        ShaInk562   \n",
       "212974  Would like to give a SHOUT out to all my follo...       cryptoJ911   \n",
       "49265   @ForFunArt13 @withFND Hi NFT lovers/makers !\\n...       acheternft   \n",
       "265653  @opensea my #nft#openseaisawesome \\nhttps://t....         Himma714   \n",
       "201577  Excited about this piece that I created with m...     YohodlArt369   \n",
       "\n",
       "        replycount  likecount  retweetcount  \\\n",
       "58756            0          0             0   \n",
       "5214             0          1             1   \n",
       "118884           2         73            24   \n",
       "108779           1          1             0   \n",
       "349790           0          1             0   \n",
       "...            ...        ...           ...   \n",
       "33125            0          4             0   \n",
       "212974           1          5             2   \n",
       "49265            0          1             0   \n",
       "265653           0          1             0   \n",
       "201577           0          7             2   \n",
       "\n",
       "                                              sentiment label  score  \n",
       "58756    [{'label': 'NEG', 'score': 0.881817638874054}]   NEG   0.88  \n",
       "5214    [{'label': 'NEG', 'score': 0.6047797203063965}]   NEG   0.60  \n",
       "118884   [{'label': 'NEG', 'score': 0.878818690776825}]   NEG   0.88  \n",
       "108779  [{'label': 'NEG', 'score': 0.8896779417991638}]   NEG   0.89  \n",
       "349790  [{'label': 'NEG', 'score': 0.9746716618537903}]   NEG   0.97  \n",
       "...                                                 ...   ...    ...  \n",
       "33125   [{'label': 'POS', 'score': 0.9292113780975342}]   POS   0.93  \n",
       "212974  [{'label': 'POS', 'score': 0.9898321628570557}]   POS   0.99  \n",
       "49265   [{'label': 'POS', 'score': 0.9392842650413513}]   POS   0.94  \n",
       "265653    [{'label': 'POS', 'score': 0.98590487241745}]   POS   0.99  \n",
       "201577  [{'label': 'POS', 'score': 0.9897969365119934}]   POS   0.99  \n",
       "\n",
       "[300 rows x 11 columns]"
      ]
     },
     "execution_count": 279,
     "metadata": {},
     "output_type": "execute_result"
    }
   ],
   "source": [
    "data_sample"
   ]
  },
  {
   "cell_type": "code",
   "execution_count": 280,
   "metadata": {
    "id": "jwFTZHpWQhnr"
   },
   "outputs": [],
   "source": [
    "#Saving the sample file to a csv\n",
    "data_sample.to_csv(r'NN_uncleaned_sample.csv', index = False)"
   ]
  },
  {
   "cell_type": "code",
   "execution_count": 281,
   "metadata": {
    "id": "jGyXBHKnQjqg"
   },
   "outputs": [
    {
     "data": {
      "text/plain": [
       "'@Pianitza Why NFT’s art must be expensive?\\nEveryone should have the chance to buy one piece and be part of this community.💫\\nChoose your artwork and name your price on my collection on @opensea! Comments below!\\n\\nhttps://t.co/LEQcwS0ewC\\n\\n #nft #nftartist #nftcollector #nftcommunity #opensea'"
      ]
     },
     "execution_count": 281,
     "metadata": {},
     "output_type": "execute_result"
    }
   ],
   "source": [
    "#Correctly-labeled tweet: positive\n",
    "data[\"body\"][237581]"
   ]
  },
  {
   "cell_type": "code",
   "execution_count": 282,
   "metadata": {
    "id": "uB0FcjaMQlNC"
   },
   "outputs": [
    {
     "data": {
      "text/plain": [
       "\"@coin_artist in excess of 13k NFT's in past 24hrs\\n@opensea how can scarcity of assets provide value..if you're only selling it to yourself..\""
      ]
     },
     "execution_count": 282,
     "metadata": {},
     "output_type": "execute_result"
    }
   ],
   "source": [
    "#Correctly-labeled tweet: negative\n",
    "data[\"body\"][315612]"
   ]
  },
  {
   "cell_type": "code",
   "execution_count": 283,
   "metadata": {
    "id": "1FPY7PYwQm3M"
   },
   "outputs": [
    {
     "data": {
      "text/plain": [
       "'@buchara97 #ALIENS 👽\\nMy first collection is already available at @opensea\\n \\n https://t.co/BoR5QkYCIX\\n\\n#nft #nftart #nftcollector #NFTartist #cryproart https://t.co/bQRlcjmAsv'"
      ]
     },
     "execution_count": 283,
     "metadata": {},
     "output_type": "execute_result"
    }
   ],
   "source": [
    "#Incorrectly-labeled tweet: positive\n",
    "data[\"body\"][219712]"
   ]
  },
  {
   "cell_type": "code",
   "execution_count": 284,
   "metadata": {
    "id": "vrdw3MqOQn5C"
   },
   "outputs": [
    {
     "data": {
      "text/plain": [
       "'#CryptoHater #00109 /// Volatile [Available] \\n@opensea\\n\\n👉https://t.co/PFb3Yp66VI\\n\\n#nftart #nftcollector #nfts #nft #cryptoart #blockchain #ethereum #nftarts #NFTartists #Cryptopunks #NFTCommunity  #volatile https://t.co/5CGZrsMK7V'"
      ]
     },
     "execution_count": 284,
     "metadata": {},
     "output_type": "execute_result"
    }
   ],
   "source": [
    "#Incorrectly-labeled tweet: negative\n",
    "data[\"body\"][4868]"
   ]
  },
  {
   "cell_type": "markdown",
   "metadata": {
    "id": "67ksi_j3xbN4"
   },
   "source": [
    "#Supervised Machine Learning prediction problem"
   ]
  },
  {
   "cell_type": "markdown",
   "metadata": {
    "id": "UwQC-sdUlaPm"
   },
   "source": [
    "This step requires us to use data from 3 different datasets, that have to be read in separately, and then joined to form the final dataset. The datasets are named as \"first\", \"second\" and \"third\" in order to more easily keep track of which ones have to be joined."
   ]
  },
  {
   "cell_type": "code",
   "execution_count": 285,
   "metadata": {
    "id": "aqIVhTnZY17p"
   },
   "outputs": [],
   "source": [
    "import pandas as pd"
   ]
  },
  {
   "cell_type": "code",
   "execution_count": 286,
   "metadata": {
    "id": "jrkcbMDyeha7"
   },
   "outputs": [],
   "source": [
    "first = pd.read_csv(\"https://drive.google.com/uc?export=download&id=1uAhVU-4GrdZrmyBpXm_Z45DNRwiEDRWQ\")"
   ]
  },
  {
   "cell_type": "code",
   "execution_count": 287,
   "metadata": {
    "id": "9E-04txtbGtc"
   },
   "outputs": [],
   "source": [
    "second = pd.read_excel(\"https://drive.google.com/uc?export=download&id=1feF6EZhN-ggKK7R3EuXFwcGCorKGz0Hu\")"
   ]
  },
  {
   "cell_type": "code",
   "execution_count": 288,
   "metadata": {
    "id": "P_bx34BbevEW"
   },
   "outputs": [],
   "source": [
    "third = pd.read_csv(\"https://drive.google.com/uc?export=download&id=1ilQqSijWoO6o91m6huxWNG7HUt1uXUWu\")"
   ]
  },
  {
   "cell_type": "code",
   "execution_count": 289,
   "metadata": {
    "id": "mnARzTFpxf3d"
   },
   "outputs": [],
   "source": [
    "#convert the column \"Date\" to DateTime format and set it as index\n",
    "third[\"Date\"] = pd.to_datetime(third[\"Date\"])\n",
    "third = third.set_index(\"Date\")"
   ]
  },
  {
   "cell_type": "code",
   "execution_count": 290,
   "metadata": {
    "id": "u2c9i27pxf3e"
   },
   "outputs": [],
   "source": [
    "#sort the data in ascending order (it was in descending before)\n",
    "third = third.sort_index()"
   ]
  },
  {
   "cell_type": "code",
   "execution_count": 291,
   "metadata": {
    "colab": {
     "base_uri": "https://localhost:8080/"
    },
    "id": "IJ9eWrrHbGm4",
    "outputId": "57cc01b1-8406-4b82-c5c6-5b7834869217"
   },
   "outputs": [
    {
     "name": "stdout",
     "output_type": "stream",
     "text": [
      "<class 'pandas.core.frame.DataFrame'>\n",
      "Int64Index: 482 entries, 0 to 481\n",
      "Data columns (total 13 columns):\n",
      " #   Column           Non-Null Count  Dtype         \n",
      "---  ------           --------------  -----         \n",
      " 0   Date             482 non-null    object        \n",
      " 1   Art              482 non-null    int64         \n",
      " 2   Collectible      482 non-null    int64         \n",
      " 3   Games            482 non-null    int64         \n",
      " 4   Metaverse        482 non-null    int64         \n",
      " 5   Other            482 non-null    int64         \n",
      " 6   Utility          482 non-null    int64         \n",
      " 7   Total_NFT_Sales  482 non-null    int64         \n",
      " 8   Total_USD        482 non-null    float64       \n",
      " 9   date             482 non-null    datetime64[ns]\n",
      " 10  NEG              482 non-null    float64       \n",
      " 11  NEU              482 non-null    float64       \n",
      " 12  POS              482 non-null    float64       \n",
      "dtypes: datetime64[ns](1), float64(4), int64(7), object(1)\n",
      "memory usage: 52.7+ KB\n"
     ]
    }
   ],
   "source": [
    "first_second = first.join(second, how=\"inner\")\n",
    "first_second.info()"
   ]
  },
  {
   "cell_type": "code",
   "execution_count": 292,
   "metadata": {
    "id": "_ubf-1vGlNa6"
   },
   "outputs": [],
   "source": [
    "first_second[\"Date\"] = pd.to_datetime(first_second[\"Date\"])\n",
    "first_second = first_second.set_index(\"Date\")"
   ]
  },
  {
   "cell_type": "code",
   "execution_count": 293,
   "metadata": {
    "colab": {
     "base_uri": "https://localhost:8080/"
    },
    "id": "qziDLuQcgoUl",
    "outputId": "1aa23e1d-83c8-4c1a-98b9-a4e0bff09503"
   },
   "outputs": [
    {
     "name": "stdout",
     "output_type": "stream",
     "text": [
      "<class 'pandas.core.frame.DataFrame'>\n",
      "DatetimeIndex: 945 entries, 2019-03-08 to 2021-12-13\n",
      "Data columns (total 5 columns):\n",
      " #   Column      Non-Null Count  Dtype  \n",
      "---  ------      --------------  -----  \n",
      " 0   Close/Last  945 non-null    float64\n",
      " 1   Volume      0 non-null      float64\n",
      " 2   Open        945 non-null    float64\n",
      " 3   High        945 non-null    float64\n",
      " 4   Low         945 non-null    float64\n",
      "dtypes: float64(5)\n",
      "memory usage: 44.3 KB\n"
     ]
    }
   ],
   "source": [
    "third.info()"
   ]
  },
  {
   "cell_type": "code",
   "execution_count": 294,
   "metadata": {
    "colab": {
     "base_uri": "https://localhost:8080/",
     "height": 455
    },
    "id": "BSJBj--Xhqaa",
    "outputId": "ac41fe1e-8d5a-42ca-b0a3-aab106083aa0"
   },
   "outputs": [
    {
     "data": {
      "text/html": [
       "<div>\n",
       "<style scoped>\n",
       "    .dataframe tbody tr th:only-of-type {\n",
       "        vertical-align: middle;\n",
       "    }\n",
       "\n",
       "    .dataframe tbody tr th {\n",
       "        vertical-align: top;\n",
       "    }\n",
       "\n",
       "    .dataframe thead th {\n",
       "        text-align: right;\n",
       "    }\n",
       "</style>\n",
       "<table border=\"1\" class=\"dataframe\">\n",
       "  <thead>\n",
       "    <tr style=\"text-align: right;\">\n",
       "      <th></th>\n",
       "      <th>Close/Last</th>\n",
       "      <th>Volume</th>\n",
       "      <th>Open</th>\n",
       "      <th>High</th>\n",
       "      <th>Low</th>\n",
       "    </tr>\n",
       "    <tr>\n",
       "      <th>Date</th>\n",
       "      <th></th>\n",
       "      <th></th>\n",
       "      <th></th>\n",
       "      <th></th>\n",
       "      <th></th>\n",
       "    </tr>\n",
       "  </thead>\n",
       "  <tbody>\n",
       "    <tr>\n",
       "      <th>2020-01-01</th>\n",
       "      <td>129.67</td>\n",
       "      <td>NaN</td>\n",
       "      <td>130.23</td>\n",
       "      <td>130.77</td>\n",
       "      <td>128.89</td>\n",
       "    </tr>\n",
       "    <tr>\n",
       "      <th>2020-01-02</th>\n",
       "      <td>129.24</td>\n",
       "      <td>NaN</td>\n",
       "      <td>129.71</td>\n",
       "      <td>129.79</td>\n",
       "      <td>126.05</td>\n",
       "    </tr>\n",
       "    <tr>\n",
       "      <th>2020-01-03</th>\n",
       "      <td>133.96</td>\n",
       "      <td>NaN</td>\n",
       "      <td>129.40</td>\n",
       "      <td>134.77</td>\n",
       "      <td>132.95</td>\n",
       "    </tr>\n",
       "    <tr>\n",
       "      <th>2020-01-04</th>\n",
       "      <td>136.42</td>\n",
       "      <td>NaN</td>\n",
       "      <td>133.76</td>\n",
       "      <td>136.97</td>\n",
       "      <td>134.32</td>\n",
       "    </tr>\n",
       "    <tr>\n",
       "      <th>2020-01-05</th>\n",
       "      <td>139.82</td>\n",
       "      <td>NaN</td>\n",
       "      <td>136.02</td>\n",
       "      <td>139.90</td>\n",
       "      <td>135.17</td>\n",
       "    </tr>\n",
       "    <tr>\n",
       "      <th>...</th>\n",
       "      <td>...</td>\n",
       "      <td>...</td>\n",
       "      <td>...</td>\n",
       "      <td>...</td>\n",
       "      <td>...</td>\n",
       "    </tr>\n",
       "    <tr>\n",
       "      <th>2021-04-22</th>\n",
       "      <td>2,277.17</td>\n",
       "      <td>NaN</td>\n",
       "      <td>2,385.58</td>\n",
       "      <td>2,440.21</td>\n",
       "      <td>2,141.95</td>\n",
       "    </tr>\n",
       "    <tr>\n",
       "      <th>2021-04-23</th>\n",
       "      <td>2,302.55</td>\n",
       "      <td>NaN</td>\n",
       "      <td>2,281.49</td>\n",
       "      <td>2,367.46</td>\n",
       "      <td>2,229.62</td>\n",
       "    </tr>\n",
       "    <tr>\n",
       "      <th>2021-04-24</th>\n",
       "      <td>2,192.66</td>\n",
       "      <td>NaN</td>\n",
       "      <td>2,296.72</td>\n",
       "      <td>2,249.28</td>\n",
       "      <td>2,190.59</td>\n",
       "    </tr>\n",
       "    <tr>\n",
       "      <th>2021-04-25</th>\n",
       "      <td>2,445.16</td>\n",
       "      <td>NaN</td>\n",
       "      <td>2,189.26</td>\n",
       "      <td>2,467.72</td>\n",
       "      <td>2,305.97</td>\n",
       "    </tr>\n",
       "    <tr>\n",
       "      <th>2021-04-26</th>\n",
       "      <td>2,498.12</td>\n",
       "      <td>NaN</td>\n",
       "      <td>2,453.65</td>\n",
       "      <td>2,546.63</td>\n",
       "      <td>2,484.44</td>\n",
       "    </tr>\n",
       "  </tbody>\n",
       "</table>\n",
       "<p>482 rows × 5 columns</p>\n",
       "</div>"
      ],
      "text/plain": [
       "            Close/Last  Volume     Open     High      Low\n",
       "Date                                                     \n",
       "2020-01-01      129.67     NaN   130.23   130.77   128.89\n",
       "2020-01-02      129.24     NaN   129.71   129.79   126.05\n",
       "2020-01-03      133.96     NaN   129.40   134.77   132.95\n",
       "2020-01-04      136.42     NaN   133.76   136.97   134.32\n",
       "2020-01-05      139.82     NaN   136.02   139.90   135.17\n",
       "...                ...     ...      ...      ...      ...\n",
       "2021-04-22    2,277.17     NaN 2,385.58 2,440.21 2,141.95\n",
       "2021-04-23    2,302.55     NaN 2,281.49 2,367.46 2,229.62\n",
       "2021-04-24    2,192.66     NaN 2,296.72 2,249.28 2,190.59\n",
       "2021-04-25    2,445.16     NaN 2,189.26 2,467.72 2,305.97\n",
       "2021-04-26    2,498.12     NaN 2,453.65 2,546.63 2,484.44\n",
       "\n",
       "[482 rows x 5 columns]"
      ]
     },
     "execution_count": 294,
     "metadata": {},
     "output_type": "execute_result"
    }
   ],
   "source": [
    "third = third[\"2020-01-01\": \"2021-04-26\"]\n",
    "third"
   ]
  },
  {
   "cell_type": "code",
   "execution_count": 295,
   "metadata": {
    "colab": {
     "base_uri": "https://localhost:8080/"
    },
    "id": "H-UVTcFkjVvm",
    "outputId": "2a7e93ef-1a17-42fa-8c4a-91ab9709ac41"
   },
   "outputs": [
    {
     "name": "stdout",
     "output_type": "stream",
     "text": [
      "<class 'pandas.core.frame.DataFrame'>\n",
      "DatetimeIndex: 482 entries, 2020-01-01 to 2021-04-26\n",
      "Data columns (total 12 columns):\n",
      " #   Column           Non-Null Count  Dtype         \n",
      "---  ------           --------------  -----         \n",
      " 0   Art              482 non-null    int64         \n",
      " 1   Collectible      482 non-null    int64         \n",
      " 2   Games            482 non-null    int64         \n",
      " 3   Metaverse        482 non-null    int64         \n",
      " 4   Other            482 non-null    int64         \n",
      " 5   Utility          482 non-null    int64         \n",
      " 6   Total_NFT_Sales  482 non-null    int64         \n",
      " 7   Total_USD        482 non-null    float64       \n",
      " 8   date             482 non-null    datetime64[ns]\n",
      " 9   NEG              482 non-null    float64       \n",
      " 10  NEU              482 non-null    float64       \n",
      " 11  POS              482 non-null    float64       \n",
      "dtypes: datetime64[ns](1), float64(4), int64(7)\n",
      "memory usage: 49.0 KB\n"
     ]
    }
   ],
   "source": [
    "first_second.info()"
   ]
  },
  {
   "cell_type": "code",
   "execution_count": 296,
   "metadata": {
    "colab": {
     "base_uri": "https://localhost:8080/"
    },
    "id": "ExEWuAhBjZK3",
    "outputId": "dad58afc-37a4-41ef-8ed6-70e9b8435693"
   },
   "outputs": [
    {
     "name": "stdout",
     "output_type": "stream",
     "text": [
      "<class 'pandas.core.frame.DataFrame'>\n",
      "DatetimeIndex: 482 entries, 2020-01-01 to 2021-04-26\n",
      "Data columns (total 5 columns):\n",
      " #   Column      Non-Null Count  Dtype  \n",
      "---  ------      --------------  -----  \n",
      " 0   Close/Last  482 non-null    float64\n",
      " 1   Volume      0 non-null      float64\n",
      " 2   Open        482 non-null    float64\n",
      " 3   High        482 non-null    float64\n",
      " 4   Low         482 non-null    float64\n",
      "dtypes: float64(5)\n",
      "memory usage: 22.6 KB\n"
     ]
    }
   ],
   "source": [
    "third.info()"
   ]
  },
  {
   "cell_type": "code",
   "execution_count": 297,
   "metadata": {
    "colab": {
     "base_uri": "https://localhost:8080/",
     "height": 455
    },
    "id": "JoSNMK6PbGf7",
    "outputId": "1d8053db-6f52-4ab1-ee14-9e06a0a61433"
   },
   "outputs": [
    {
     "data": {
      "text/html": [
       "<div>\n",
       "<style scoped>\n",
       "    .dataframe tbody tr th:only-of-type {\n",
       "        vertical-align: middle;\n",
       "    }\n",
       "\n",
       "    .dataframe tbody tr th {\n",
       "        vertical-align: top;\n",
       "    }\n",
       "\n",
       "    .dataframe thead th {\n",
       "        text-align: right;\n",
       "    }\n",
       "</style>\n",
       "<table border=\"1\" class=\"dataframe\">\n",
       "  <thead>\n",
       "    <tr style=\"text-align: right;\">\n",
       "      <th></th>\n",
       "      <th>Art</th>\n",
       "      <th>Collectible</th>\n",
       "      <th>Games</th>\n",
       "      <th>Metaverse</th>\n",
       "      <th>Other</th>\n",
       "      <th>Utility</th>\n",
       "      <th>Total_NFT_Sales</th>\n",
       "      <th>Total_USD</th>\n",
       "      <th>date</th>\n",
       "      <th>NEG</th>\n",
       "      <th>NEU</th>\n",
       "      <th>POS</th>\n",
       "      <th>Close/Last</th>\n",
       "      <th>Volume</th>\n",
       "      <th>Open</th>\n",
       "      <th>High</th>\n",
       "      <th>Low</th>\n",
       "    </tr>\n",
       "    <tr>\n",
       "      <th>Date</th>\n",
       "      <th></th>\n",
       "      <th></th>\n",
       "      <th></th>\n",
       "      <th></th>\n",
       "      <th></th>\n",
       "      <th></th>\n",
       "      <th></th>\n",
       "      <th></th>\n",
       "      <th></th>\n",
       "      <th></th>\n",
       "      <th></th>\n",
       "      <th></th>\n",
       "      <th></th>\n",
       "      <th></th>\n",
       "      <th></th>\n",
       "      <th></th>\n",
       "      <th></th>\n",
       "    </tr>\n",
       "  </thead>\n",
       "  <tbody>\n",
       "    <tr>\n",
       "      <th>2020-01-01</th>\n",
       "      <td>384</td>\n",
       "      <td>27</td>\n",
       "      <td>436</td>\n",
       "      <td>63</td>\n",
       "      <td>32</td>\n",
       "      <td>2</td>\n",
       "      <td>944</td>\n",
       "      <td>21,099.15</td>\n",
       "      <td>2020-01-01</td>\n",
       "      <td>2.00</td>\n",
       "      <td>17.00</td>\n",
       "      <td>10.00</td>\n",
       "      <td>129.67</td>\n",
       "      <td>NaN</td>\n",
       "      <td>130.23</td>\n",
       "      <td>130.77</td>\n",
       "      <td>128.89</td>\n",
       "    </tr>\n",
       "    <tr>\n",
       "      <th>2020-01-02</th>\n",
       "      <td>290</td>\n",
       "      <td>31</td>\n",
       "      <td>690</td>\n",
       "      <td>3</td>\n",
       "      <td>36</td>\n",
       "      <td>0</td>\n",
       "      <td>1050</td>\n",
       "      <td>13,110.55</td>\n",
       "      <td>2020-01-02</td>\n",
       "      <td>0.00</td>\n",
       "      <td>24.00</td>\n",
       "      <td>19.00</td>\n",
       "      <td>129.24</td>\n",
       "      <td>NaN</td>\n",
       "      <td>129.71</td>\n",
       "      <td>129.79</td>\n",
       "      <td>126.05</td>\n",
       "    </tr>\n",
       "    <tr>\n",
       "      <th>2020-01-03</th>\n",
       "      <td>261</td>\n",
       "      <td>17</td>\n",
       "      <td>563</td>\n",
       "      <td>24</td>\n",
       "      <td>17</td>\n",
       "      <td>11</td>\n",
       "      <td>893</td>\n",
       "      <td>39,207.35</td>\n",
       "      <td>2020-01-03</td>\n",
       "      <td>2.00</td>\n",
       "      <td>30.00</td>\n",
       "      <td>25.00</td>\n",
       "      <td>133.96</td>\n",
       "      <td>NaN</td>\n",
       "      <td>129.40</td>\n",
       "      <td>134.77</td>\n",
       "      <td>132.95</td>\n",
       "    </tr>\n",
       "    <tr>\n",
       "      <th>2020-01-04</th>\n",
       "      <td>372</td>\n",
       "      <td>32</td>\n",
       "      <td>827</td>\n",
       "      <td>25</td>\n",
       "      <td>21</td>\n",
       "      <td>4</td>\n",
       "      <td>1281</td>\n",
       "      <td>31,869.53</td>\n",
       "      <td>2020-01-04</td>\n",
       "      <td>0.00</td>\n",
       "      <td>29.00</td>\n",
       "      <td>13.00</td>\n",
       "      <td>136.42</td>\n",
       "      <td>NaN</td>\n",
       "      <td>133.76</td>\n",
       "      <td>136.97</td>\n",
       "      <td>134.32</td>\n",
       "    </tr>\n",
       "    <tr>\n",
       "      <th>2020-01-05</th>\n",
       "      <td>356</td>\n",
       "      <td>22</td>\n",
       "      <td>702</td>\n",
       "      <td>12</td>\n",
       "      <td>21</td>\n",
       "      <td>2</td>\n",
       "      <td>1115</td>\n",
       "      <td>21,191.73</td>\n",
       "      <td>2020-01-05</td>\n",
       "      <td>0.00</td>\n",
       "      <td>29.00</td>\n",
       "      <td>13.00</td>\n",
       "      <td>139.82</td>\n",
       "      <td>NaN</td>\n",
       "      <td>136.02</td>\n",
       "      <td>139.90</td>\n",
       "      <td>135.17</td>\n",
       "    </tr>\n",
       "    <tr>\n",
       "      <th>...</th>\n",
       "      <td>...</td>\n",
       "      <td>...</td>\n",
       "      <td>...</td>\n",
       "      <td>...</td>\n",
       "      <td>...</td>\n",
       "      <td>...</td>\n",
       "      <td>...</td>\n",
       "      <td>...</td>\n",
       "      <td>...</td>\n",
       "      <td>...</td>\n",
       "      <td>...</td>\n",
       "      <td>...</td>\n",
       "      <td>...</td>\n",
       "      <td>...</td>\n",
       "      <td>...</td>\n",
       "      <td>...</td>\n",
       "      <td>...</td>\n",
       "    </tr>\n",
       "    <tr>\n",
       "      <th>2021-04-22</th>\n",
       "      <td>808</td>\n",
       "      <td>2452</td>\n",
       "      <td>404</td>\n",
       "      <td>59</td>\n",
       "      <td>181</td>\n",
       "      <td>36</td>\n",
       "      <td>3940</td>\n",
       "      <td>4,788,962.36</td>\n",
       "      <td>2021-04-22</td>\n",
       "      <td>95.00</td>\n",
       "      <td>2,453.00</td>\n",
       "      <td>2,632.00</td>\n",
       "      <td>2,277.17</td>\n",
       "      <td>NaN</td>\n",
       "      <td>2,385.58</td>\n",
       "      <td>2,440.21</td>\n",
       "      <td>2,141.95</td>\n",
       "    </tr>\n",
       "    <tr>\n",
       "      <th>2021-04-23</th>\n",
       "      <td>964</td>\n",
       "      <td>2529</td>\n",
       "      <td>387</td>\n",
       "      <td>74</td>\n",
       "      <td>206</td>\n",
       "      <td>39</td>\n",
       "      <td>4199</td>\n",
       "      <td>5,248,628.87</td>\n",
       "      <td>2021-04-23</td>\n",
       "      <td>96.00</td>\n",
       "      <td>1,812.00</td>\n",
       "      <td>1,771.00</td>\n",
       "      <td>2,302.55</td>\n",
       "      <td>NaN</td>\n",
       "      <td>2,281.49</td>\n",
       "      <td>2,367.46</td>\n",
       "      <td>2,229.62</td>\n",
       "    </tr>\n",
       "    <tr>\n",
       "      <th>2021-04-24</th>\n",
       "      <td>1248</td>\n",
       "      <td>1810</td>\n",
       "      <td>592</td>\n",
       "      <td>82</td>\n",
       "      <td>220</td>\n",
       "      <td>23</td>\n",
       "      <td>3975</td>\n",
       "      <td>3,962,828.56</td>\n",
       "      <td>2021-04-24</td>\n",
       "      <td>80.00</td>\n",
       "      <td>1,906.00</td>\n",
       "      <td>2,222.00</td>\n",
       "      <td>2,192.66</td>\n",
       "      <td>NaN</td>\n",
       "      <td>2,296.72</td>\n",
       "      <td>2,249.28</td>\n",
       "      <td>2,190.59</td>\n",
       "    </tr>\n",
       "    <tr>\n",
       "      <th>2021-04-25</th>\n",
       "      <td>1358</td>\n",
       "      <td>1859</td>\n",
       "      <td>757</td>\n",
       "      <td>96</td>\n",
       "      <td>302</td>\n",
       "      <td>22</td>\n",
       "      <td>4394</td>\n",
       "      <td>3,366,866.48</td>\n",
       "      <td>2021-04-25</td>\n",
       "      <td>54.00</td>\n",
       "      <td>1,957.00</td>\n",
       "      <td>2,247.00</td>\n",
       "      <td>2,445.16</td>\n",
       "      <td>NaN</td>\n",
       "      <td>2,189.26</td>\n",
       "      <td>2,467.72</td>\n",
       "      <td>2,305.97</td>\n",
       "    </tr>\n",
       "    <tr>\n",
       "      <th>2021-04-26</th>\n",
       "      <td>810</td>\n",
       "      <td>1767</td>\n",
       "      <td>614</td>\n",
       "      <td>74</td>\n",
       "      <td>298</td>\n",
       "      <td>21</td>\n",
       "      <td>3584</td>\n",
       "      <td>3,763,151.90</td>\n",
       "      <td>2021-04-26</td>\n",
       "      <td>86.00</td>\n",
       "      <td>2,323.00</td>\n",
       "      <td>2,235.00</td>\n",
       "      <td>2,498.12</td>\n",
       "      <td>NaN</td>\n",
       "      <td>2,453.65</td>\n",
       "      <td>2,546.63</td>\n",
       "      <td>2,484.44</td>\n",
       "    </tr>\n",
       "  </tbody>\n",
       "</table>\n",
       "<p>482 rows × 17 columns</p>\n",
       "</div>"
      ],
      "text/plain": [
       "             Art  Collectible  Games  Metaverse  Other  Utility  \\\n",
       "Date                                                              \n",
       "2020-01-01   384           27    436         63     32        2   \n",
       "2020-01-02   290           31    690          3     36        0   \n",
       "2020-01-03   261           17    563         24     17       11   \n",
       "2020-01-04   372           32    827         25     21        4   \n",
       "2020-01-05   356           22    702         12     21        2   \n",
       "...          ...          ...    ...        ...    ...      ...   \n",
       "2021-04-22   808         2452    404         59    181       36   \n",
       "2021-04-23   964         2529    387         74    206       39   \n",
       "2021-04-24  1248         1810    592         82    220       23   \n",
       "2021-04-25  1358         1859    757         96    302       22   \n",
       "2021-04-26   810         1767    614         74    298       21   \n",
       "\n",
       "            Total_NFT_Sales    Total_USD       date   NEG      NEU      POS  \\\n",
       "Date                                                                          \n",
       "2020-01-01              944    21,099.15 2020-01-01  2.00    17.00    10.00   \n",
       "2020-01-02             1050    13,110.55 2020-01-02  0.00    24.00    19.00   \n",
       "2020-01-03              893    39,207.35 2020-01-03  2.00    30.00    25.00   \n",
       "2020-01-04             1281    31,869.53 2020-01-04  0.00    29.00    13.00   \n",
       "2020-01-05             1115    21,191.73 2020-01-05  0.00    29.00    13.00   \n",
       "...                     ...          ...        ...   ...      ...      ...   \n",
       "2021-04-22             3940 4,788,962.36 2021-04-22 95.00 2,453.00 2,632.00   \n",
       "2021-04-23             4199 5,248,628.87 2021-04-23 96.00 1,812.00 1,771.00   \n",
       "2021-04-24             3975 3,962,828.56 2021-04-24 80.00 1,906.00 2,222.00   \n",
       "2021-04-25             4394 3,366,866.48 2021-04-25 54.00 1,957.00 2,247.00   \n",
       "2021-04-26             3584 3,763,151.90 2021-04-26 86.00 2,323.00 2,235.00   \n",
       "\n",
       "            Close/Last  Volume     Open     High      Low  \n",
       "Date                                                       \n",
       "2020-01-01      129.67     NaN   130.23   130.77   128.89  \n",
       "2020-01-02      129.24     NaN   129.71   129.79   126.05  \n",
       "2020-01-03      133.96     NaN   129.40   134.77   132.95  \n",
       "2020-01-04      136.42     NaN   133.76   136.97   134.32  \n",
       "2020-01-05      139.82     NaN   136.02   139.90   135.17  \n",
       "...                ...     ...      ...      ...      ...  \n",
       "2021-04-22    2,277.17     NaN 2,385.58 2,440.21 2,141.95  \n",
       "2021-04-23    2,302.55     NaN 2,281.49 2,367.46 2,229.62  \n",
       "2021-04-24    2,192.66     NaN 2,296.72 2,249.28 2,190.59  \n",
       "2021-04-25    2,445.16     NaN 2,189.26 2,467.72 2,305.97  \n",
       "2021-04-26    2,498.12     NaN 2,453.65 2,546.63 2,484.44  \n",
       "\n",
       "[482 rows x 17 columns]"
      ]
     },
     "execution_count": 297,
     "metadata": {},
     "output_type": "execute_result"
    }
   ],
   "source": [
    "#using pd.join on the last data did not work, and pd.merge has to be used instead\n",
    "data = pd.merge(first_second, third, how=\"inner\", left_index=True, right_index=True)\n",
    "data"
   ]
  },
  {
   "cell_type": "code",
   "execution_count": 298,
   "metadata": {
    "id": "kU1eihc5dCEM"
   },
   "outputs": [],
   "source": [
    "# some unnecessary columns need to be dropped, so a list with the column names is made first \n",
    "columns_drop = [\"Art\", \"Collectible\", \"Games\", \"Metaverse\", \"Other\", \"Utility\", \"date\", \"Close/Last\", \"Volume\", \"High\", \"Low\", \"Total_USD\"]"
   ]
  },
  {
   "cell_type": "code",
   "execution_count": 299,
   "metadata": {
    "id": "escd2Ft4dK-z"
   },
   "outputs": [],
   "source": [
    "# the list is used to drop the columns\n",
    "data = data.drop(columns_drop, axis=1)"
   ]
  },
  {
   "cell_type": "code",
   "execution_count": 300,
   "metadata": {
    "colab": {
     "base_uri": "https://localhost:8080/",
     "height": 455
    },
    "id": "Jegculy8dStD",
    "outputId": "575b9dc9-6b6f-4cf7-b4ad-9602df9708a1"
   },
   "outputs": [
    {
     "data": {
      "text/html": [
       "<div>\n",
       "<style scoped>\n",
       "    .dataframe tbody tr th:only-of-type {\n",
       "        vertical-align: middle;\n",
       "    }\n",
       "\n",
       "    .dataframe tbody tr th {\n",
       "        vertical-align: top;\n",
       "    }\n",
       "\n",
       "    .dataframe thead th {\n",
       "        text-align: right;\n",
       "    }\n",
       "</style>\n",
       "<table border=\"1\" class=\"dataframe\">\n",
       "  <thead>\n",
       "    <tr style=\"text-align: right;\">\n",
       "      <th></th>\n",
       "      <th>Total_NFT_Sales</th>\n",
       "      <th>NEG</th>\n",
       "      <th>NEU</th>\n",
       "      <th>POS</th>\n",
       "      <th>Open</th>\n",
       "    </tr>\n",
       "    <tr>\n",
       "      <th>Date</th>\n",
       "      <th></th>\n",
       "      <th></th>\n",
       "      <th></th>\n",
       "      <th></th>\n",
       "      <th></th>\n",
       "    </tr>\n",
       "  </thead>\n",
       "  <tbody>\n",
       "    <tr>\n",
       "      <th>2020-01-01</th>\n",
       "      <td>944</td>\n",
       "      <td>2.00</td>\n",
       "      <td>17.00</td>\n",
       "      <td>10.00</td>\n",
       "      <td>130.23</td>\n",
       "    </tr>\n",
       "    <tr>\n",
       "      <th>2020-01-02</th>\n",
       "      <td>1050</td>\n",
       "      <td>0.00</td>\n",
       "      <td>24.00</td>\n",
       "      <td>19.00</td>\n",
       "      <td>129.71</td>\n",
       "    </tr>\n",
       "    <tr>\n",
       "      <th>2020-01-03</th>\n",
       "      <td>893</td>\n",
       "      <td>2.00</td>\n",
       "      <td>30.00</td>\n",
       "      <td>25.00</td>\n",
       "      <td>129.40</td>\n",
       "    </tr>\n",
       "    <tr>\n",
       "      <th>2020-01-04</th>\n",
       "      <td>1281</td>\n",
       "      <td>0.00</td>\n",
       "      <td>29.00</td>\n",
       "      <td>13.00</td>\n",
       "      <td>133.76</td>\n",
       "    </tr>\n",
       "    <tr>\n",
       "      <th>2020-01-05</th>\n",
       "      <td>1115</td>\n",
       "      <td>0.00</td>\n",
       "      <td>29.00</td>\n",
       "      <td>13.00</td>\n",
       "      <td>136.02</td>\n",
       "    </tr>\n",
       "    <tr>\n",
       "      <th>...</th>\n",
       "      <td>...</td>\n",
       "      <td>...</td>\n",
       "      <td>...</td>\n",
       "      <td>...</td>\n",
       "      <td>...</td>\n",
       "    </tr>\n",
       "    <tr>\n",
       "      <th>2021-04-22</th>\n",
       "      <td>3940</td>\n",
       "      <td>95.00</td>\n",
       "      <td>2,453.00</td>\n",
       "      <td>2,632.00</td>\n",
       "      <td>2,385.58</td>\n",
       "    </tr>\n",
       "    <tr>\n",
       "      <th>2021-04-23</th>\n",
       "      <td>4199</td>\n",
       "      <td>96.00</td>\n",
       "      <td>1,812.00</td>\n",
       "      <td>1,771.00</td>\n",
       "      <td>2,281.49</td>\n",
       "    </tr>\n",
       "    <tr>\n",
       "      <th>2021-04-24</th>\n",
       "      <td>3975</td>\n",
       "      <td>80.00</td>\n",
       "      <td>1,906.00</td>\n",
       "      <td>2,222.00</td>\n",
       "      <td>2,296.72</td>\n",
       "    </tr>\n",
       "    <tr>\n",
       "      <th>2021-04-25</th>\n",
       "      <td>4394</td>\n",
       "      <td>54.00</td>\n",
       "      <td>1,957.00</td>\n",
       "      <td>2,247.00</td>\n",
       "      <td>2,189.26</td>\n",
       "    </tr>\n",
       "    <tr>\n",
       "      <th>2021-04-26</th>\n",
       "      <td>3584</td>\n",
       "      <td>86.00</td>\n",
       "      <td>2,323.00</td>\n",
       "      <td>2,235.00</td>\n",
       "      <td>2,453.65</td>\n",
       "    </tr>\n",
       "  </tbody>\n",
       "</table>\n",
       "<p>482 rows × 5 columns</p>\n",
       "</div>"
      ],
      "text/plain": [
       "            Total_NFT_Sales   NEG      NEU      POS     Open\n",
       "Date                                                        \n",
       "2020-01-01              944  2.00    17.00    10.00   130.23\n",
       "2020-01-02             1050  0.00    24.00    19.00   129.71\n",
       "2020-01-03              893  2.00    30.00    25.00   129.40\n",
       "2020-01-04             1281  0.00    29.00    13.00   133.76\n",
       "2020-01-05             1115  0.00    29.00    13.00   136.02\n",
       "...                     ...   ...      ...      ...      ...\n",
       "2021-04-22             3940 95.00 2,453.00 2,632.00 2,385.58\n",
       "2021-04-23             4199 96.00 1,812.00 1,771.00 2,281.49\n",
       "2021-04-24             3975 80.00 1,906.00 2,222.00 2,296.72\n",
       "2021-04-25             4394 54.00 1,957.00 2,247.00 2,189.26\n",
       "2021-04-26             3584 86.00 2,323.00 2,235.00 2,453.65\n",
       "\n",
       "[482 rows x 5 columns]"
      ]
     },
     "execution_count": 300,
     "metadata": {},
     "output_type": "execute_result"
    }
   ],
   "source": [
    "#check that the data has only the necessary columns for the next step\n",
    "data"
   ]
  },
  {
   "cell_type": "markdown",
   "metadata": {
    "id": "v1-unvl-y4v0"
   },
   "source": [
    "## SML - regression problem: Predict the traded volume"
   ]
  },
  {
   "cell_type": "markdown",
   "metadata": {
    "id": "cg2oW_FNyKWR"
   },
   "source": [
    "##Take a look at the correlation between the variables first\n",
    "\n",
    "This is done in order to get an initial idea of how(if) the data is correlated"
   ]
  },
  {
   "cell_type": "code",
   "execution_count": 301,
   "metadata": {
    "id": "ZJdxKBrpdh4W"
   },
   "outputs": [],
   "source": [
    "import seaborn as sns\n",
    "import numpy as np"
   ]
  },
  {
   "cell_type": "code",
   "execution_count": 302,
   "metadata": {
    "colab": {
     "base_uri": "https://localhost:8080/",
     "height": 206
    },
    "id": "lhBQtA-7Sc_O",
    "outputId": "3730b928-a3bc-4050-8411-b818999dc077"
   },
   "outputs": [
    {
     "data": {
      "text/html": [
       "<div>\n",
       "<style scoped>\n",
       "    .dataframe tbody tr th:only-of-type {\n",
       "        vertical-align: middle;\n",
       "    }\n",
       "\n",
       "    .dataframe tbody tr th {\n",
       "        vertical-align: top;\n",
       "    }\n",
       "\n",
       "    .dataframe thead th {\n",
       "        text-align: right;\n",
       "    }\n",
       "</style>\n",
       "<table border=\"1\" class=\"dataframe\">\n",
       "  <thead>\n",
       "    <tr style=\"text-align: right;\">\n",
       "      <th></th>\n",
       "      <th>Total_NFT_Sales</th>\n",
       "      <th>NEG</th>\n",
       "      <th>NEU</th>\n",
       "      <th>POS</th>\n",
       "      <th>Open</th>\n",
       "    </tr>\n",
       "  </thead>\n",
       "  <tbody>\n",
       "    <tr>\n",
       "      <th>Total_NFT_Sales</th>\n",
       "      <td>1.00</td>\n",
       "      <td>0.81</td>\n",
       "      <td>0.77</td>\n",
       "      <td>0.76</td>\n",
       "      <td>0.71</td>\n",
       "    </tr>\n",
       "    <tr>\n",
       "      <th>NEG</th>\n",
       "      <td>0.81</td>\n",
       "      <td>1.00</td>\n",
       "      <td>0.95</td>\n",
       "      <td>0.95</td>\n",
       "      <td>0.78</td>\n",
       "    </tr>\n",
       "    <tr>\n",
       "      <th>NEU</th>\n",
       "      <td>0.77</td>\n",
       "      <td>0.95</td>\n",
       "      <td>1.00</td>\n",
       "      <td>0.99</td>\n",
       "      <td>0.81</td>\n",
       "    </tr>\n",
       "    <tr>\n",
       "      <th>POS</th>\n",
       "      <td>0.76</td>\n",
       "      <td>0.95</td>\n",
       "      <td>0.99</td>\n",
       "      <td>1.00</td>\n",
       "      <td>0.80</td>\n",
       "    </tr>\n",
       "    <tr>\n",
       "      <th>Open</th>\n",
       "      <td>0.71</td>\n",
       "      <td>0.78</td>\n",
       "      <td>0.81</td>\n",
       "      <td>0.80</td>\n",
       "      <td>1.00</td>\n",
       "    </tr>\n",
       "  </tbody>\n",
       "</table>\n",
       "</div>"
      ],
      "text/plain": [
       "                 Total_NFT_Sales  NEG  NEU  POS  Open\n",
       "Total_NFT_Sales             1.00 0.81 0.77 0.76  0.71\n",
       "NEG                         0.81 1.00 0.95 0.95  0.78\n",
       "NEU                         0.77 0.95 1.00 0.99  0.81\n",
       "POS                         0.76 0.95 0.99 1.00  0.80\n",
       "Open                        0.71 0.78 0.81 0.80  1.00"
      ]
     },
     "execution_count": 302,
     "metadata": {},
     "output_type": "execute_result"
    }
   ],
   "source": [
    "# Compute the pairwise correlation of the variables from the \"data\" dataframe\n",
    "corr = data.corr()\n",
    "corr"
   ]
  },
  {
   "cell_type": "code",
   "execution_count": 303,
   "metadata": {
    "colab": {
     "base_uri": "https://localhost:8080/",
     "height": 283
    },
    "id": "PRccmEg3SrwT",
    "outputId": "b1f240c6-9b35-4836-891b-aa9c56b755a2"
   },
   "outputs": [
    {
     "data": {
      "text/plain": [
       "<AxesSubplot:>"
      ]
     },
     "execution_count": 303,
     "metadata": {},
     "output_type": "execute_result"
    },
    {
     "data": {
      "image/png": "[encoded data removed]",
      "text/plain": [
       "<Figure size 864x576 with 2 Axes>"
      ]
     },
     "metadata": {},
     "output_type": "display_data"
    }
   ],
   "source": [
    "# Make a customized heatmap; use \"cmap\" to set the blue-white-red palette \n",
    "cmap = sns.diverging_palette(240, 10, as_cmap=True)\n",
    "mask = np.triu(np.ones_like(corr, dtype=bool))\n",
    "sns.heatmap(corr,mask=mask, cmap=cmap)"
   ]
  },
  {
   "cell_type": "markdown",
   "metadata": {
    "id": "ml3G29VIyows"
   },
   "source": [
    "The heatmap shows a relatively strong positive correlation between the positive, neutral, and negative sentiment against each other."
   ]
  },
  {
   "cell_type": "code",
   "execution_count": 304,
   "metadata": {
    "colab": {
     "base_uri": "https://localhost:8080/",
     "height": 920
    },
    "id": "2O8YhstO0-MU",
    "outputId": "afd3fdc7-78cf-4a05-c025-7ce34a297cfd"
   },
   "outputs": [
    {
     "data": {
      "text/plain": [
       "<seaborn.axisgrid.PairGrid at 0x22a633164c0>"
      ]
     },
     "execution_count": 304,
     "metadata": {},
     "output_type": "execute_result"
    },
    {
     "data": {
      "image/png": "[encoded data removed]",
      "text/plain": [
       "<Figure size 900x900 with 20 Axes>"
      ]
     },
     "metadata": {},
     "output_type": "display_data"
    }
   ],
   "source": [
    "# Plot a pairplot using sns.pairplot()\n",
    "# Use \"corner=True\" to get just the lower corner of the grid\n",
    "# Use \"diag_kind= 'kde\" to set the type of graph on the diagonal line \n",
    "sns.pairplot(data, corner=True, diag_kind='kde')"
   ]
  },
  {
   "cell_type": "markdown",
   "metadata": {
    "id": "I0Wh5UUh0fPA"
   },
   "source": [
    "##Train-test split "
   ]
  },
  {
   "cell_type": "code",
   "execution_count": 305,
   "metadata": {
    "id": "8EcTDHwMgybl"
   },
   "outputs": [
    {
     "data": {
      "text/html": [
       "<div>\n",
       "<style scoped>\n",
       "    .dataframe tbody tr th:only-of-type {\n",
       "        vertical-align: middle;\n",
       "    }\n",
       "\n",
       "    .dataframe tbody tr th {\n",
       "        vertical-align: top;\n",
       "    }\n",
       "\n",
       "    .dataframe thead th {\n",
       "        text-align: right;\n",
       "    }\n",
       "</style>\n",
       "<table border=\"1\" class=\"dataframe\">\n",
       "  <thead>\n",
       "    <tr style=\"text-align: right;\">\n",
       "      <th></th>\n",
       "      <th>NEG</th>\n",
       "      <th>NEU</th>\n",
       "      <th>POS</th>\n",
       "      <th>Open</th>\n",
       "    </tr>\n",
       "    <tr>\n",
       "      <th>Date</th>\n",
       "      <th></th>\n",
       "      <th></th>\n",
       "      <th></th>\n",
       "      <th></th>\n",
       "    </tr>\n",
       "  </thead>\n",
       "  <tbody>\n",
       "    <tr>\n",
       "      <th>2020-01-01</th>\n",
       "      <td>2.00</td>\n",
       "      <td>17.00</td>\n",
       "      <td>10.00</td>\n",
       "      <td>130.23</td>\n",
       "    </tr>\n",
       "    <tr>\n",
       "      <th>2020-01-02</th>\n",
       "      <td>0.00</td>\n",
       "      <td>24.00</td>\n",
       "      <td>19.00</td>\n",
       "      <td>129.71</td>\n",
       "    </tr>\n",
       "    <tr>\n",
       "      <th>2020-01-03</th>\n",
       "      <td>2.00</td>\n",
       "      <td>30.00</td>\n",
       "      <td>25.00</td>\n",
       "      <td>129.40</td>\n",
       "    </tr>\n",
       "    <tr>\n",
       "      <th>2020-01-04</th>\n",
       "      <td>0.00</td>\n",
       "      <td>29.00</td>\n",
       "      <td>13.00</td>\n",
       "      <td>133.76</td>\n",
       "    </tr>\n",
       "    <tr>\n",
       "      <th>2020-01-05</th>\n",
       "      <td>0.00</td>\n",
       "      <td>29.00</td>\n",
       "      <td>13.00</td>\n",
       "      <td>136.02</td>\n",
       "    </tr>\n",
       "    <tr>\n",
       "      <th>...</th>\n",
       "      <td>...</td>\n",
       "      <td>...</td>\n",
       "      <td>...</td>\n",
       "      <td>...</td>\n",
       "    </tr>\n",
       "    <tr>\n",
       "      <th>2021-04-22</th>\n",
       "      <td>95.00</td>\n",
       "      <td>2,453.00</td>\n",
       "      <td>2,632.00</td>\n",
       "      <td>2,385.58</td>\n",
       "    </tr>\n",
       "    <tr>\n",
       "      <th>2021-04-23</th>\n",
       "      <td>96.00</td>\n",
       "      <td>1,812.00</td>\n",
       "      <td>1,771.00</td>\n",
       "      <td>2,281.49</td>\n",
       "    </tr>\n",
       "    <tr>\n",
       "      <th>2021-04-24</th>\n",
       "      <td>80.00</td>\n",
       "      <td>1,906.00</td>\n",
       "      <td>2,222.00</td>\n",
       "      <td>2,296.72</td>\n",
       "    </tr>\n",
       "    <tr>\n",
       "      <th>2021-04-25</th>\n",
       "      <td>54.00</td>\n",
       "      <td>1,957.00</td>\n",
       "      <td>2,247.00</td>\n",
       "      <td>2,189.26</td>\n",
       "    </tr>\n",
       "    <tr>\n",
       "      <th>2021-04-26</th>\n",
       "      <td>86.00</td>\n",
       "      <td>2,323.00</td>\n",
       "      <td>2,235.00</td>\n",
       "      <td>2,453.65</td>\n",
       "    </tr>\n",
       "  </tbody>\n",
       "</table>\n",
       "<p>482 rows × 4 columns</p>\n",
       "</div>"
      ],
      "text/plain": [
       "             NEG      NEU      POS     Open\n",
       "Date                                       \n",
       "2020-01-01  2.00    17.00    10.00   130.23\n",
       "2020-01-02  0.00    24.00    19.00   129.71\n",
       "2020-01-03  2.00    30.00    25.00   129.40\n",
       "2020-01-04  0.00    29.00    13.00   133.76\n",
       "2020-01-05  0.00    29.00    13.00   136.02\n",
       "...          ...      ...      ...      ...\n",
       "2021-04-22 95.00 2,453.00 2,632.00 2,385.58\n",
       "2021-04-23 96.00 1,812.00 1,771.00 2,281.49\n",
       "2021-04-24 80.00 1,906.00 2,222.00 2,296.72\n",
       "2021-04-25 54.00 1,957.00 2,247.00 2,189.26\n",
       "2021-04-26 86.00 2,323.00 2,235.00 2,453.65\n",
       "\n",
       "[482 rows x 4 columns]"
      ]
     },
     "execution_count": 305,
     "metadata": {},
     "output_type": "execute_result"
    }
   ],
   "source": [
    "# Start out with the y variable which we want to predict: Total_NFT_Sales\n",
    "y = data[\"Total_NFT_Sales\"]\n",
    "# X is comprised of the columns that contain the independent variables\n",
    "X = data.loc[:, [\"NEG\", \"NEU\", \"POS\", \"Open\"]]\n",
    "X"
   ]
  },
  {
   "cell_type": "code",
   "execution_count": 306,
   "metadata": {
    "colab": {
     "base_uri": "https://localhost:8080/"
    },
    "id": "-wD_PZ8GqrXp",
    "outputId": "47841ea6-dbcb-49d2-d3b4-773737234a7d"
   },
   "outputs": [
    {
     "name": "stdout",
     "output_type": "stream",
     "text": [
      "<class 'pandas.core.frame.DataFrame'>\n",
      "DatetimeIndex: 482 entries, 2020-01-01 to 2021-04-26\n",
      "Data columns (total 5 columns):\n",
      " #   Column           Non-Null Count  Dtype  \n",
      "---  ------           --------------  -----  \n",
      " 0   Total_NFT_Sales  482 non-null    int64  \n",
      " 1   NEG              482 non-null    float64\n",
      " 2   NEU              482 non-null    float64\n",
      " 3   POS              482 non-null    float64\n",
      " 4   Open             482 non-null    float64\n",
      "dtypes: float64(4), int64(1)\n",
      "memory usage: 38.8 KB\n"
     ]
    }
   ],
   "source": [
    "data.info()"
   ]
  },
  {
   "cell_type": "code",
   "execution_count": 307,
   "metadata": {
    "id": "0bL2_0syy9jd"
   },
   "outputs": [],
   "source": [
    "# The data is on different scales, and has to be standardized\n",
    "# Use StandardScaler to scale, fit and transform the data\n",
    "from sklearn.preprocessing import StandardScaler\n",
    "X = StandardScaler().fit_transform(X)"
   ]
  },
  {
   "cell_type": "code",
   "execution_count": 308,
   "metadata": {
    "id": "FFIC3TKfhm34"
   },
   "outputs": [],
   "source": [
    "# Import train_test_split and prepare the train and test data\n",
    "# Choose a test_size of 0.25 -leave out 25% of the data in the training\n",
    "from sklearn.model_selection import train_test_split\n",
    "X_train, X_test, y_train, y_test = train_test_split(X, y, test_size = 0.25, random_state = 42)"
   ]
  },
  {
   "cell_type": "code",
   "execution_count": 309,
   "metadata": {
    "id": "UwjZc3p8n1Ut"
   },
   "outputs": [],
   "source": [
    "# Import the packages for the tests we will use\n",
    "# 4 different tests: LinearRegression, ElasticNet, RandomForest, and XGBRegressor\n",
    "# By having multiple different tests, we will be able to compare and contrast their scores\n",
    "from sklearn.linear_model import LinearRegression, ElasticNet\n",
    "from sklearn.ensemble import RandomForestRegressor\n",
    "from xgboost import XGBRegressor"
   ]
  },
  {
   "cell_type": "code",
   "execution_count": 310,
   "metadata": {
    "id": "haEsJGV4e2W5"
   },
   "outputs": [],
   "source": [
    "# Define the models using conventional notation for reproducibility \n",
    "model_ols = LinearRegression()\n",
    "model_el = ElasticNet()\n",
    "model_rf = RandomForestRegressor(n_estimators=25)\n",
    "model_xgb = XGBRegressor()"
   ]
  },
  {
   "cell_type": "code",
   "execution_count": 311,
   "metadata": {
    "colab": {
     "base_uri": "https://localhost:8080/"
    },
    "id": "9xST_MQTpm-K",
    "outputId": "08c04c52-6888-4789-a8c5-e92afc0addd6"
   },
   "outputs": [
    {
     "data": {
      "text/plain": [
       "XGBRegressor(base_score=0.5, booster='gbtree', colsample_bylevel=1,\n",
       "             colsample_bynode=1, colsample_bytree=1, enable_categorical=False,\n",
       "             gamma=0, gpu_id=-1, importance_type=None,\n",
       "             interaction_constraints='', learning_rate=0.300000012,\n",
       "             max_delta_step=0, max_depth=6, min_child_weight=1, missing=nan,\n",
       "             monotone_constraints='()', n_estimators=100, n_jobs=12,\n",
       "             num_parallel_tree=1, predictor='auto', random_state=0, reg_alpha=0,\n",
       "             reg_lambda=1, scale_pos_weight=1, subsample=1, tree_method='exact',\n",
       "             validate_parameters=1, verbosity=None)"
      ]
     },
     "execution_count": 311,
     "metadata": {},
     "output_type": "execute_result"
    }
   ],
   "source": [
    "# Fit the models first\n",
    "model_ols.fit(X_train, y_train)\n",
    "model_el.fit(X_train, y_train)\n",
    "model_rf.fit(X_train, y_train)\n",
    "model_xgb.fit(X_train, y_train)"
   ]
  },
  {
   "cell_type": "code",
   "execution_count": 312,
   "metadata": {
    "colab": {
     "base_uri": "https://localhost:8080/"
    },
    "id": "g0QkV_61qCgi",
    "outputId": "dca4fb33-655d-49a5-c457-00ec778ad3f3"
   },
   "outputs": [
    {
     "name": "stdout",
     "output_type": "stream",
     "text": [
      "OLS Model test score is 0.5958578770565384\n",
      "EL Model test score is 0.5521405932887951\n",
      "RF Model test score is 0.8860491744103313\n",
      "XGB Model test score is 0.8387988349098877\n"
     ]
    }
   ],
   "source": [
    "# Now check out the scores on the test data\n",
    "print(\"OLS Model test score is\" + ' ' + str(model_ols.score(X_test, y_test)))\n",
    "print(\"EL Model test score is\" + ' ' + str(model_el.score(X_test, y_test)))\n",
    "print(\"RF Model test score is\" + ' ' + str(model_rf.score(X_test, y_test)))\n",
    "print(\"XGB Model test score is\" + ' ' + str(model_xgb.score(X_test, y_test)))\n"
   ]
  },
  {
   "cell_type": "code",
   "execution_count": 313,
   "metadata": {
    "colab": {
     "base_uri": "https://localhost:8080/"
    },
    "id": "E-O9tmfH2nHD",
    "outputId": "698a98dc-6a7f-4cbf-beb7-e779ebf537cb"
   },
   "outputs": [
    {
     "name": "stdout",
     "output_type": "stream",
     "text": [
      "OLS Model train score is 0.7031236151742862\n",
      "EL Model train score is 0.6727914552574539\n",
      "RF Model train score is 0.9738562101932335\n",
      "XGB Model train score is 0.999965066584613\n"
     ]
    }
   ],
   "source": [
    "# Check out the scores on the train data  \n",
    "print(\"OLS Model train score is\" + ' ' + str(model_ols.score(X_train, y_train)))\n",
    "print(\"EL Model train score is\" + ' ' + str(model_el.score(X_train, y_train)))\n",
    "print(\"RF Model train score is\" + ' ' + str(model_rf.score(X_train, y_train)))\n",
    "print(\"XGB Model train score is\" + ' ' + str(model_xgb.score(X_train, y_train)))"
   ]
  },
  {
   "cell_type": "markdown",
   "metadata": {
    "id": "qJxP6xNN3YLf"
   },
   "source": [
    "The scores represent the coefficient of determination R^2 of the prediction, meaning that the value of the errors (distances between the predicted value and the true value) is calculated and squared, to give a positive value between 0 and 1. (The positive and negative error values cancel each other out)  \n",
    "\n",
    "All models performed better on the training data compared to the performance on the test data.\n",
    "\n"
   ]
  },
  {
   "cell_type": "code",
   "execution_count": 314,
   "metadata": {
    "id": "Ltmwj_hdioKw"
   },
   "outputs": [],
   "source": [
    "# Define y variables in order to be able to visualize how well the algorithm is doing at predicting the total amount spent\n",
    "y_predicted_ols = model_ols.predict(X_test)\n",
    "y_predicted_el = model_el.predict(X_test)\n",
    "y_predicted_rf = model_rf.predict(X_test)\n",
    "y_predicted_xgb = model_xgb.predict(X_test)"
   ]
  },
  {
   "cell_type": "markdown",
   "metadata": {
    "id": "x0ATAiN-48uS"
   },
   "source": [
    "Visualise the performance of the 4 models by plotting the y_test and the y_predicted for each model. \n",
    "\n",
    "Optimally, if the model was perfect (always predicting the real total_NFT_Sales), the datapoints would all be arranged in a straight line. The less scattered the data is, the better the model performed"
   ]
  },
  {
   "cell_type": "code",
   "execution_count": 315,
   "metadata": {
    "colab": {
     "base_uri": "https://localhost:8080/",
     "height": 352
    },
    "id": "cOZX8jIj2qfB",
    "outputId": "58842021-b1d8-470c-dd15-26aec4df7581"
   },
   "outputs": [
    {
     "name": "stderr",
     "output_type": "stream",
     "text": [
      "C:\\Users\\kesut\\anaconda3\\lib\\site-packages\\seaborn\\_decorators.py:36: FutureWarning: Pass the following variables as keyword args: x, y. From version 0.12, the only valid positional argument will be `data`, and passing other arguments without an explicit keyword will result in an error or misinterpretation.\n",
      "  warnings.warn(\n"
     ]
    },
    {
     "data": {
      "text/plain": [
       "<AxesSubplot:xlabel='Total_NFT_Sales'>"
      ]
     },
     "execution_count": 315,
     "metadata": {},
     "output_type": "execute_result"
    },
    {
     "data": {
      "image/png": "[encoded data removed]",
      "text/plain": [
       "<Figure size 864x576 with 1 Axes>"
      ]
     },
     "metadata": {},
     "output_type": "display_data"
    }
   ],
   "source": [
    "# Visualisation of LinearRegression()\n",
    "sns.scatterplot(y_test, y_predicted_ols)"
   ]
  },
  {
   "cell_type": "code",
   "execution_count": 316,
   "metadata": {
    "colab": {
     "base_uri": "https://localhost:8080/",
     "height": 352
    },
    "id": "6hYYFyQw5EuN",
    "outputId": "3ecc310c-87de-4e7f-c40f-50e525c6504e"
   },
   "outputs": [
    {
     "name": "stderr",
     "output_type": "stream",
     "text": [
      "C:\\Users\\kesut\\anaconda3\\lib\\site-packages\\seaborn\\_decorators.py:36: FutureWarning: Pass the following variables as keyword args: x, y. From version 0.12, the only valid positional argument will be `data`, and passing other arguments without an explicit keyword will result in an error or misinterpretation.\n",
      "  warnings.warn(\n"
     ]
    },
    {
     "data": {
      "text/plain": [
       "<AxesSubplot:xlabel='Total_NFT_Sales'>"
      ]
     },
     "execution_count": 316,
     "metadata": {},
     "output_type": "execute_result"
    },
    {
     "data": {
      "image/png": "[encoded data removed]",
      "text/plain": [
       "<Figure size 864x576 with 1 Axes>"
      ]
     },
     "metadata": {},
     "output_type": "display_data"
    }
   ],
   "source": [
    "# Visualisation of ElasticNet()\n",
    "sns.scatterplot(y_test, y_predicted_el)"
   ]
  },
  {
   "cell_type": "code",
   "execution_count": 317,
   "metadata": {
    "colab": {
     "base_uri": "https://localhost:8080/",
     "height": 352
    },
    "id": "V4lU5P7a5V8f",
    "outputId": "16953d12-2f39-4b0f-c105-564b5081d0dd"
   },
   "outputs": [
    {
     "name": "stderr",
     "output_type": "stream",
     "text": [
      "C:\\Users\\kesut\\anaconda3\\lib\\site-packages\\seaborn\\_decorators.py:36: FutureWarning: Pass the following variables as keyword args: x, y. From version 0.12, the only valid positional argument will be `data`, and passing other arguments without an explicit keyword will result in an error or misinterpretation.\n",
      "  warnings.warn(\n"
     ]
    },
    {
     "data": {
      "text/plain": [
       "<AxesSubplot:xlabel='Total_NFT_Sales'>"
      ]
     },
     "execution_count": 317,
     "metadata": {},
     "output_type": "execute_result"
    },
    {
     "data": {
      "image/png": "[encoded data removed]",
      "text/plain": [
       "<Figure size 864x576 with 1 Axes>"
      ]
     },
     "metadata": {},
     "output_type": "display_data"
    }
   ],
   "source": [
    "# Visualisation of RandomForestRegressor()\n",
    "\n",
    "sns.scatterplot(y_test, y_predicted_rf)"
   ]
  },
  {
   "cell_type": "code",
   "execution_count": 318,
   "metadata": {
    "colab": {
     "base_uri": "https://localhost:8080/",
     "height": 352
    },
    "id": "p06WciR25X4H",
    "outputId": "a66454af-d454-4e3f-90f4-189b6a5b0c93"
   },
   "outputs": [
    {
     "name": "stderr",
     "output_type": "stream",
     "text": [
      "C:\\Users\\kesut\\anaconda3\\lib\\site-packages\\seaborn\\_decorators.py:36: FutureWarning: Pass the following variables as keyword args: x, y. From version 0.12, the only valid positional argument will be `data`, and passing other arguments without an explicit keyword will result in an error or misinterpretation.\n",
      "  warnings.warn(\n"
     ]
    },
    {
     "data": {
      "text/plain": [
       "<AxesSubplot:xlabel='Total_NFT_Sales'>"
      ]
     },
     "execution_count": 318,
     "metadata": {},
     "output_type": "execute_result"
    },
    {
     "data": {
      "image/png": "[encoded data removed]",
      "text/plain": [
       "<Figure size 864x576 with 1 Axes>"
      ]
     },
     "metadata": {},
     "output_type": "display_data"
    }
   ],
   "source": [
    "# Visualisation of XGBRegressor()\n",
    "sns.scatterplot(y_test, y_predicted_xgb)"
   ]
  },
  {
   "cell_type": "markdown",
   "metadata": {
    "id": "DxOldcDOrrqf"
   },
   "source": [
    "##Hyper parameter adjustement using GridSearchCV"
   ]
  },
  {
   "cell_type": "code",
   "execution_count": 319,
   "metadata": {
    "id": "iffmv4tzpoYW"
   },
   "outputs": [],
   "source": [
    "# Import the necessary functions\n",
    "from sklearn.model_selection import GridSearchCV\n",
    "from sklearn.metrics import make_scorer \n",
    "from sklearn.metrics import mean_squared_error \n",
    "from sklearn.metrics import r2_score\n",
    "\n",
    "scorer = make_scorer(r2_score)\n",
    "# scorer = make_scorer(mean_squared_error), The reason for this is explained after the tuning of all models"
   ]
  },
  {
   "cell_type": "markdown",
   "metadata": {
    "id": "jF_2nT6Z6ubR"
   },
   "source": [
    "Hyperparameter optimizing for ElasticNet()\n"
   ]
  },
  {
   "cell_type": "code",
   "execution_count": 320,
   "metadata": {
    "id": "UXgnzqXqpoYW"
   },
   "outputs": [],
   "source": [
    "#make a dictionary for the parameters and values \n",
    "params_el = {\"alpha\":[0.1, 0.5, 1.0], \"l1_ratio\":[0.1, 0.5, 0.75]}"
   ]
  },
  {
   "cell_type": "code",
   "execution_count": 321,
   "metadata": {
    "id": "Fky8G7AkpoYW"
   },
   "outputs": [],
   "source": [
    "# Perform grid search on the classifier using 'scorer' as the scoring method.\n",
    "grid_obj = GridSearchCV(model_el, params_el, scoring=scorer)"
   ]
  },
  {
   "cell_type": "code",
   "execution_count": 322,
   "metadata": {
    "id": "FOur89OopoYX"
   },
   "outputs": [],
   "source": [
    "# Use grid_obj.fit to perform the 5-fold crossvalidation to optimize the parameters\n",
    "# The train data is split up 5 times, 4 parts of that data are used to shuffle through the different parameters\n",
    "# The algorithm finds which parameters were the best between all the sets\n",
    "grid_fit = grid_obj.fit(X, y)"
   ]
  },
  {
   "cell_type": "code",
   "execution_count": 323,
   "metadata": {
    "colab": {
     "base_uri": "https://localhost:8080/"
    },
    "id": "yWrHQjNwpoYX",
    "outputId": "0e2a1e7a-604b-4594-dcb5-245e35d6dd59"
   },
   "outputs": [
    {
     "data": {
      "text/plain": [
       "ElasticNet(alpha=0.1)"
      ]
     },
     "execution_count": 323,
     "metadata": {},
     "output_type": "execute_result"
    }
   ],
   "source": [
    "# Get the best estimator\n",
    "best_reg = grid_fit.best_estimator_\n",
    "\n",
    "# Fit the new model and check the parameters for the best result based on the scorer\n",
    "best_reg.fit(X_train, y_train)"
   ]
  },
  {
   "cell_type": "code",
   "execution_count": 324,
   "metadata": {
    "colab": {
     "base_uri": "https://localhost:8080/"
    },
    "id": "u81uxrRapoYX",
    "outputId": "da875255-7b0e-49ca-d521-297685fbd8eb"
   },
   "outputs": [
    {
     "data": {
      "text/plain": [
       "0.5714321743943702"
      ]
     },
     "execution_count": 324,
     "metadata": {},
     "output_type": "execute_result"
    }
   ],
   "source": [
    "best_reg.score(X_test, y_test)"
   ]
  },
  {
   "cell_type": "markdown",
   "metadata": {
    "id": "Z7_Qm1Ka68gx"
   },
   "source": [
    "Hyperparameter optimizing for RandomForestRegressor()"
   ]
  },
  {
   "cell_type": "code",
   "execution_count": 325,
   "metadata": {
    "id": "6BkpgSMgpoYX"
   },
   "outputs": [],
   "source": [
    "model_rf = RandomForestRegressor()"
   ]
  },
  {
   "cell_type": "code",
   "execution_count": 326,
   "metadata": {
    "id": "fydO7LyQpoYY"
   },
   "outputs": [],
   "source": [
    "params_rf = {\"bootstrap\": [True, False],\n",
    " \"max_depth\": [10, 20, None],\n",
    " \"min_samples_split\": [2, 5, 10],\n",
    " \"n_estimators\": [25, 50],\n",
    " \"max_features\": [\"auto\", \"log2\", \"sqrt\"],}"
   ]
  },
  {
   "cell_type": "code",
   "execution_count": 327,
   "metadata": {
    "id": "kQyyQSAZpoYY"
   },
   "outputs": [],
   "source": [
    "# Perform grid search on the classifier using 'scorer' as the scoring method.\n",
    "grid_obj = GridSearchCV(model_rf, params_rf, scoring=scorer)"
   ]
  },
  {
   "cell_type": "code",
   "execution_count": 328,
   "metadata": {
    "id": "DbQ3akFQpoYY"
   },
   "outputs": [],
   "source": [
    "grid_fit = grid_obj.fit(X, y)"
   ]
  },
  {
   "cell_type": "code",
   "execution_count": 330,
   "metadata": {
    "colab": {
     "base_uri": "https://localhost:8080/"
    },
    "id": "aXZbM5itpoYY",
    "outputId": "63e9fc8b-8669-4873-8c53-db3951180257"
   },
   "outputs": [
    {
     "data": {
      "text/plain": [
       "RandomForestRegressor(max_depth=20, max_features='sqrt', min_samples_split=10,\n",
       "                      n_estimators=50)"
      ]
     },
     "execution_count": 330,
     "metadata": {},
     "output_type": "execute_result"
    }
   ],
   "source": [
    "# Get the estimator\n",
    "best_reg = grid_fit.best_estimator_\n",
    "\n",
    "# Fit the new model\n",
    "best_reg.fit(X_train, y_train)"
   ]
  },
  {
   "cell_type": "code",
   "execution_count": 331,
   "metadata": {
    "colab": {
     "base_uri": "https://localhost:8080/"
    },
    "id": "eabE2L6zpoYY",
    "outputId": "c457f111-5969-4fdd-ca41-f70f2df74ab4"
   },
   "outputs": [
    {
     "data": {
      "text/plain": [
       "0.9027929626014585"
      ]
     },
     "execution_count": 331,
     "metadata": {},
     "output_type": "execute_result"
    }
   ],
   "source": [
    "best_reg.score(X_test, y_test)\n"
   ]
  },
  {
   "cell_type": "markdown",
   "metadata": {
    "id": "eb2_diG37N8_"
   },
   "source": [
    "Hyperparameter optimizing for XGBRegressor()"
   ]
  },
  {
   "cell_type": "code",
   "execution_count": 332,
   "metadata": {
    "id": "apxgW1Awpm7u"
   },
   "outputs": [],
   "source": [
    "# Use the model xgb, add the argument \"objective ='reg:squarederror'\" in order to \n",
    "# not get numerous warning error messages about a deprecated obj \"reg:linear\"\n",
    "model_xgb = XGBRegressor(objective ='reg:squarederror')"
   ]
  },
  {
   "cell_type": "code",
   "execution_count": 333,
   "metadata": {
    "id": "NCHtatESpm5s"
   },
   "outputs": [],
   "source": [
    "params_xgb = {\"subsample\": [0.6, 0.8, 1.0],\n",
    "              \"n_estimators\": [80, 90, 100, 110, 120],\n",
    "              \"n_jobs\": [1, 2],\n",
    "              \"colsample_bytree\": [0.6, 0.8, 1.0],\n",
    "              \"max_depth\": [3, 4, 5]}"
   ]
  },
  {
   "cell_type": "code",
   "execution_count": 334,
   "metadata": {
    "id": "sPuW7YRFpm3N"
   },
   "outputs": [],
   "source": [
    "grid_obj = GridSearchCV(model_xgb, params_xgb, scoring=scorer)"
   ]
  },
  {
   "cell_type": "code",
   "execution_count": 335,
   "metadata": {
    "id": "hHJ8Haz5pm0J"
   },
   "outputs": [],
   "source": [
    "grid_fit = grid_obj.fit(X, y)"
   ]
  },
  {
   "cell_type": "code",
   "execution_count": 336,
   "metadata": {
    "colab": {
     "base_uri": "https://localhost:8080/"
    },
    "id": "XpoTryK4pmxV",
    "outputId": "e409290a-8a52-4fde-983c-c72936448c27"
   },
   "outputs": [
    {
     "data": {
      "text/plain": [
       "XGBRegressor(base_score=0.5, booster='gbtree', colsample_bylevel=1,\n",
       "             colsample_bynode=1, colsample_bytree=1.0, enable_categorical=False,\n",
       "             gamma=0, gpu_id=-1, importance_type=None,\n",
       "             interaction_constraints='', learning_rate=0.300000012,\n",
       "             max_delta_step=0, max_depth=3, min_child_weight=1, missing=nan,\n",
       "             monotone_constraints='()', n_estimators=80, n_jobs=1,\n",
       "             num_parallel_tree=1, predictor='auto', random_state=0, reg_alpha=0,\n",
       "             reg_lambda=1, scale_pos_weight=1, subsample=0.8,\n",
       "             tree_method='exact', validate_parameters=1, verbosity=None)"
      ]
     },
     "execution_count": 336,
     "metadata": {},
     "output_type": "execute_result"
    }
   ],
   "source": [
    "# Get the estimator.\n",
    "best_reg = grid_fit.best_estimator_\n",
    "\n",
    "# Fit the new model.\n",
    "best_reg.fit(X_train, y_train)"
   ]
  },
  {
   "cell_type": "code",
   "execution_count": 337,
   "metadata": {
    "colab": {
     "base_uri": "https://localhost:8080/"
    },
    "id": "fgKjrt80pmoL",
    "outputId": "fb613d5c-27fc-4be9-82e7-ffa71ec6c5e8"
   },
   "outputs": [
    {
     "data": {
      "text/plain": [
       "0.8867495241222023"
      ]
     },
     "execution_count": 337,
     "metadata": {},
     "output_type": "execute_result"
    }
   ],
   "source": [
    "best_reg.score(X_test, y_test)"
   ]
  },
  {
   "cell_type": "markdown",
   "metadata": {
    "id": "5H6pVJKrn5lI"
   },
   "source": [
    "Hypertuning has worked for all three models, which scored highers than before tuning. Overall, the scores indicate that the model is relatively good at predicting the total sales of NFTs"
   ]
  }
 ],
 "metadata": {
  "colab": {
   "name": "Master Notebook",
   "provenance": []
  },
  "kernelspec": {
   "display_name": "Python 3 (ipykernel)",
   "language": "python",
   "name": "python3"
  },
  "language_info": {
   "codemirror_mode": {
    "name": "ipython",
    "version": 3
   },
   "file_extension": ".py",
   "mimetype": "text/x-python",
   "name": "python",
   "nbconvert_exporter": "python",
   "pygments_lexer": "ipython3",
   "version": "3.8.8"
  }
 },
 "nbformat": 4,
 "nbformat_minor": 1
}
